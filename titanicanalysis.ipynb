{
 "cells": [
  {
   "cell_type": "code",
   "execution_count": 1,
   "id": "caroline-characteristic",
   "metadata": {
    "execution": {
     "iopub.execute_input": "2021-06-14T14:04:52.853171Z",
     "iopub.status.busy": "2021-06-14T14:04:52.852033Z",
     "iopub.status.idle": "2021-06-14T14:04:52.855323Z",
     "shell.execute_reply": "2021-06-14T14:04:52.855896Z",
     "shell.execute_reply.started": "2021-06-14T14:03:43.167384Z"
    },
    "papermill": {
     "duration": 0.053039,
     "end_time": "2021-06-14T14:04:52.856155",
     "exception": false,
     "start_time": "2021-06-14T14:04:52.803116",
     "status": "completed"
    },
    "tags": []
   },
   "outputs": [],
   "source": [
    "import numpy as np \n",
    "import pandas as pd"
   ]
  },
  {
   "cell_type": "code",
   "execution_count": 2,
   "id": "italian-neutral",
   "metadata": {
    "execution": {
     "iopub.execute_input": "2021-06-14T14:04:52.946445Z",
     "iopub.status.busy": "2021-06-14T14:04:52.945811Z",
     "iopub.status.idle": "2021-06-14T14:04:52.968187Z",
     "shell.execute_reply": "2021-06-14T14:04:52.968726Z",
     "shell.execute_reply.started": "2021-06-14T14:03:43.184717Z"
    },
    "papermill": {
     "duration": 0.068805,
     "end_time": "2021-06-14T14:04:52.968924",
     "exception": false,
     "start_time": "2021-06-14T14:04:52.900119",
     "status": "completed"
    },
    "tags": []
   },
   "outputs": [],
   "source": [
    "titanic=pd.read_csv('tested.csv')"
   ]
  },
  {
   "cell_type": "code",
   "execution_count": 3,
   "id": "informed-illness",
   "metadata": {
    "execution": {
     "iopub.execute_input": "2021-06-14T14:04:53.059170Z",
     "iopub.status.busy": "2021-06-14T14:04:53.058531Z",
     "iopub.status.idle": "2021-06-14T14:04:53.096194Z",
     "shell.execute_reply": "2021-06-14T14:04:53.096714Z",
     "shell.execute_reply.started": "2021-06-14T14:03:43.224478Z"
    },
    "papermill": {
     "duration": 0.084408,
     "end_time": "2021-06-14T14:04:53.096897",
     "exception": false,
     "start_time": "2021-06-14T14:04:53.012489",
     "status": "completed"
    },
    "tags": []
   },
   "outputs": [
    {
     "data": {
      "text/html": [
       "<div>\n",
       "<style scoped>\n",
       "    .dataframe tbody tr th:only-of-type {\n",
       "        vertical-align: middle;\n",
       "    }\n",
       "\n",
       "    .dataframe tbody tr th {\n",
       "        vertical-align: top;\n",
       "    }\n",
       "\n",
       "    .dataframe thead th {\n",
       "        text-align: right;\n",
       "    }\n",
       "</style>\n",
       "<table border=\"1\" class=\"dataframe\">\n",
       "  <thead>\n",
       "    <tr style=\"text-align: right;\">\n",
       "      <th></th>\n",
       "      <th>PassengerId</th>\n",
       "      <th>Survived</th>\n",
       "      <th>Pclass</th>\n",
       "      <th>Name</th>\n",
       "      <th>Sex</th>\n",
       "      <th>Age</th>\n",
       "      <th>SibSp</th>\n",
       "      <th>Parch</th>\n",
       "      <th>Ticket</th>\n",
       "      <th>Fare</th>\n",
       "      <th>Cabin</th>\n",
       "      <th>Embarked</th>\n",
       "    </tr>\n",
       "  </thead>\n",
       "  <tbody>\n",
       "    <tr>\n",
       "      <th>0</th>\n",
       "      <td>892</td>\n",
       "      <td>0</td>\n",
       "      <td>3</td>\n",
       "      <td>Kelly, Mr. James</td>\n",
       "      <td>male</td>\n",
       "      <td>34.5</td>\n",
       "      <td>0</td>\n",
       "      <td>0</td>\n",
       "      <td>330911</td>\n",
       "      <td>7.8292</td>\n",
       "      <td>NaN</td>\n",
       "      <td>Q</td>\n",
       "    </tr>\n",
       "    <tr>\n",
       "      <th>1</th>\n",
       "      <td>893</td>\n",
       "      <td>1</td>\n",
       "      <td>3</td>\n",
       "      <td>Wilkes, Mrs. James (Ellen Needs)</td>\n",
       "      <td>female</td>\n",
       "      <td>47.0</td>\n",
       "      <td>1</td>\n",
       "      <td>0</td>\n",
       "      <td>363272</td>\n",
       "      <td>7.0000</td>\n",
       "      <td>NaN</td>\n",
       "      <td>S</td>\n",
       "    </tr>\n",
       "    <tr>\n",
       "      <th>2</th>\n",
       "      <td>894</td>\n",
       "      <td>0</td>\n",
       "      <td>2</td>\n",
       "      <td>Myles, Mr. Thomas Francis</td>\n",
       "      <td>male</td>\n",
       "      <td>62.0</td>\n",
       "      <td>0</td>\n",
       "      <td>0</td>\n",
       "      <td>240276</td>\n",
       "      <td>9.6875</td>\n",
       "      <td>NaN</td>\n",
       "      <td>Q</td>\n",
       "    </tr>\n",
       "    <tr>\n",
       "      <th>3</th>\n",
       "      <td>895</td>\n",
       "      <td>0</td>\n",
       "      <td>3</td>\n",
       "      <td>Wirz, Mr. Albert</td>\n",
       "      <td>male</td>\n",
       "      <td>27.0</td>\n",
       "      <td>0</td>\n",
       "      <td>0</td>\n",
       "      <td>315154</td>\n",
       "      <td>8.6625</td>\n",
       "      <td>NaN</td>\n",
       "      <td>S</td>\n",
       "    </tr>\n",
       "    <tr>\n",
       "      <th>4</th>\n",
       "      <td>896</td>\n",
       "      <td>1</td>\n",
       "      <td>3</td>\n",
       "      <td>Hirvonen, Mrs. Alexander (Helga E Lindqvist)</td>\n",
       "      <td>female</td>\n",
       "      <td>22.0</td>\n",
       "      <td>1</td>\n",
       "      <td>1</td>\n",
       "      <td>3101298</td>\n",
       "      <td>12.2875</td>\n",
       "      <td>NaN</td>\n",
       "      <td>S</td>\n",
       "    </tr>\n",
       "  </tbody>\n",
       "</table>\n",
       "</div>"
      ],
      "text/plain": [
       "   PassengerId  Survived  Pclass  \\\n",
       "0          892         0       3   \n",
       "1          893         1       3   \n",
       "2          894         0       2   \n",
       "3          895         0       3   \n",
       "4          896         1       3   \n",
       "\n",
       "                                           Name     Sex   Age  SibSp  Parch  \\\n",
       "0                              Kelly, Mr. James    male  34.5      0      0   \n",
       "1              Wilkes, Mrs. James (Ellen Needs)  female  47.0      1      0   \n",
       "2                     Myles, Mr. Thomas Francis    male  62.0      0      0   \n",
       "3                              Wirz, Mr. Albert    male  27.0      0      0   \n",
       "4  Hirvonen, Mrs. Alexander (Helga E Lindqvist)  female  22.0      1      1   \n",
       "\n",
       "    Ticket     Fare Cabin Embarked  \n",
       "0   330911   7.8292   NaN        Q  \n",
       "1   363272   7.0000   NaN        S  \n",
       "2   240276   9.6875   NaN        Q  \n",
       "3   315154   8.6625   NaN        S  \n",
       "4  3101298  12.2875   NaN        S  "
      ]
     },
     "execution_count": 3,
     "metadata": {},
     "output_type": "execute_result"
    }
   ],
   "source": [
    "titanic.head()"
   ]
  },
  {
   "cell_type": "code",
   "execution_count": 4,
   "id": "mechanical-valentine",
   "metadata": {
    "execution": {
     "iopub.execute_input": "2021-06-14T14:04:53.189123Z",
     "iopub.status.busy": "2021-06-14T14:04:53.188488Z",
     "iopub.status.idle": "2021-06-14T14:04:53.204370Z",
     "shell.execute_reply": "2021-06-14T14:04:53.203876Z",
     "shell.execute_reply.started": "2021-06-14T14:03:43.243017Z"
    },
    "papermill": {
     "duration": 0.06279,
     "end_time": "2021-06-14T14:04:53.204511",
     "exception": false,
     "start_time": "2021-06-14T14:04:53.141721",
     "status": "completed"
    },
    "tags": []
   },
   "outputs": [
    {
     "data": {
      "text/html": [
       "<div>\n",
       "<style scoped>\n",
       "    .dataframe tbody tr th:only-of-type {\n",
       "        vertical-align: middle;\n",
       "    }\n",
       "\n",
       "    .dataframe tbody tr th {\n",
       "        vertical-align: top;\n",
       "    }\n",
       "\n",
       "    .dataframe thead th {\n",
       "        text-align: right;\n",
       "    }\n",
       "</style>\n",
       "<table border=\"1\" class=\"dataframe\">\n",
       "  <thead>\n",
       "    <tr style=\"text-align: right;\">\n",
       "      <th></th>\n",
       "      <th>PassengerId</th>\n",
       "      <th>Survived</th>\n",
       "      <th>Pclass</th>\n",
       "      <th>Name</th>\n",
       "      <th>Sex</th>\n",
       "      <th>Age</th>\n",
       "      <th>SibSp</th>\n",
       "      <th>Parch</th>\n",
       "      <th>Ticket</th>\n",
       "      <th>Fare</th>\n",
       "      <th>Cabin</th>\n",
       "      <th>Embarked</th>\n",
       "    </tr>\n",
       "  </thead>\n",
       "  <tbody>\n",
       "    <tr>\n",
       "      <th>413</th>\n",
       "      <td>1305</td>\n",
       "      <td>0</td>\n",
       "      <td>3</td>\n",
       "      <td>Spector, Mr. Woolf</td>\n",
       "      <td>male</td>\n",
       "      <td>NaN</td>\n",
       "      <td>0</td>\n",
       "      <td>0</td>\n",
       "      <td>A.5. 3236</td>\n",
       "      <td>8.0500</td>\n",
       "      <td>NaN</td>\n",
       "      <td>S</td>\n",
       "    </tr>\n",
       "    <tr>\n",
       "      <th>414</th>\n",
       "      <td>1306</td>\n",
       "      <td>1</td>\n",
       "      <td>1</td>\n",
       "      <td>Oliva y Ocana, Dona. Fermina</td>\n",
       "      <td>female</td>\n",
       "      <td>39.0</td>\n",
       "      <td>0</td>\n",
       "      <td>0</td>\n",
       "      <td>PC 17758</td>\n",
       "      <td>108.9000</td>\n",
       "      <td>C105</td>\n",
       "      <td>C</td>\n",
       "    </tr>\n",
       "    <tr>\n",
       "      <th>415</th>\n",
       "      <td>1307</td>\n",
       "      <td>0</td>\n",
       "      <td>3</td>\n",
       "      <td>Saether, Mr. Simon Sivertsen</td>\n",
       "      <td>male</td>\n",
       "      <td>38.5</td>\n",
       "      <td>0</td>\n",
       "      <td>0</td>\n",
       "      <td>SOTON/O.Q. 3101262</td>\n",
       "      <td>7.2500</td>\n",
       "      <td>NaN</td>\n",
       "      <td>S</td>\n",
       "    </tr>\n",
       "    <tr>\n",
       "      <th>416</th>\n",
       "      <td>1308</td>\n",
       "      <td>0</td>\n",
       "      <td>3</td>\n",
       "      <td>Ware, Mr. Frederick</td>\n",
       "      <td>male</td>\n",
       "      <td>NaN</td>\n",
       "      <td>0</td>\n",
       "      <td>0</td>\n",
       "      <td>359309</td>\n",
       "      <td>8.0500</td>\n",
       "      <td>NaN</td>\n",
       "      <td>S</td>\n",
       "    </tr>\n",
       "    <tr>\n",
       "      <th>417</th>\n",
       "      <td>1309</td>\n",
       "      <td>0</td>\n",
       "      <td>3</td>\n",
       "      <td>Peter, Master. Michael J</td>\n",
       "      <td>male</td>\n",
       "      <td>NaN</td>\n",
       "      <td>1</td>\n",
       "      <td>1</td>\n",
       "      <td>2668</td>\n",
       "      <td>22.3583</td>\n",
       "      <td>NaN</td>\n",
       "      <td>C</td>\n",
       "    </tr>\n",
       "  </tbody>\n",
       "</table>\n",
       "</div>"
      ],
      "text/plain": [
       "     PassengerId  Survived  Pclass                          Name     Sex  \\\n",
       "413         1305         0       3            Spector, Mr. Woolf    male   \n",
       "414         1306         1       1  Oliva y Ocana, Dona. Fermina  female   \n",
       "415         1307         0       3  Saether, Mr. Simon Sivertsen    male   \n",
       "416         1308         0       3           Ware, Mr. Frederick    male   \n",
       "417         1309         0       3      Peter, Master. Michael J    male   \n",
       "\n",
       "      Age  SibSp  Parch              Ticket      Fare Cabin Embarked  \n",
       "413   NaN      0      0           A.5. 3236    8.0500   NaN        S  \n",
       "414  39.0      0      0            PC 17758  108.9000  C105        C  \n",
       "415  38.5      0      0  SOTON/O.Q. 3101262    7.2500   NaN        S  \n",
       "416   NaN      0      0              359309    8.0500   NaN        S  \n",
       "417   NaN      1      1                2668   22.3583   NaN        C  "
      ]
     },
     "execution_count": 4,
     "metadata": {},
     "output_type": "execute_result"
    }
   ],
   "source": [
    "titanic.tail()"
   ]
  },
  {
   "cell_type": "code",
   "execution_count": 5,
   "id": "irish-chester",
   "metadata": {
    "execution": {
     "iopub.execute_input": "2021-06-14T14:04:53.296191Z",
     "iopub.status.busy": "2021-06-14T14:04:53.295534Z",
     "iopub.status.idle": "2021-06-14T14:04:53.313367Z",
     "shell.execute_reply": "2021-06-14T14:04:53.313836Z",
     "shell.execute_reply.started": "2021-06-14T14:03:43.261399Z"
    },
    "papermill": {
     "duration": 0.065142,
     "end_time": "2021-06-14T14:04:53.314015",
     "exception": false,
     "start_time": "2021-06-14T14:04:53.248873",
     "status": "completed"
    },
    "tags": []
   },
   "outputs": [
    {
     "name": "stdout",
     "output_type": "stream",
     "text": [
      "<class 'pandas.core.frame.DataFrame'>\n",
      "RangeIndex: 418 entries, 0 to 417\n",
      "Data columns (total 12 columns):\n",
      " #   Column       Non-Null Count  Dtype  \n",
      "---  ------       --------------  -----  \n",
      " 0   PassengerId  418 non-null    int64  \n",
      " 1   Survived     418 non-null    int64  \n",
      " 2   Pclass       418 non-null    int64  \n",
      " 3   Name         418 non-null    object \n",
      " 4   Sex          418 non-null    object \n",
      " 5   Age          332 non-null    float64\n",
      " 6   SibSp        418 non-null    int64  \n",
      " 7   Parch        418 non-null    int64  \n",
      " 8   Ticket       418 non-null    object \n",
      " 9   Fare         417 non-null    float64\n",
      " 10  Cabin        91 non-null     object \n",
      " 11  Embarked     418 non-null    object \n",
      "dtypes: float64(2), int64(5), object(5)\n",
      "memory usage: 39.3+ KB\n"
     ]
    }
   ],
   "source": [
    "titanic.info()"
   ]
  },
  {
   "cell_type": "code",
   "execution_count": 6,
   "id": "united-commodity",
   "metadata": {
    "execution": {
     "iopub.execute_input": "2021-06-14T14:04:53.411855Z",
     "iopub.status.busy": "2021-06-14T14:04:53.411171Z",
     "iopub.status.idle": "2021-06-14T14:04:53.414720Z",
     "shell.execute_reply": "2021-06-14T14:04:53.415272Z",
     "shell.execute_reply.started": "2021-06-14T14:03:43.285791Z"
    },
    "papermill": {
     "duration": 0.055948,
     "end_time": "2021-06-14T14:04:53.415443",
     "exception": false,
     "start_time": "2021-06-14T14:04:53.359495",
     "status": "completed"
    },
    "tags": []
   },
   "outputs": [
    {
     "data": {
      "text/plain": [
       "418"
      ]
     },
     "execution_count": 6,
     "metadata": {},
     "output_type": "execute_result"
    }
   ],
   "source": [
    "# total passengers\n",
    "titanic['PassengerId'].nunique()"
   ]
  },
  {
   "cell_type": "code",
   "execution_count": 7,
   "id": "blond-prayer",
   "metadata": {
    "execution": {
     "iopub.execute_input": "2021-06-14T14:04:53.509676Z",
     "iopub.status.busy": "2021-06-14T14:04:53.509046Z",
     "iopub.status.idle": "2021-06-14T14:04:53.543854Z",
     "shell.execute_reply": "2021-06-14T14:04:53.544339Z",
     "shell.execute_reply.started": "2021-06-14T14:03:43.292859Z"
    },
    "papermill": {
     "duration": 0.083941,
     "end_time": "2021-06-14T14:04:53.544527",
     "exception": false,
     "start_time": "2021-06-14T14:04:53.460586",
     "status": "completed"
    },
    "tags": []
   },
   "outputs": [
    {
     "data": {
      "text/html": [
       "<div>\n",
       "<style scoped>\n",
       "    .dataframe tbody tr th:only-of-type {\n",
       "        vertical-align: middle;\n",
       "    }\n",
       "\n",
       "    .dataframe tbody tr th {\n",
       "        vertical-align: top;\n",
       "    }\n",
       "\n",
       "    .dataframe thead th {\n",
       "        text-align: right;\n",
       "    }\n",
       "</style>\n",
       "<table border=\"1\" class=\"dataframe\">\n",
       "  <thead>\n",
       "    <tr style=\"text-align: right;\">\n",
       "      <th></th>\n",
       "      <th>PassengerId</th>\n",
       "      <th>Name</th>\n",
       "      <th>Sex</th>\n",
       "      <th>Age</th>\n",
       "      <th>Pclass</th>\n",
       "    </tr>\n",
       "  </thead>\n",
       "  <tbody>\n",
       "    <tr>\n",
       "      <th>1</th>\n",
       "      <td>893</td>\n",
       "      <td>Wilkes, Mrs. James (Ellen Needs)</td>\n",
       "      <td>female</td>\n",
       "      <td>47.0</td>\n",
       "      <td>3</td>\n",
       "    </tr>\n",
       "    <tr>\n",
       "      <th>4</th>\n",
       "      <td>896</td>\n",
       "      <td>Hirvonen, Mrs. Alexander (Helga E Lindqvist)</td>\n",
       "      <td>female</td>\n",
       "      <td>22.0</td>\n",
       "      <td>3</td>\n",
       "    </tr>\n",
       "    <tr>\n",
       "      <th>6</th>\n",
       "      <td>898</td>\n",
       "      <td>Connolly, Miss. Kate</td>\n",
       "      <td>female</td>\n",
       "      <td>30.0</td>\n",
       "      <td>3</td>\n",
       "    </tr>\n",
       "    <tr>\n",
       "      <th>8</th>\n",
       "      <td>900</td>\n",
       "      <td>Abrahim, Mrs. Joseph (Sophie Halaut Easu)</td>\n",
       "      <td>female</td>\n",
       "      <td>18.0</td>\n",
       "      <td>3</td>\n",
       "    </tr>\n",
       "    <tr>\n",
       "      <th>12</th>\n",
       "      <td>904</td>\n",
       "      <td>Snyder, Mrs. John Pillsbury (Nelle Stevenson)</td>\n",
       "      <td>female</td>\n",
       "      <td>23.0</td>\n",
       "      <td>1</td>\n",
       "    </tr>\n",
       "    <tr>\n",
       "      <th>...</th>\n",
       "      <td>...</td>\n",
       "      <td>...</td>\n",
       "      <td>...</td>\n",
       "      <td>...</td>\n",
       "      <td>...</td>\n",
       "    </tr>\n",
       "    <tr>\n",
       "      <th>409</th>\n",
       "      <td>1301</td>\n",
       "      <td>Peacock, Miss. Treasteall</td>\n",
       "      <td>female</td>\n",
       "      <td>3.0</td>\n",
       "      <td>3</td>\n",
       "    </tr>\n",
       "    <tr>\n",
       "      <th>410</th>\n",
       "      <td>1302</td>\n",
       "      <td>Naughton, Miss. Hannah</td>\n",
       "      <td>female</td>\n",
       "      <td>NaN</td>\n",
       "      <td>3</td>\n",
       "    </tr>\n",
       "    <tr>\n",
       "      <th>411</th>\n",
       "      <td>1303</td>\n",
       "      <td>Minahan, Mrs. William Edward (Lillian E Thorpe)</td>\n",
       "      <td>female</td>\n",
       "      <td>37.0</td>\n",
       "      <td>1</td>\n",
       "    </tr>\n",
       "    <tr>\n",
       "      <th>412</th>\n",
       "      <td>1304</td>\n",
       "      <td>Henriksson, Miss. Jenny Lovisa</td>\n",
       "      <td>female</td>\n",
       "      <td>28.0</td>\n",
       "      <td>3</td>\n",
       "    </tr>\n",
       "    <tr>\n",
       "      <th>414</th>\n",
       "      <td>1306</td>\n",
       "      <td>Oliva y Ocana, Dona. Fermina</td>\n",
       "      <td>female</td>\n",
       "      <td>39.0</td>\n",
       "      <td>1</td>\n",
       "    </tr>\n",
       "  </tbody>\n",
       "</table>\n",
       "<p>152 rows × 5 columns</p>\n",
       "</div>"
      ],
      "text/plain": [
       "     PassengerId                                             Name     Sex  \\\n",
       "1            893                 Wilkes, Mrs. James (Ellen Needs)  female   \n",
       "4            896     Hirvonen, Mrs. Alexander (Helga E Lindqvist)  female   \n",
       "6            898                             Connolly, Miss. Kate  female   \n",
       "8            900        Abrahim, Mrs. Joseph (Sophie Halaut Easu)  female   \n",
       "12           904    Snyder, Mrs. John Pillsbury (Nelle Stevenson)  female   \n",
       "..           ...                                              ...     ...   \n",
       "409         1301                        Peacock, Miss. Treasteall  female   \n",
       "410         1302                           Naughton, Miss. Hannah  female   \n",
       "411         1303  Minahan, Mrs. William Edward (Lillian E Thorpe)  female   \n",
       "412         1304                   Henriksson, Miss. Jenny Lovisa  female   \n",
       "414         1306                     Oliva y Ocana, Dona. Fermina  female   \n",
       "\n",
       "      Age  Pclass  \n",
       "1    47.0       3  \n",
       "4    22.0       3  \n",
       "6    30.0       3  \n",
       "8    18.0       3  \n",
       "12   23.0       1  \n",
       "..    ...     ...  \n",
       "409   3.0       3  \n",
       "410   NaN       3  \n",
       "411  37.0       1  \n",
       "412  28.0       3  \n",
       "414  39.0       1  \n",
       "\n",
       "[152 rows x 5 columns]"
      ]
     },
     "execution_count": 7,
     "metadata": {},
     "output_type": "execute_result"
    }
   ],
   "source": [
    "# passengers who survived\n",
    "titanic[titanic['Survived']==1][['PassengerId','Name','Sex','Age','Pclass']]"
   ]
  },
  {
   "cell_type": "code",
   "execution_count": 8,
   "id": "employed-reply",
   "metadata": {
    "execution": {
     "iopub.execute_input": "2021-06-14T14:04:53.645631Z",
     "iopub.status.busy": "2021-06-14T14:04:53.644835Z",
     "iopub.status.idle": "2021-06-14T14:04:53.649174Z",
     "shell.execute_reply": "2021-06-14T14:04:53.648481Z",
     "shell.execute_reply.started": "2021-06-14T14:03:43.318365Z"
    },
    "papermill": {
     "duration": 0.058859,
     "end_time": "2021-06-14T14:04:53.649319",
     "exception": false,
     "start_time": "2021-06-14T14:04:53.590460",
     "status": "completed"
    },
    "tags": []
   },
   "outputs": [
    {
     "data": {
      "text/plain": [
       "152"
      ]
     },
     "execution_count": 8,
     "metadata": {},
     "output_type": "execute_result"
    }
   ],
   "source": [
    "# total passengers survived\n",
    "titanic[titanic['Survived']==1]['PassengerId'].nunique()"
   ]
  },
  {
   "cell_type": "code",
   "execution_count": 9,
   "id": "worth-jaguar",
   "metadata": {
    "execution": {
     "iopub.execute_input": "2021-06-14T14:04:53.750238Z",
     "iopub.status.busy": "2021-06-14T14:04:53.749247Z",
     "iopub.status.idle": "2021-06-14T14:04:53.753923Z",
     "shell.execute_reply": "2021-06-14T14:04:53.753366Z",
     "shell.execute_reply.started": "2021-06-14T14:03:43.333056Z"
    },
    "papermill": {
     "duration": 0.05809,
     "end_time": "2021-06-14T14:04:53.754057",
     "exception": false,
     "start_time": "2021-06-14T14:04:53.695967",
     "status": "completed"
    },
    "tags": []
   },
   "outputs": [
    {
     "data": {
      "text/plain": [
       "266"
      ]
     },
     "execution_count": 9,
     "metadata": {},
     "output_type": "execute_result"
    }
   ],
   "source": [
    "# total male passengers in the ship\n",
    "titanic[titanic['Sex']=='male']['PassengerId'].nunique()"
   ]
  },
  {
   "cell_type": "code",
   "execution_count": 10,
   "id": "limited-ridge",
   "metadata": {
    "execution": {
     "iopub.execute_input": "2021-06-14T14:04:53.850245Z",
     "iopub.status.busy": "2021-06-14T14:04:53.849298Z",
     "iopub.status.idle": "2021-06-14T14:04:53.857012Z",
     "shell.execute_reply": "2021-06-14T14:04:53.857511Z",
     "shell.execute_reply.started": "2021-06-14T14:03:43.353822Z"
    },
    "papermill": {
     "duration": 0.057302,
     "end_time": "2021-06-14T14:04:53.857683",
     "exception": false,
     "start_time": "2021-06-14T14:04:53.800381",
     "status": "completed"
    },
    "tags": []
   },
   "outputs": [
    {
     "data": {
      "text/plain": [
       "0"
      ]
     },
     "execution_count": 10,
     "metadata": {},
     "output_type": "execute_result"
    }
   ],
   "source": [
    "# total male passengers survived\n",
    "titanic[(titanic['Sex']=='male')&(titanic['Survived']==1)]['PassengerId'].nunique()"
   ]
  },
  {
   "cell_type": "code",
   "execution_count": 11,
   "id": "outer-stomach",
   "metadata": {
    "execution": {
     "iopub.execute_input": "2021-06-14T14:04:53.958547Z",
     "iopub.status.busy": "2021-06-14T14:04:53.957790Z",
     "iopub.status.idle": "2021-06-14T14:04:53.960690Z",
     "shell.execute_reply": "2021-06-14T14:04:53.961184Z",
     "shell.execute_reply.started": "2021-06-14T14:03:43.366321Z"
    },
    "papermill": {
     "duration": 0.056893,
     "end_time": "2021-06-14T14:04:53.961352",
     "exception": false,
     "start_time": "2021-06-14T14:04:53.904459",
     "status": "completed"
    },
    "tags": []
   },
   "outputs": [
    {
     "data": {
      "text/plain": [
       "152"
      ]
     },
     "execution_count": 11,
     "metadata": {},
     "output_type": "execute_result"
    }
   ],
   "source": [
    "# total female passengers in the ship\n",
    "titanic[titanic['Sex']=='female']['PassengerId'].nunique()"
   ]
  },
  {
   "cell_type": "code",
   "execution_count": 12,
   "id": "immediate-stanford",
   "metadata": {
    "execution": {
     "iopub.execute_input": "2021-06-14T14:04:54.060196Z",
     "iopub.status.busy": "2021-06-14T14:04:54.059247Z",
     "iopub.status.idle": "2021-06-14T14:04:54.066565Z",
     "shell.execute_reply": "2021-06-14T14:04:54.067068Z",
     "shell.execute_reply.started": "2021-06-14T14:03:43.379630Z"
    },
    "papermill": {
     "duration": 0.058443,
     "end_time": "2021-06-14T14:04:54.067269",
     "exception": false,
     "start_time": "2021-06-14T14:04:54.008826",
     "status": "completed"
    },
    "tags": []
   },
   "outputs": [
    {
     "data": {
      "text/plain": [
       "152"
      ]
     },
     "execution_count": 12,
     "metadata": {},
     "output_type": "execute_result"
    }
   ],
   "source": [
    "# total female passengers survived\n",
    "titanic[(titanic['Sex']=='female')&(titanic['Survived']==1)]['PassengerId'].nunique()"
   ]
  },
  {
   "cell_type": "code",
   "execution_count": 13,
   "id": "sticky-management",
   "metadata": {
    "execution": {
     "iopub.execute_input": "2021-06-14T14:04:54.166534Z",
     "iopub.status.busy": "2021-06-14T14:04:54.165836Z",
     "iopub.status.idle": "2021-06-14T14:04:54.177962Z",
     "shell.execute_reply": "2021-06-14T14:04:54.178406Z",
     "shell.execute_reply.started": "2021-06-14T14:03:43.393110Z"
    },
    "papermill": {
     "duration": 0.06305,
     "end_time": "2021-06-14T14:04:54.178594",
     "exception": false,
     "start_time": "2021-06-14T14:04:54.115544",
     "status": "completed"
    },
    "tags": []
   },
   "outputs": [
    {
     "data": {
      "text/html": [
       "<div>\n",
       "<style scoped>\n",
       "    .dataframe tbody tr th:only-of-type {\n",
       "        vertical-align: middle;\n",
       "    }\n",
       "\n",
       "    .dataframe tbody tr th {\n",
       "        vertical-align: top;\n",
       "    }\n",
       "\n",
       "    .dataframe thead th {\n",
       "        text-align: right;\n",
       "    }\n",
       "</style>\n",
       "<table border=\"1\" class=\"dataframe\">\n",
       "  <thead>\n",
       "    <tr style=\"text-align: right;\">\n",
       "      <th></th>\n",
       "      <th>PassengerId</th>\n",
       "      <th>Name</th>\n",
       "      <th>Age</th>\n",
       "      <th>Sex</th>\n",
       "    </tr>\n",
       "  </thead>\n",
       "  <tbody>\n",
       "    <tr>\n",
       "      <th>354</th>\n",
       "      <td>1246</td>\n",
       "      <td>Dean, Miss. Elizabeth Gladys Millvina\"\"</td>\n",
       "      <td>0.17</td>\n",
       "      <td>female</td>\n",
       "    </tr>\n",
       "  </tbody>\n",
       "</table>\n",
       "</div>"
      ],
      "text/plain": [
       "     PassengerId                                     Name   Age     Sex\n",
       "354         1246  Dean, Miss. Elizabeth Gladys Millvina\"\"  0.17  female"
      ]
     },
     "execution_count": 13,
     "metadata": {},
     "output_type": "execute_result"
    }
   ],
   "source": [
    "# min age passenger to survive\n",
    "titanic[(titanic['Survived']==1)&(titanic['Age']==titanic['Age'].min())][['PassengerId','Name','Age','Sex']]"
   ]
  },
  {
   "cell_type": "code",
   "execution_count": 14,
   "id": "bulgarian-impact",
   "metadata": {
    "execution": {
     "iopub.execute_input": "2021-06-14T14:04:54.278059Z",
     "iopub.status.busy": "2021-06-14T14:04:54.277437Z",
     "iopub.status.idle": "2021-06-14T14:04:54.289752Z",
     "shell.execute_reply": "2021-06-14T14:04:54.289226Z",
     "shell.execute_reply.started": "2021-06-14T14:03:43.415090Z"
    },
    "papermill": {
     "duration": 0.062887,
     "end_time": "2021-06-14T14:04:54.289910",
     "exception": false,
     "start_time": "2021-06-14T14:04:54.227023",
     "status": "completed"
    },
    "tags": []
   },
   "outputs": [
    {
     "data": {
      "text/html": [
       "<div>\n",
       "<style scoped>\n",
       "    .dataframe tbody tr th:only-of-type {\n",
       "        vertical-align: middle;\n",
       "    }\n",
       "\n",
       "    .dataframe tbody tr th {\n",
       "        vertical-align: top;\n",
       "    }\n",
       "\n",
       "    .dataframe thead th {\n",
       "        text-align: right;\n",
       "    }\n",
       "</style>\n",
       "<table border=\"1\" class=\"dataframe\">\n",
       "  <thead>\n",
       "    <tr style=\"text-align: right;\">\n",
       "      <th></th>\n",
       "      <th>PassengerId</th>\n",
       "      <th>Name</th>\n",
       "      <th>Age</th>\n",
       "      <th>Sex</th>\n",
       "    </tr>\n",
       "  </thead>\n",
       "  <tbody>\n",
       "    <tr>\n",
       "      <th>96</th>\n",
       "      <td>988</td>\n",
       "      <td>Cavendish, Mrs. Tyrell William (Julia Florence...</td>\n",
       "      <td>76.0</td>\n",
       "      <td>female</td>\n",
       "    </tr>\n",
       "  </tbody>\n",
       "</table>\n",
       "</div>"
      ],
      "text/plain": [
       "    PassengerId                                               Name   Age  \\\n",
       "96          988  Cavendish, Mrs. Tyrell William (Julia Florence...  76.0   \n",
       "\n",
       "       Sex  \n",
       "96  female  "
      ]
     },
     "execution_count": 14,
     "metadata": {},
     "output_type": "execute_result"
    }
   ],
   "source": [
    "# max age passenger to survive\n",
    "titanic[(titanic['Survived']==1)&(titanic['Age']==titanic['Age'].max())][['PassengerId','Name','Age','Sex']]"
   ]
  },
  {
   "cell_type": "code",
   "execution_count": 15,
   "id": "seven-delay",
   "metadata": {
    "execution": {
     "iopub.execute_input": "2021-06-14T14:04:54.401468Z",
     "iopub.status.busy": "2021-06-14T14:04:54.400734Z",
     "iopub.status.idle": "2021-06-14T14:04:54.405258Z",
     "shell.execute_reply": "2021-06-14T14:04:54.404701Z",
     "shell.execute_reply.started": "2021-06-14T14:03:43.434875Z"
    },
    "papermill": {
     "duration": 0.066913,
     "end_time": "2021-06-14T14:04:54.405397",
     "exception": false,
     "start_time": "2021-06-14T14:04:54.338484",
     "status": "completed"
    },
    "tags": []
   },
   "outputs": [
    {
     "data": {
      "text/html": [
       "<div>\n",
       "<style scoped>\n",
       "    .dataframe tbody tr th:only-of-type {\n",
       "        vertical-align: middle;\n",
       "    }\n",
       "\n",
       "    .dataframe tbody tr th {\n",
       "        vertical-align: top;\n",
       "    }\n",
       "\n",
       "    .dataframe thead th {\n",
       "        text-align: right;\n",
       "    }\n",
       "</style>\n",
       "<table border=\"1\" class=\"dataframe\">\n",
       "  <thead>\n",
       "    <tr style=\"text-align: right;\">\n",
       "      <th></th>\n",
       "      <th>PassengerId</th>\n",
       "      <th>Name</th>\n",
       "      <th>Sex</th>\n",
       "      <th>Age</th>\n",
       "      <th>Fare</th>\n",
       "      <th>Survived</th>\n",
       "      <th>Pclass</th>\n",
       "    </tr>\n",
       "  </thead>\n",
       "  <tbody>\n",
       "    <tr>\n",
       "      <th>343</th>\n",
       "      <td>1235</td>\n",
       "      <td>Cardeza, Mrs. James Warburton Martinez (Charlo...</td>\n",
       "      <td>female</td>\n",
       "      <td>58.0</td>\n",
       "      <td>512.3292</td>\n",
       "      <td>1</td>\n",
       "      <td>1</td>\n",
       "    </tr>\n",
       "  </tbody>\n",
       "</table>\n",
       "</div>"
      ],
      "text/plain": [
       "     PassengerId                                               Name     Sex  \\\n",
       "343         1235  Cardeza, Mrs. James Warburton Martinez (Charlo...  female   \n",
       "\n",
       "      Age      Fare  Survived  Pclass  \n",
       "343  58.0  512.3292         1       1  "
      ]
     },
     "execution_count": 15,
     "metadata": {},
     "output_type": "execute_result"
    }
   ],
   "source": [
    "# richest person on ship\n",
    "titanic[titanic['Fare']==titanic['Fare'].max()][['PassengerId','Name','Sex','Age','Fare','Survived','Pclass']]"
   ]
  },
  {
   "cell_type": "code",
   "execution_count": 16,
   "id": "virgin-trading",
   "metadata": {
    "execution": {
     "iopub.execute_input": "2021-06-14T14:04:54.520192Z",
     "iopub.status.busy": "2021-06-14T14:04:54.519521Z",
     "iopub.status.idle": "2021-06-14T14:04:54.524178Z",
     "shell.execute_reply": "2021-06-14T14:04:54.523634Z",
     "shell.execute_reply.started": "2021-06-14T14:03:43.459698Z"
    },
    "papermill": {
     "duration": 0.07019,
     "end_time": "2021-06-14T14:04:54.524311",
     "exception": false,
     "start_time": "2021-06-14T14:04:54.454121",
     "status": "completed"
    },
    "tags": []
   },
   "outputs": [
    {
     "data": {
      "text/html": [
       "<div>\n",
       "<style scoped>\n",
       "    .dataframe tbody tr th:only-of-type {\n",
       "        vertical-align: middle;\n",
       "    }\n",
       "\n",
       "    .dataframe tbody tr th {\n",
       "        vertical-align: top;\n",
       "    }\n",
       "\n",
       "    .dataframe thead th {\n",
       "        text-align: right;\n",
       "    }\n",
       "</style>\n",
       "<table border=\"1\" class=\"dataframe\">\n",
       "  <thead>\n",
       "    <tr style=\"text-align: right;\">\n",
       "      <th></th>\n",
       "      <th>PassengerId</th>\n",
       "      <th>Survived</th>\n",
       "      <th>Pclass</th>\n",
       "      <th>Name</th>\n",
       "      <th>Sex</th>\n",
       "      <th>Age</th>\n",
       "      <th>SibSp</th>\n",
       "      <th>Parch</th>\n",
       "      <th>Ticket</th>\n",
       "      <th>Fare</th>\n",
       "      <th>Cabin</th>\n",
       "      <th>Embarked</th>\n",
       "    </tr>\n",
       "  </thead>\n",
       "  <tbody>\n",
       "    <tr>\n",
       "      <th>0</th>\n",
       "      <td>892</td>\n",
       "      <td>0</td>\n",
       "      <td>3</td>\n",
       "      <td>Kelly, Mr. James</td>\n",
       "      <td>male</td>\n",
       "      <td>34.5</td>\n",
       "      <td>0</td>\n",
       "      <td>0</td>\n",
       "      <td>330911</td>\n",
       "      <td>7.8292</td>\n",
       "      <td>NaN</td>\n",
       "      <td>Q</td>\n",
       "    </tr>\n",
       "    <tr>\n",
       "      <th>1</th>\n",
       "      <td>893</td>\n",
       "      <td>1</td>\n",
       "      <td>3</td>\n",
       "      <td>Wilkes, Mrs. James (Ellen Needs)</td>\n",
       "      <td>female</td>\n",
       "      <td>47.0</td>\n",
       "      <td>1</td>\n",
       "      <td>0</td>\n",
       "      <td>363272</td>\n",
       "      <td>7.0000</td>\n",
       "      <td>NaN</td>\n",
       "      <td>S</td>\n",
       "    </tr>\n",
       "    <tr>\n",
       "      <th>2</th>\n",
       "      <td>894</td>\n",
       "      <td>0</td>\n",
       "      <td>2</td>\n",
       "      <td>Myles, Mr. Thomas Francis</td>\n",
       "      <td>male</td>\n",
       "      <td>62.0</td>\n",
       "      <td>0</td>\n",
       "      <td>0</td>\n",
       "      <td>240276</td>\n",
       "      <td>9.6875</td>\n",
       "      <td>NaN</td>\n",
       "      <td>Q</td>\n",
       "    </tr>\n",
       "    <tr>\n",
       "      <th>3</th>\n",
       "      <td>895</td>\n",
       "      <td>0</td>\n",
       "      <td>3</td>\n",
       "      <td>Wirz, Mr. Albert</td>\n",
       "      <td>male</td>\n",
       "      <td>27.0</td>\n",
       "      <td>0</td>\n",
       "      <td>0</td>\n",
       "      <td>315154</td>\n",
       "      <td>8.6625</td>\n",
       "      <td>NaN</td>\n",
       "      <td>S</td>\n",
       "    </tr>\n",
       "    <tr>\n",
       "      <th>4</th>\n",
       "      <td>896</td>\n",
       "      <td>1</td>\n",
       "      <td>3</td>\n",
       "      <td>Hirvonen, Mrs. Alexander (Helga E Lindqvist)</td>\n",
       "      <td>female</td>\n",
       "      <td>22.0</td>\n",
       "      <td>1</td>\n",
       "      <td>1</td>\n",
       "      <td>3101298</td>\n",
       "      <td>12.2875</td>\n",
       "      <td>NaN</td>\n",
       "      <td>S</td>\n",
       "    </tr>\n",
       "  </tbody>\n",
       "</table>\n",
       "</div>"
      ],
      "text/plain": [
       "   PassengerId  Survived  Pclass  \\\n",
       "0          892         0       3   \n",
       "1          893         1       3   \n",
       "2          894         0       2   \n",
       "3          895         0       3   \n",
       "4          896         1       3   \n",
       "\n",
       "                                           Name     Sex   Age  SibSp  Parch  \\\n",
       "0                              Kelly, Mr. James    male  34.5      0      0   \n",
       "1              Wilkes, Mrs. James (Ellen Needs)  female  47.0      1      0   \n",
       "2                     Myles, Mr. Thomas Francis    male  62.0      0      0   \n",
       "3                              Wirz, Mr. Albert    male  27.0      0      0   \n",
       "4  Hirvonen, Mrs. Alexander (Helga E Lindqvist)  female  22.0      1      1   \n",
       "\n",
       "    Ticket     Fare Cabin Embarked  \n",
       "0   330911   7.8292   NaN        Q  \n",
       "1   363272   7.0000   NaN        S  \n",
       "2   240276   9.6875   NaN        Q  \n",
       "3   315154   8.6625   NaN        S  \n",
       "4  3101298  12.2875   NaN        S  "
      ]
     },
     "execution_count": 16,
     "metadata": {},
     "output_type": "execute_result"
    }
   ],
   "source": [
    "titanic.head()"
   ]
  },
  {
   "cell_type": "code",
   "execution_count": 17,
   "id": "remarkable-reset",
   "metadata": {
    "execution": {
     "iopub.execute_input": "2021-06-14T14:04:54.633739Z",
     "iopub.status.busy": "2021-06-14T14:04:54.632999Z",
     "iopub.status.idle": "2021-06-14T14:04:54.636307Z",
     "shell.execute_reply": "2021-06-14T14:04:54.635824Z",
     "shell.execute_reply.started": "2021-06-14T14:03:43.481340Z"
    },
    "papermill": {
     "duration": 0.062952,
     "end_time": "2021-06-14T14:04:54.636443",
     "exception": false,
     "start_time": "2021-06-14T14:04:54.573491",
     "status": "completed"
    },
    "tags": []
   },
   "outputs": [],
   "source": [
    "survived_map = {0: 'No', 1: 'Yes'}\n",
    "titanic['Survived'] = titanic['Survived'].map(survived_map)\n",
    "\n",
    "# PClass map\n",
    "pclass_map = {1: 'Upper Class', 2: 'Middle Class', 3: 'Lower Class'}\n",
    "titanic['Pclass'] = titanic['Pclass'].map(pclass_map)\n",
    "\n",
    "# Embarkation port map\n",
    "port_map = {'S': 'Southampton', 'C': 'Cherbourg','Q':'Queenstown'}\n",
    "titanic['Embarked'] = titanic['Embarked'].map(port_map)"
   ]
  },
  {
   "cell_type": "code",
   "execution_count": 18,
   "id": "lightweight-jesus",
   "metadata": {
    "execution": {
     "iopub.execute_input": "2021-06-14T14:04:54.752185Z",
     "iopub.status.busy": "2021-06-14T14:04:54.751123Z",
     "iopub.status.idle": "2021-06-14T14:04:54.755916Z",
     "shell.execute_reply": "2021-06-14T14:04:54.755385Z",
     "shell.execute_reply.started": "2021-06-14T14:03:43.494001Z"
    },
    "papermill": {
     "duration": 0.070778,
     "end_time": "2021-06-14T14:04:54.756055",
     "exception": false,
     "start_time": "2021-06-14T14:04:54.685277",
     "status": "completed"
    },
    "tags": []
   },
   "outputs": [
    {
     "data": {
      "text/html": [
       "<div>\n",
       "<style scoped>\n",
       "    .dataframe tbody tr th:only-of-type {\n",
       "        vertical-align: middle;\n",
       "    }\n",
       "\n",
       "    .dataframe tbody tr th {\n",
       "        vertical-align: top;\n",
       "    }\n",
       "\n",
       "    .dataframe thead th {\n",
       "        text-align: right;\n",
       "    }\n",
       "</style>\n",
       "<table border=\"1\" class=\"dataframe\">\n",
       "  <thead>\n",
       "    <tr style=\"text-align: right;\">\n",
       "      <th></th>\n",
       "      <th>PassengerId</th>\n",
       "      <th>Survived</th>\n",
       "      <th>Pclass</th>\n",
       "      <th>Name</th>\n",
       "      <th>Sex</th>\n",
       "      <th>Age</th>\n",
       "      <th>SibSp</th>\n",
       "      <th>Parch</th>\n",
       "      <th>Ticket</th>\n",
       "      <th>Fare</th>\n",
       "      <th>Cabin</th>\n",
       "      <th>Embarked</th>\n",
       "    </tr>\n",
       "  </thead>\n",
       "  <tbody>\n",
       "    <tr>\n",
       "      <th>0</th>\n",
       "      <td>892</td>\n",
       "      <td>No</td>\n",
       "      <td>Lower Class</td>\n",
       "      <td>Kelly, Mr. James</td>\n",
       "      <td>male</td>\n",
       "      <td>34.5</td>\n",
       "      <td>0</td>\n",
       "      <td>0</td>\n",
       "      <td>330911</td>\n",
       "      <td>7.8292</td>\n",
       "      <td>NaN</td>\n",
       "      <td>Queenstown</td>\n",
       "    </tr>\n",
       "    <tr>\n",
       "      <th>1</th>\n",
       "      <td>893</td>\n",
       "      <td>Yes</td>\n",
       "      <td>Lower Class</td>\n",
       "      <td>Wilkes, Mrs. James (Ellen Needs)</td>\n",
       "      <td>female</td>\n",
       "      <td>47.0</td>\n",
       "      <td>1</td>\n",
       "      <td>0</td>\n",
       "      <td>363272</td>\n",
       "      <td>7.0000</td>\n",
       "      <td>NaN</td>\n",
       "      <td>Southampton</td>\n",
       "    </tr>\n",
       "    <tr>\n",
       "      <th>2</th>\n",
       "      <td>894</td>\n",
       "      <td>No</td>\n",
       "      <td>Middle Class</td>\n",
       "      <td>Myles, Mr. Thomas Francis</td>\n",
       "      <td>male</td>\n",
       "      <td>62.0</td>\n",
       "      <td>0</td>\n",
       "      <td>0</td>\n",
       "      <td>240276</td>\n",
       "      <td>9.6875</td>\n",
       "      <td>NaN</td>\n",
       "      <td>Queenstown</td>\n",
       "    </tr>\n",
       "    <tr>\n",
       "      <th>3</th>\n",
       "      <td>895</td>\n",
       "      <td>No</td>\n",
       "      <td>Lower Class</td>\n",
       "      <td>Wirz, Mr. Albert</td>\n",
       "      <td>male</td>\n",
       "      <td>27.0</td>\n",
       "      <td>0</td>\n",
       "      <td>0</td>\n",
       "      <td>315154</td>\n",
       "      <td>8.6625</td>\n",
       "      <td>NaN</td>\n",
       "      <td>Southampton</td>\n",
       "    </tr>\n",
       "    <tr>\n",
       "      <th>4</th>\n",
       "      <td>896</td>\n",
       "      <td>Yes</td>\n",
       "      <td>Lower Class</td>\n",
       "      <td>Hirvonen, Mrs. Alexander (Helga E Lindqvist)</td>\n",
       "      <td>female</td>\n",
       "      <td>22.0</td>\n",
       "      <td>1</td>\n",
       "      <td>1</td>\n",
       "      <td>3101298</td>\n",
       "      <td>12.2875</td>\n",
       "      <td>NaN</td>\n",
       "      <td>Southampton</td>\n",
       "    </tr>\n",
       "  </tbody>\n",
       "</table>\n",
       "</div>"
      ],
      "text/plain": [
       "   PassengerId Survived        Pclass  \\\n",
       "0          892       No   Lower Class   \n",
       "1          893      Yes   Lower Class   \n",
       "2          894       No  Middle Class   \n",
       "3          895       No   Lower Class   \n",
       "4          896      Yes   Lower Class   \n",
       "\n",
       "                                           Name     Sex   Age  SibSp  Parch  \\\n",
       "0                              Kelly, Mr. James    male  34.5      0      0   \n",
       "1              Wilkes, Mrs. James (Ellen Needs)  female  47.0      1      0   \n",
       "2                     Myles, Mr. Thomas Francis    male  62.0      0      0   \n",
       "3                              Wirz, Mr. Albert    male  27.0      0      0   \n",
       "4  Hirvonen, Mrs. Alexander (Helga E Lindqvist)  female  22.0      1      1   \n",
       "\n",
       "    Ticket     Fare Cabin     Embarked  \n",
       "0   330911   7.8292   NaN   Queenstown  \n",
       "1   363272   7.0000   NaN  Southampton  \n",
       "2   240276   9.6875   NaN   Queenstown  \n",
       "3   315154   8.6625   NaN  Southampton  \n",
       "4  3101298  12.2875   NaN  Southampton  "
      ]
     },
     "execution_count": 18,
     "metadata": {},
     "output_type": "execute_result"
    }
   ],
   "source": [
    "titanic.head()"
   ]
  },
  {
   "cell_type": "code",
   "execution_count": 19,
   "id": "rolled-metro",
   "metadata": {
    "execution": {
     "iopub.execute_input": "2021-06-14T14:04:54.862755Z",
     "iopub.status.busy": "2021-06-14T14:04:54.862037Z",
     "iopub.status.idle": "2021-06-14T14:04:54.865178Z",
     "shell.execute_reply": "2021-06-14T14:04:54.864634Z",
     "shell.execute_reply.started": "2021-06-14T14:03:43.521878Z"
    },
    "papermill": {
     "duration": 0.059128,
     "end_time": "2021-06-14T14:04:54.865319",
     "exception": false,
     "start_time": "2021-06-14T14:04:54.806191",
     "status": "completed"
    },
    "tags": []
   },
   "outputs": [],
   "source": [
    "# remove ticket and cabin columns\n",
    "titanic.drop(['Ticket','Cabin'],axis=1,inplace=True)"
   ]
  },
  {
   "cell_type": "code",
   "execution_count": 20,
   "id": "duplicate-literature",
   "metadata": {
    "execution": {
     "iopub.execute_input": "2021-06-14T14:04:54.987297Z",
     "iopub.status.busy": "2021-06-14T14:04:54.986264Z",
     "iopub.status.idle": "2021-06-14T14:04:54.990807Z",
     "shell.execute_reply": "2021-06-14T14:04:54.990169Z",
     "shell.execute_reply.started": "2021-06-14T14:03:43.532620Z"
    },
    "papermill": {
     "duration": 0.075845,
     "end_time": "2021-06-14T14:04:54.990948",
     "exception": false,
     "start_time": "2021-06-14T14:04:54.915103",
     "status": "completed"
    },
    "tags": []
   },
   "outputs": [
    {
     "data": {
      "text/html": [
       "<div>\n",
       "<style scoped>\n",
       "    .dataframe tbody tr th:only-of-type {\n",
       "        vertical-align: middle;\n",
       "    }\n",
       "\n",
       "    .dataframe tbody tr th {\n",
       "        vertical-align: top;\n",
       "    }\n",
       "\n",
       "    .dataframe thead th {\n",
       "        text-align: right;\n",
       "    }\n",
       "</style>\n",
       "<table border=\"1\" class=\"dataframe\">\n",
       "  <thead>\n",
       "    <tr style=\"text-align: right;\">\n",
       "      <th></th>\n",
       "      <th>PassengerId</th>\n",
       "      <th>Survived</th>\n",
       "      <th>Pclass</th>\n",
       "      <th>Name</th>\n",
       "      <th>Sex</th>\n",
       "      <th>Age</th>\n",
       "      <th>SibSp</th>\n",
       "      <th>Parch</th>\n",
       "      <th>Fare</th>\n",
       "      <th>Embarked</th>\n",
       "    </tr>\n",
       "  </thead>\n",
       "  <tbody>\n",
       "    <tr>\n",
       "      <th>0</th>\n",
       "      <td>892</td>\n",
       "      <td>No</td>\n",
       "      <td>Lower Class</td>\n",
       "      <td>Kelly, Mr. James</td>\n",
       "      <td>male</td>\n",
       "      <td>34.5</td>\n",
       "      <td>0</td>\n",
       "      <td>0</td>\n",
       "      <td>7.8292</td>\n",
       "      <td>Queenstown</td>\n",
       "    </tr>\n",
       "    <tr>\n",
       "      <th>1</th>\n",
       "      <td>893</td>\n",
       "      <td>Yes</td>\n",
       "      <td>Lower Class</td>\n",
       "      <td>Wilkes, Mrs. James (Ellen Needs)</td>\n",
       "      <td>female</td>\n",
       "      <td>47.0</td>\n",
       "      <td>1</td>\n",
       "      <td>0</td>\n",
       "      <td>7.0000</td>\n",
       "      <td>Southampton</td>\n",
       "    </tr>\n",
       "    <tr>\n",
       "      <th>2</th>\n",
       "      <td>894</td>\n",
       "      <td>No</td>\n",
       "      <td>Middle Class</td>\n",
       "      <td>Myles, Mr. Thomas Francis</td>\n",
       "      <td>male</td>\n",
       "      <td>62.0</td>\n",
       "      <td>0</td>\n",
       "      <td>0</td>\n",
       "      <td>9.6875</td>\n",
       "      <td>Queenstown</td>\n",
       "    </tr>\n",
       "    <tr>\n",
       "      <th>3</th>\n",
       "      <td>895</td>\n",
       "      <td>No</td>\n",
       "      <td>Lower Class</td>\n",
       "      <td>Wirz, Mr. Albert</td>\n",
       "      <td>male</td>\n",
       "      <td>27.0</td>\n",
       "      <td>0</td>\n",
       "      <td>0</td>\n",
       "      <td>8.6625</td>\n",
       "      <td>Southampton</td>\n",
       "    </tr>\n",
       "    <tr>\n",
       "      <th>4</th>\n",
       "      <td>896</td>\n",
       "      <td>Yes</td>\n",
       "      <td>Lower Class</td>\n",
       "      <td>Hirvonen, Mrs. Alexander (Helga E Lindqvist)</td>\n",
       "      <td>female</td>\n",
       "      <td>22.0</td>\n",
       "      <td>1</td>\n",
       "      <td>1</td>\n",
       "      <td>12.2875</td>\n",
       "      <td>Southampton</td>\n",
       "    </tr>\n",
       "  </tbody>\n",
       "</table>\n",
       "</div>"
      ],
      "text/plain": [
       "   PassengerId Survived        Pclass  \\\n",
       "0          892       No   Lower Class   \n",
       "1          893      Yes   Lower Class   \n",
       "2          894       No  Middle Class   \n",
       "3          895       No   Lower Class   \n",
       "4          896      Yes   Lower Class   \n",
       "\n",
       "                                           Name     Sex   Age  SibSp  Parch  \\\n",
       "0                              Kelly, Mr. James    male  34.5      0      0   \n",
       "1              Wilkes, Mrs. James (Ellen Needs)  female  47.0      1      0   \n",
       "2                     Myles, Mr. Thomas Francis    male  62.0      0      0   \n",
       "3                              Wirz, Mr. Albert    male  27.0      0      0   \n",
       "4  Hirvonen, Mrs. Alexander (Helga E Lindqvist)  female  22.0      1      1   \n",
       "\n",
       "      Fare     Embarked  \n",
       "0   7.8292   Queenstown  \n",
       "1   7.0000  Southampton  \n",
       "2   9.6875   Queenstown  \n",
       "3   8.6625  Southampton  \n",
       "4  12.2875  Southampton  "
      ]
     },
     "execution_count": 20,
     "metadata": {},
     "output_type": "execute_result"
    }
   ],
   "source": [
    "titanic.head()"
   ]
  },
  {
   "cell_type": "code",
   "execution_count": 21,
   "id": "secure-limitation",
   "metadata": {
    "execution": {
     "iopub.execute_input": "2021-06-14T14:04:55.098873Z",
     "iopub.status.busy": "2021-06-14T14:04:55.097832Z",
     "iopub.status.idle": "2021-06-14T14:04:55.101230Z",
     "shell.execute_reply": "2021-06-14T14:04:55.100657Z",
     "shell.execute_reply.started": "2021-06-14T14:03:43.552464Z"
    },
    "papermill": {
     "duration": 0.0601,
     "end_time": "2021-06-14T14:04:55.101371",
     "exception": false,
     "start_time": "2021-06-14T14:04:55.041271",
     "status": "completed"
    },
    "tags": []
   },
   "outputs": [],
   "source": [
    "indexNames = titanic[ titanic['Survived'] == 'No' ].index\n",
    "# Delete these row indexes from dataFrame\n",
    "titanic.drop(indexNames,inplace=True)"
   ]
  },
  {
   "cell_type": "code",
   "execution_count": 22,
   "id": "measured-kansas",
   "metadata": {
    "execution": {
     "iopub.execute_input": "2021-06-14T14:04:55.218630Z",
     "iopub.status.busy": "2021-06-14T14:04:55.217806Z",
     "iopub.status.idle": "2021-06-14T14:04:55.221639Z",
     "shell.execute_reply": "2021-06-14T14:04:55.221046Z",
     "shell.execute_reply.started": "2021-06-14T14:03:43.563432Z"
    },
    "papermill": {
     "duration": 0.069242,
     "end_time": "2021-06-14T14:04:55.221791",
     "exception": false,
     "start_time": "2021-06-14T14:04:55.152549",
     "status": "completed"
    },
    "tags": []
   },
   "outputs": [
    {
     "data": {
      "text/html": [
       "<div>\n",
       "<style scoped>\n",
       "    .dataframe tbody tr th:only-of-type {\n",
       "        vertical-align: middle;\n",
       "    }\n",
       "\n",
       "    .dataframe tbody tr th {\n",
       "        vertical-align: top;\n",
       "    }\n",
       "\n",
       "    .dataframe thead th {\n",
       "        text-align: right;\n",
       "    }\n",
       "</style>\n",
       "<table border=\"1\" class=\"dataframe\">\n",
       "  <thead>\n",
       "    <tr style=\"text-align: right;\">\n",
       "      <th></th>\n",
       "      <th>PassengerId</th>\n",
       "      <th>Survived</th>\n",
       "      <th>Pclass</th>\n",
       "      <th>Name</th>\n",
       "      <th>Sex</th>\n",
       "      <th>Age</th>\n",
       "      <th>SibSp</th>\n",
       "      <th>Parch</th>\n",
       "      <th>Fare</th>\n",
       "      <th>Embarked</th>\n",
       "    </tr>\n",
       "  </thead>\n",
       "  <tbody>\n",
       "    <tr>\n",
       "      <th>1</th>\n",
       "      <td>893</td>\n",
       "      <td>Yes</td>\n",
       "      <td>Lower Class</td>\n",
       "      <td>Wilkes, Mrs. James (Ellen Needs)</td>\n",
       "      <td>female</td>\n",
       "      <td>47.0</td>\n",
       "      <td>1</td>\n",
       "      <td>0</td>\n",
       "      <td>7.0000</td>\n",
       "      <td>Southampton</td>\n",
       "    </tr>\n",
       "    <tr>\n",
       "      <th>4</th>\n",
       "      <td>896</td>\n",
       "      <td>Yes</td>\n",
       "      <td>Lower Class</td>\n",
       "      <td>Hirvonen, Mrs. Alexander (Helga E Lindqvist)</td>\n",
       "      <td>female</td>\n",
       "      <td>22.0</td>\n",
       "      <td>1</td>\n",
       "      <td>1</td>\n",
       "      <td>12.2875</td>\n",
       "      <td>Southampton</td>\n",
       "    </tr>\n",
       "    <tr>\n",
       "      <th>6</th>\n",
       "      <td>898</td>\n",
       "      <td>Yes</td>\n",
       "      <td>Lower Class</td>\n",
       "      <td>Connolly, Miss. Kate</td>\n",
       "      <td>female</td>\n",
       "      <td>30.0</td>\n",
       "      <td>0</td>\n",
       "      <td>0</td>\n",
       "      <td>7.6292</td>\n",
       "      <td>Queenstown</td>\n",
       "    </tr>\n",
       "    <tr>\n",
       "      <th>8</th>\n",
       "      <td>900</td>\n",
       "      <td>Yes</td>\n",
       "      <td>Lower Class</td>\n",
       "      <td>Abrahim, Mrs. Joseph (Sophie Halaut Easu)</td>\n",
       "      <td>female</td>\n",
       "      <td>18.0</td>\n",
       "      <td>0</td>\n",
       "      <td>0</td>\n",
       "      <td>7.2292</td>\n",
       "      <td>Cherbourg</td>\n",
       "    </tr>\n",
       "    <tr>\n",
       "      <th>12</th>\n",
       "      <td>904</td>\n",
       "      <td>Yes</td>\n",
       "      <td>Upper Class</td>\n",
       "      <td>Snyder, Mrs. John Pillsbury (Nelle Stevenson)</td>\n",
       "      <td>female</td>\n",
       "      <td>23.0</td>\n",
       "      <td>1</td>\n",
       "      <td>0</td>\n",
       "      <td>82.2667</td>\n",
       "      <td>Southampton</td>\n",
       "    </tr>\n",
       "  </tbody>\n",
       "</table>\n",
       "</div>"
      ],
      "text/plain": [
       "    PassengerId Survived       Pclass  \\\n",
       "1           893      Yes  Lower Class   \n",
       "4           896      Yes  Lower Class   \n",
       "6           898      Yes  Lower Class   \n",
       "8           900      Yes  Lower Class   \n",
       "12          904      Yes  Upper Class   \n",
       "\n",
       "                                             Name     Sex   Age  SibSp  Parch  \\\n",
       "1                Wilkes, Mrs. James (Ellen Needs)  female  47.0      1      0   \n",
       "4    Hirvonen, Mrs. Alexander (Helga E Lindqvist)  female  22.0      1      1   \n",
       "6                            Connolly, Miss. Kate  female  30.0      0      0   \n",
       "8       Abrahim, Mrs. Joseph (Sophie Halaut Easu)  female  18.0      0      0   \n",
       "12  Snyder, Mrs. John Pillsbury (Nelle Stevenson)  female  23.0      1      0   \n",
       "\n",
       "       Fare     Embarked  \n",
       "1    7.0000  Southampton  \n",
       "4   12.2875  Southampton  \n",
       "6    7.6292   Queenstown  \n",
       "8    7.2292    Cherbourg  \n",
       "12  82.2667  Southampton  "
      ]
     },
     "execution_count": 22,
     "metadata": {},
     "output_type": "execute_result"
    }
   ],
   "source": [
    "titanic.head()"
   ]
  },
  {
   "cell_type": "code",
   "execution_count": 23,
   "id": "flush-creativity",
   "metadata": {
    "execution": {
     "iopub.execute_input": "2021-06-14T14:04:55.329464Z",
     "iopub.status.busy": "2021-06-14T14:04:55.328816Z",
     "iopub.status.idle": "2021-06-14T14:04:55.332077Z",
     "shell.execute_reply": "2021-06-14T14:04:55.331493Z",
     "shell.execute_reply.started": "2021-06-14T14:03:43.583501Z"
    },
    "papermill": {
     "duration": 0.059645,
     "end_time": "2021-06-14T14:04:55.332233",
     "exception": false,
     "start_time": "2021-06-14T14:04:55.272588",
     "status": "completed"
    },
    "tags": []
   },
   "outputs": [],
   "source": [
    "# family size\n",
    "titanic['FamilySize'] = titanic['SibSp'] + titanic['Parch']"
   ]
  },
  {
   "cell_type": "code",
   "execution_count": 24,
   "id": "intended-sally",
   "metadata": {
    "execution": {
     "iopub.execute_input": "2021-06-14T14:04:55.452386Z",
     "iopub.status.busy": "2021-06-14T14:04:55.451416Z",
     "iopub.status.idle": "2021-06-14T14:04:55.455953Z",
     "shell.execute_reply": "2021-06-14T14:04:55.455403Z",
     "shell.execute_reply.started": "2021-06-14T14:03:43.590690Z"
    },
    "papermill": {
     "duration": 0.07221,
     "end_time": "2021-06-14T14:04:55.456090",
     "exception": false,
     "start_time": "2021-06-14T14:04:55.383880",
     "status": "completed"
    },
    "tags": []
   },
   "outputs": [
    {
     "data": {
      "text/html": [
       "<div>\n",
       "<style scoped>\n",
       "    .dataframe tbody tr th:only-of-type {\n",
       "        vertical-align: middle;\n",
       "    }\n",
       "\n",
       "    .dataframe tbody tr th {\n",
       "        vertical-align: top;\n",
       "    }\n",
       "\n",
       "    .dataframe thead th {\n",
       "        text-align: right;\n",
       "    }\n",
       "</style>\n",
       "<table border=\"1\" class=\"dataframe\">\n",
       "  <thead>\n",
       "    <tr style=\"text-align: right;\">\n",
       "      <th></th>\n",
       "      <th>PassengerId</th>\n",
       "      <th>Survived</th>\n",
       "      <th>Pclass</th>\n",
       "      <th>Name</th>\n",
       "      <th>Sex</th>\n",
       "      <th>Age</th>\n",
       "      <th>SibSp</th>\n",
       "      <th>Parch</th>\n",
       "      <th>Fare</th>\n",
       "      <th>Embarked</th>\n",
       "      <th>FamilySize</th>\n",
       "    </tr>\n",
       "  </thead>\n",
       "  <tbody>\n",
       "    <tr>\n",
       "      <th>1</th>\n",
       "      <td>893</td>\n",
       "      <td>Yes</td>\n",
       "      <td>Lower Class</td>\n",
       "      <td>Wilkes, Mrs. James (Ellen Needs)</td>\n",
       "      <td>female</td>\n",
       "      <td>47.0</td>\n",
       "      <td>1</td>\n",
       "      <td>0</td>\n",
       "      <td>7.0000</td>\n",
       "      <td>Southampton</td>\n",
       "      <td>1</td>\n",
       "    </tr>\n",
       "    <tr>\n",
       "      <th>4</th>\n",
       "      <td>896</td>\n",
       "      <td>Yes</td>\n",
       "      <td>Lower Class</td>\n",
       "      <td>Hirvonen, Mrs. Alexander (Helga E Lindqvist)</td>\n",
       "      <td>female</td>\n",
       "      <td>22.0</td>\n",
       "      <td>1</td>\n",
       "      <td>1</td>\n",
       "      <td>12.2875</td>\n",
       "      <td>Southampton</td>\n",
       "      <td>2</td>\n",
       "    </tr>\n",
       "    <tr>\n",
       "      <th>6</th>\n",
       "      <td>898</td>\n",
       "      <td>Yes</td>\n",
       "      <td>Lower Class</td>\n",
       "      <td>Connolly, Miss. Kate</td>\n",
       "      <td>female</td>\n",
       "      <td>30.0</td>\n",
       "      <td>0</td>\n",
       "      <td>0</td>\n",
       "      <td>7.6292</td>\n",
       "      <td>Queenstown</td>\n",
       "      <td>0</td>\n",
       "    </tr>\n",
       "    <tr>\n",
       "      <th>8</th>\n",
       "      <td>900</td>\n",
       "      <td>Yes</td>\n",
       "      <td>Lower Class</td>\n",
       "      <td>Abrahim, Mrs. Joseph (Sophie Halaut Easu)</td>\n",
       "      <td>female</td>\n",
       "      <td>18.0</td>\n",
       "      <td>0</td>\n",
       "      <td>0</td>\n",
       "      <td>7.2292</td>\n",
       "      <td>Cherbourg</td>\n",
       "      <td>0</td>\n",
       "    </tr>\n",
       "    <tr>\n",
       "      <th>12</th>\n",
       "      <td>904</td>\n",
       "      <td>Yes</td>\n",
       "      <td>Upper Class</td>\n",
       "      <td>Snyder, Mrs. John Pillsbury (Nelle Stevenson)</td>\n",
       "      <td>female</td>\n",
       "      <td>23.0</td>\n",
       "      <td>1</td>\n",
       "      <td>0</td>\n",
       "      <td>82.2667</td>\n",
       "      <td>Southampton</td>\n",
       "      <td>1</td>\n",
       "    </tr>\n",
       "  </tbody>\n",
       "</table>\n",
       "</div>"
      ],
      "text/plain": [
       "    PassengerId Survived       Pclass  \\\n",
       "1           893      Yes  Lower Class   \n",
       "4           896      Yes  Lower Class   \n",
       "6           898      Yes  Lower Class   \n",
       "8           900      Yes  Lower Class   \n",
       "12          904      Yes  Upper Class   \n",
       "\n",
       "                                             Name     Sex   Age  SibSp  Parch  \\\n",
       "1                Wilkes, Mrs. James (Ellen Needs)  female  47.0      1      0   \n",
       "4    Hirvonen, Mrs. Alexander (Helga E Lindqvist)  female  22.0      1      1   \n",
       "6                            Connolly, Miss. Kate  female  30.0      0      0   \n",
       "8       Abrahim, Mrs. Joseph (Sophie Halaut Easu)  female  18.0      0      0   \n",
       "12  Snyder, Mrs. John Pillsbury (Nelle Stevenson)  female  23.0      1      0   \n",
       "\n",
       "       Fare     Embarked  FamilySize  \n",
       "1    7.0000  Southampton           1  \n",
       "4   12.2875  Southampton           2  \n",
       "6    7.6292   Queenstown           0  \n",
       "8    7.2292    Cherbourg           0  \n",
       "12  82.2667  Southampton           1  "
      ]
     },
     "execution_count": 24,
     "metadata": {},
     "output_type": "execute_result"
    }
   ],
   "source": [
    "titanic.head()"
   ]
  },
  {
   "cell_type": "code",
   "execution_count": 25,
   "id": "intense-orientation",
   "metadata": {
    "execution": {
     "iopub.execute_input": "2021-06-14T14:04:55.568713Z",
     "iopub.status.busy": "2021-06-14T14:04:55.568049Z",
     "iopub.status.idle": "2021-06-14T14:04:55.570785Z",
     "shell.execute_reply": "2021-06-14T14:04:55.570153Z",
     "shell.execute_reply.started": "2021-06-14T14:03:43.613484Z"
    },
    "papermill": {
     "duration": 0.061944,
     "end_time": "2021-06-14T14:04:55.570927",
     "exception": false,
     "start_time": "2021-06-14T14:04:55.508983",
     "status": "completed"
    },
    "tags": []
   },
   "outputs": [],
   "source": [
    "# grouping age\n",
    "age_labels = ['0-9', '10-19', '20-29', '30-39', '40-49', '50-59', '60-69', '70-79']\n",
    "titanic['age_group'] = pd.cut(titanic.Age, range(0, 81, 10), right=False, labels=age_labels)"
   ]
  },
  {
   "cell_type": "code",
   "execution_count": 26,
   "id": "alleged-stream",
   "metadata": {
    "execution": {
     "iopub.execute_input": "2021-06-14T14:04:55.694324Z",
     "iopub.status.busy": "2021-06-14T14:04:55.693293Z",
     "iopub.status.idle": "2021-06-14T14:04:55.697896Z",
     "shell.execute_reply": "2021-06-14T14:04:55.697358Z",
     "shell.execute_reply.started": "2021-06-14T14:03:43.626071Z"
    },
    "papermill": {
     "duration": 0.074624,
     "end_time": "2021-06-14T14:04:55.698035",
     "exception": false,
     "start_time": "2021-06-14T14:04:55.623411",
     "status": "completed"
    },
    "tags": []
   },
   "outputs": [
    {
     "data": {
      "text/html": [
       "<div>\n",
       "<style scoped>\n",
       "    .dataframe tbody tr th:only-of-type {\n",
       "        vertical-align: middle;\n",
       "    }\n",
       "\n",
       "    .dataframe tbody tr th {\n",
       "        vertical-align: top;\n",
       "    }\n",
       "\n",
       "    .dataframe thead th {\n",
       "        text-align: right;\n",
       "    }\n",
       "</style>\n",
       "<table border=\"1\" class=\"dataframe\">\n",
       "  <thead>\n",
       "    <tr style=\"text-align: right;\">\n",
       "      <th></th>\n",
       "      <th>PassengerId</th>\n",
       "      <th>Survived</th>\n",
       "      <th>Pclass</th>\n",
       "      <th>Name</th>\n",
       "      <th>Sex</th>\n",
       "      <th>Age</th>\n",
       "      <th>SibSp</th>\n",
       "      <th>Parch</th>\n",
       "      <th>Fare</th>\n",
       "      <th>Embarked</th>\n",
       "      <th>FamilySize</th>\n",
       "      <th>age_group</th>\n",
       "    </tr>\n",
       "  </thead>\n",
       "  <tbody>\n",
       "    <tr>\n",
       "      <th>1</th>\n",
       "      <td>893</td>\n",
       "      <td>Yes</td>\n",
       "      <td>Lower Class</td>\n",
       "      <td>Wilkes, Mrs. James (Ellen Needs)</td>\n",
       "      <td>female</td>\n",
       "      <td>47.0</td>\n",
       "      <td>1</td>\n",
       "      <td>0</td>\n",
       "      <td>7.0000</td>\n",
       "      <td>Southampton</td>\n",
       "      <td>1</td>\n",
       "      <td>40-49</td>\n",
       "    </tr>\n",
       "    <tr>\n",
       "      <th>4</th>\n",
       "      <td>896</td>\n",
       "      <td>Yes</td>\n",
       "      <td>Lower Class</td>\n",
       "      <td>Hirvonen, Mrs. Alexander (Helga E Lindqvist)</td>\n",
       "      <td>female</td>\n",
       "      <td>22.0</td>\n",
       "      <td>1</td>\n",
       "      <td>1</td>\n",
       "      <td>12.2875</td>\n",
       "      <td>Southampton</td>\n",
       "      <td>2</td>\n",
       "      <td>20-29</td>\n",
       "    </tr>\n",
       "    <tr>\n",
       "      <th>6</th>\n",
       "      <td>898</td>\n",
       "      <td>Yes</td>\n",
       "      <td>Lower Class</td>\n",
       "      <td>Connolly, Miss. Kate</td>\n",
       "      <td>female</td>\n",
       "      <td>30.0</td>\n",
       "      <td>0</td>\n",
       "      <td>0</td>\n",
       "      <td>7.6292</td>\n",
       "      <td>Queenstown</td>\n",
       "      <td>0</td>\n",
       "      <td>30-39</td>\n",
       "    </tr>\n",
       "    <tr>\n",
       "      <th>8</th>\n",
       "      <td>900</td>\n",
       "      <td>Yes</td>\n",
       "      <td>Lower Class</td>\n",
       "      <td>Abrahim, Mrs. Joseph (Sophie Halaut Easu)</td>\n",
       "      <td>female</td>\n",
       "      <td>18.0</td>\n",
       "      <td>0</td>\n",
       "      <td>0</td>\n",
       "      <td>7.2292</td>\n",
       "      <td>Cherbourg</td>\n",
       "      <td>0</td>\n",
       "      <td>10-19</td>\n",
       "    </tr>\n",
       "    <tr>\n",
       "      <th>12</th>\n",
       "      <td>904</td>\n",
       "      <td>Yes</td>\n",
       "      <td>Upper Class</td>\n",
       "      <td>Snyder, Mrs. John Pillsbury (Nelle Stevenson)</td>\n",
       "      <td>female</td>\n",
       "      <td>23.0</td>\n",
       "      <td>1</td>\n",
       "      <td>0</td>\n",
       "      <td>82.2667</td>\n",
       "      <td>Southampton</td>\n",
       "      <td>1</td>\n",
       "      <td>20-29</td>\n",
       "    </tr>\n",
       "  </tbody>\n",
       "</table>\n",
       "</div>"
      ],
      "text/plain": [
       "    PassengerId Survived       Pclass  \\\n",
       "1           893      Yes  Lower Class   \n",
       "4           896      Yes  Lower Class   \n",
       "6           898      Yes  Lower Class   \n",
       "8           900      Yes  Lower Class   \n",
       "12          904      Yes  Upper Class   \n",
       "\n",
       "                                             Name     Sex   Age  SibSp  Parch  \\\n",
       "1                Wilkes, Mrs. James (Ellen Needs)  female  47.0      1      0   \n",
       "4    Hirvonen, Mrs. Alexander (Helga E Lindqvist)  female  22.0      1      1   \n",
       "6                            Connolly, Miss. Kate  female  30.0      0      0   \n",
       "8       Abrahim, Mrs. Joseph (Sophie Halaut Easu)  female  18.0      0      0   \n",
       "12  Snyder, Mrs. John Pillsbury (Nelle Stevenson)  female  23.0      1      0   \n",
       "\n",
       "       Fare     Embarked  FamilySize age_group  \n",
       "1    7.0000  Southampton           1     40-49  \n",
       "4   12.2875  Southampton           2     20-29  \n",
       "6    7.6292   Queenstown           0     30-39  \n",
       "8    7.2292    Cherbourg           0     10-19  \n",
       "12  82.2667  Southampton           1     20-29  "
      ]
     },
     "execution_count": 26,
     "metadata": {},
     "output_type": "execute_result"
    }
   ],
   "source": [
    "titanic.head()"
   ]
  },
  {
   "cell_type": "code",
   "execution_count": 27,
   "id": "visible-metropolitan",
   "metadata": {
    "execution": {
     "iopub.execute_input": "2021-06-14T14:04:55.808381Z",
     "iopub.status.busy": "2021-06-14T14:04:55.807708Z",
     "iopub.status.idle": "2021-06-14T14:04:55.810749Z",
     "shell.execute_reply": "2021-06-14T14:04:55.810173Z",
     "shell.execute_reply.started": "2021-06-14T14:03:43.652202Z"
    },
    "papermill": {
     "duration": 0.060605,
     "end_time": "2021-06-14T14:04:55.810905",
     "exception": false,
     "start_time": "2021-06-14T14:04:55.750300",
     "status": "completed"
    },
    "tags": []
   },
   "outputs": [],
   "source": [
    "titanic.drop(['SibSp','Parch'],axis=1,inplace=True)"
   ]
  },
  {
   "cell_type": "code",
   "execution_count": 28,
   "id": "resistant-seafood",
   "metadata": {
    "execution": {
     "iopub.execute_input": "2021-06-14T14:04:55.923850Z",
     "iopub.status.busy": "2021-06-14T14:04:55.922735Z",
     "iopub.status.idle": "2021-06-14T14:04:55.939013Z",
     "shell.execute_reply": "2021-06-14T14:04:55.938480Z",
     "shell.execute_reply.started": "2021-06-14T14:03:43.665376Z"
    },
    "papermill": {
     "duration": 0.075355,
     "end_time": "2021-06-14T14:04:55.939161",
     "exception": false,
     "start_time": "2021-06-14T14:04:55.863806",
     "status": "completed"
    },
    "tags": []
   },
   "outputs": [
    {
     "data": {
      "text/html": [
       "<div>\n",
       "<style scoped>\n",
       "    .dataframe tbody tr th:only-of-type {\n",
       "        vertical-align: middle;\n",
       "    }\n",
       "\n",
       "    .dataframe tbody tr th {\n",
       "        vertical-align: top;\n",
       "    }\n",
       "\n",
       "    .dataframe thead th {\n",
       "        text-align: right;\n",
       "    }\n",
       "</style>\n",
       "<table border=\"1\" class=\"dataframe\">\n",
       "  <thead>\n",
       "    <tr style=\"text-align: right;\">\n",
       "      <th></th>\n",
       "      <th>PassengerId</th>\n",
       "      <th>Survived</th>\n",
       "      <th>Pclass</th>\n",
       "      <th>Name</th>\n",
       "      <th>Sex</th>\n",
       "      <th>Age</th>\n",
       "      <th>Fare</th>\n",
       "      <th>Embarked</th>\n",
       "      <th>FamilySize</th>\n",
       "      <th>age_group</th>\n",
       "    </tr>\n",
       "  </thead>\n",
       "  <tbody>\n",
       "    <tr>\n",
       "      <th>1</th>\n",
       "      <td>893</td>\n",
       "      <td>Yes</td>\n",
       "      <td>Lower Class</td>\n",
       "      <td>Wilkes, Mrs. James (Ellen Needs)</td>\n",
       "      <td>female</td>\n",
       "      <td>47.0</td>\n",
       "      <td>7.0000</td>\n",
       "      <td>Southampton</td>\n",
       "      <td>1</td>\n",
       "      <td>40-49</td>\n",
       "    </tr>\n",
       "    <tr>\n",
       "      <th>4</th>\n",
       "      <td>896</td>\n",
       "      <td>Yes</td>\n",
       "      <td>Lower Class</td>\n",
       "      <td>Hirvonen, Mrs. Alexander (Helga E Lindqvist)</td>\n",
       "      <td>female</td>\n",
       "      <td>22.0</td>\n",
       "      <td>12.2875</td>\n",
       "      <td>Southampton</td>\n",
       "      <td>2</td>\n",
       "      <td>20-29</td>\n",
       "    </tr>\n",
       "    <tr>\n",
       "      <th>6</th>\n",
       "      <td>898</td>\n",
       "      <td>Yes</td>\n",
       "      <td>Lower Class</td>\n",
       "      <td>Connolly, Miss. Kate</td>\n",
       "      <td>female</td>\n",
       "      <td>30.0</td>\n",
       "      <td>7.6292</td>\n",
       "      <td>Queenstown</td>\n",
       "      <td>0</td>\n",
       "      <td>30-39</td>\n",
       "    </tr>\n",
       "    <tr>\n",
       "      <th>8</th>\n",
       "      <td>900</td>\n",
       "      <td>Yes</td>\n",
       "      <td>Lower Class</td>\n",
       "      <td>Abrahim, Mrs. Joseph (Sophie Halaut Easu)</td>\n",
       "      <td>female</td>\n",
       "      <td>18.0</td>\n",
       "      <td>7.2292</td>\n",
       "      <td>Cherbourg</td>\n",
       "      <td>0</td>\n",
       "      <td>10-19</td>\n",
       "    </tr>\n",
       "    <tr>\n",
       "      <th>12</th>\n",
       "      <td>904</td>\n",
       "      <td>Yes</td>\n",
       "      <td>Upper Class</td>\n",
       "      <td>Snyder, Mrs. John Pillsbury (Nelle Stevenson)</td>\n",
       "      <td>female</td>\n",
       "      <td>23.0</td>\n",
       "      <td>82.2667</td>\n",
       "      <td>Southampton</td>\n",
       "      <td>1</td>\n",
       "      <td>20-29</td>\n",
       "    </tr>\n",
       "  </tbody>\n",
       "</table>\n",
       "</div>"
      ],
      "text/plain": [
       "    PassengerId Survived       Pclass  \\\n",
       "1           893      Yes  Lower Class   \n",
       "4           896      Yes  Lower Class   \n",
       "6           898      Yes  Lower Class   \n",
       "8           900      Yes  Lower Class   \n",
       "12          904      Yes  Upper Class   \n",
       "\n",
       "                                             Name     Sex   Age     Fare  \\\n",
       "1                Wilkes, Mrs. James (Ellen Needs)  female  47.0   7.0000   \n",
       "4    Hirvonen, Mrs. Alexander (Helga E Lindqvist)  female  22.0  12.2875   \n",
       "6                            Connolly, Miss. Kate  female  30.0   7.6292   \n",
       "8       Abrahim, Mrs. Joseph (Sophie Halaut Easu)  female  18.0   7.2292   \n",
       "12  Snyder, Mrs. John Pillsbury (Nelle Stevenson)  female  23.0  82.2667   \n",
       "\n",
       "       Embarked  FamilySize age_group  \n",
       "1   Southampton           1     40-49  \n",
       "4   Southampton           2     20-29  \n",
       "6    Queenstown           0     30-39  \n",
       "8     Cherbourg           0     10-19  \n",
       "12  Southampton           1     20-29  "
      ]
     },
     "execution_count": 28,
     "metadata": {},
     "output_type": "execute_result"
    }
   ],
   "source": [
    "titanic.head()"
   ]
  },
  {
   "cell_type": "code",
   "execution_count": 29,
   "id": "sensitive-universal",
   "metadata": {
    "execution": {
     "iopub.execute_input": "2021-06-14T14:04:56.050039Z",
     "iopub.status.busy": "2021-06-14T14:04:56.049259Z",
     "iopub.status.idle": "2021-06-14T14:04:56.980513Z",
     "shell.execute_reply": "2021-06-14T14:04:56.979522Z",
     "shell.execute_reply.started": "2021-06-14T14:03:43.688975Z"
    },
    "papermill": {
     "duration": 0.9887,
     "end_time": "2021-06-14T14:04:56.980690",
     "exception": false,
     "start_time": "2021-06-14T14:04:55.991990",
     "status": "completed"
    },
    "tags": []
   },
   "outputs": [],
   "source": [
    "import seaborn as sns\n",
    "import matplotlib.pyplot as plt\n",
    "%matplotlib inline"
   ]
  },
  {
   "cell_type": "code",
   "execution_count": 30,
   "id": "comic-google",
   "metadata": {
    "execution": {
     "iopub.execute_input": "2021-06-14T14:04:57.139118Z",
     "iopub.status.busy": "2021-06-14T14:04:57.138388Z",
     "iopub.status.idle": "2021-06-14T14:04:57.300491Z",
     "shell.execute_reply": "2021-06-14T14:04:57.300966Z",
     "shell.execute_reply.started": "2021-06-14T14:03:43.702414Z"
    },
    "papermill": {
     "duration": 0.247577,
     "end_time": "2021-06-14T14:04:57.301139",
     "exception": false,
     "start_time": "2021-06-14T14:04:57.053562",
     "status": "completed"
    },
    "tags": []
   },
   "outputs": [
    {
     "data": {
      "text/plain": [
       "<AxesSubplot:xlabel='age_group', ylabel='count'>"
      ]
     },
     "execution_count": 30,
     "metadata": {},
     "output_type": "execute_result"
    },
    {
     "data": {
      "image/png": "[encoded data removed]",
      "text/plain": [
       "<Figure size 432x288 with 1 Axes>"
      ]
     },
     "metadata": {
      "needs_background": "light"
     },
     "output_type": "display_data"
    }
   ],
   "source": [
    "sns.countplot(x='age_group',data=titanic)"
   ]
  },
  {
   "cell_type": "code",
   "execution_count": 56,
   "id": "favorite-hayes",
   "metadata": {
    "execution": {
     "iopub.execute_input": "2021-06-14T14:04:57.412567Z",
     "iopub.status.busy": "2021-06-14T14:04:57.411795Z",
     "iopub.status.idle": "2021-06-14T14:04:57.614881Z",
     "shell.execute_reply": "2021-06-14T14:04:57.614315Z",
     "shell.execute_reply.started": "2021-06-14T14:03:43.843807Z"
    },
    "papermill": {
     "duration": 0.260693,
     "end_time": "2021-06-14T14:04:57.615036",
     "exception": false,
     "start_time": "2021-06-14T14:04:57.354343",
     "status": "completed"
    },
    "tags": []
   },
   "outputs": [
    {
     "data": {
      "text/plain": [
       "<seaborn.axisgrid.FacetGrid at 0x2750f2d89d0>"
      ]
     },
     "execution_count": 56,
     "metadata": {},
     "output_type": "execute_result"
    },
    {
     "data": {
      "image/png": "[encoded data removed]",
      "text/plain": [
       "<Figure size 360x360 with 1 Axes>"
      ]
     },
     "metadata": {
      "needs_background": "light"
     },
     "output_type": "display_data"
    }
   ],
   "source": [
    "sns.displot(titanic['Fare'],kde=False)"
   ]
  },
  {
   "cell_type": "code",
   "execution_count": 32,
   "id": "exposed-softball",
   "metadata": {
    "execution": {
     "iopub.execute_input": "2021-06-14T14:04:57.756223Z",
     "iopub.status.busy": "2021-06-14T14:04:57.752671Z",
     "iopub.status.idle": "2021-06-14T14:05:00.886696Z",
     "shell.execute_reply": "2021-06-14T14:05:00.887178Z",
     "shell.execute_reply.started": "2021-06-14T14:03:44.020521Z"
    },
    "papermill": {
     "duration": 3.216215,
     "end_time": "2021-06-14T14:05:00.887361",
     "exception": false,
     "start_time": "2021-06-14T14:04:57.671146",
     "status": "completed"
    },
    "tags": []
   },
   "outputs": [
    {
     "data": {
      "text/plain": [
       "<seaborn.axisgrid.PairGrid at 0x27509d51e40>"
      ]
     },
     "execution_count": 32,
     "metadata": {},
     "output_type": "execute_result"
    },
    {
     "data": {
      "image/png": "[encoded data removed]",
      "text/plain": [
       "<Figure size 720x720 with 20 Axes>"
      ]
     },
     "metadata": {
      "needs_background": "light"
     },
     "output_type": "display_data"
    }
   ],
   "source": [
    "sns.pairplot(titanic)"
   ]
  },
  {
   "cell_type": "code",
   "execution_count": 33,
   "id": "happy-insertion",
   "metadata": {
    "execution": {
     "iopub.execute_input": "2021-06-14T14:05:01.030489Z",
     "iopub.status.busy": "2021-06-14T14:05:01.027519Z",
     "iopub.status.idle": "2021-06-14T14:05:01.158551Z",
     "shell.execute_reply": "2021-06-14T14:05:01.159356Z",
     "shell.execute_reply.started": "2021-06-14T14:03:46.858109Z"
    },
    "papermill": {
     "duration": 0.213683,
     "end_time": "2021-06-14T14:05:01.159637",
     "exception": false,
     "start_time": "2021-06-14T14:05:00.945954",
     "status": "completed"
    },
    "tags": []
   },
   "outputs": [
    {
     "data": {
      "text/plain": [
       "<AxesSubplot:xlabel='Fare'>"
      ]
     },
     "execution_count": 33,
     "metadata": {},
     "output_type": "execute_result"
    },
    {
     "data": {
      "image/png": "[encoded data removed]",
      "text/plain": [
       "<Figure size 432x288 with 1 Axes>"
      ]
     },
     "metadata": {
      "needs_background": "light"
     },
     "output_type": "display_data"
    }
   ],
   "source": [
    "sns.rugplot(titanic['Fare'])"
   ]
  },
  {
   "cell_type": "code",
   "execution_count": 34,
   "id": "applied-latino",
   "metadata": {
    "execution": {
     "iopub.execute_input": "2021-06-14T14:05:01.280179Z",
     "iopub.status.busy": "2021-06-14T14:05:01.279510Z",
     "iopub.status.idle": "2021-06-14T14:05:01.491809Z",
     "shell.execute_reply": "2021-06-14T14:05:01.492307Z",
     "shell.execute_reply.started": "2021-06-14T14:03:47.042848Z"
    },
    "papermill": {
     "duration": 0.27384,
     "end_time": "2021-06-14T14:05:01.492480",
     "exception": false,
     "start_time": "2021-06-14T14:05:01.218640",
     "status": "completed"
    },
    "tags": []
   },
   "outputs": [
    {
     "data": {
      "text/plain": [
       "<AxesSubplot:xlabel='Pclass', ylabel='Age'>"
      ]
     },
     "execution_count": 34,
     "metadata": {},
     "output_type": "execute_result"
    },
    {
     "data": {
      "image/png": "[encoded data removed]",
      "text/plain": [
       "<Figure size 432x288 with 1 Axes>"
      ]
     },
     "metadata": {
      "needs_background": "light"
     },
     "output_type": "display_data"
    }
   ],
   "source": [
    "sns.barplot(x='Pclass',y='Age',data=titanic)"
   ]
  },
  {
   "cell_type": "code",
   "execution_count": 35,
   "id": "committed-stocks",
   "metadata": {
    "execution": {
     "iopub.execute_input": "2021-06-14T14:05:01.616513Z",
     "iopub.status.busy": "2021-06-14T14:05:01.615823Z",
     "iopub.status.idle": "2021-06-14T14:05:01.890069Z",
     "shell.execute_reply": "2021-06-14T14:05:01.890556Z",
     "shell.execute_reply.started": "2021-06-14T14:03:47.220727Z"
    },
    "papermill": {
     "duration": 0.33644,
     "end_time": "2021-06-14T14:05:01.890724",
     "exception": false,
     "start_time": "2021-06-14T14:05:01.554284",
     "status": "completed"
    },
    "tags": []
   },
   "outputs": [
    {
     "data": {
      "text/plain": [
       "<AxesSubplot:xlabel='Fare', ylabel='Pclass'>"
      ]
     },
     "execution_count": 35,
     "metadata": {},
     "output_type": "execute_result"
    },
    {
     "data": {
      "image/png": "[encoded data removed]",
      "text/plain": [
       "<Figure size 432x288 with 1 Axes>"
      ]
     },
     "metadata": {
      "needs_background": "light"
     },
     "output_type": "display_data"
    }
   ],
   "source": [
    "sns.barplot(y='Pclass',x='Fare',data=titanic,estimator=np.std)"
   ]
  },
  {
   "cell_type": "code",
   "execution_count": 36,
   "id": "large-regular",
   "metadata": {
    "execution": {
     "iopub.execute_input": "2021-06-14T14:05:02.015259Z",
     "iopub.status.busy": "2021-06-14T14:05:02.014596Z",
     "iopub.status.idle": "2021-06-14T14:05:02.403691Z",
     "shell.execute_reply": "2021-06-14T14:05:02.404242Z",
     "shell.execute_reply.started": "2021-06-14T14:03:47.459096Z"
    },
    "papermill": {
     "duration": 0.453214,
     "end_time": "2021-06-14T14:05:02.404430",
     "exception": false,
     "start_time": "2021-06-14T14:05:01.951216",
     "status": "completed"
    },
    "tags": []
   },
   "outputs": [
    {
     "data": {
      "text/plain": [
       "<AxesSubplot:xlabel='FamilySize', ylabel='age_group'>"
      ]
     },
     "execution_count": 36,
     "metadata": {},
     "output_type": "execute_result"
    },
    {
     "data": {
      "image/png": "[encoded data removed]",
      "text/plain": [
       "<Figure size 432x288 with 1 Axes>"
      ]
     },
     "metadata": {
      "needs_background": "light"
     },
     "output_type": "display_data"
    }
   ],
   "source": [
    "sns.barplot(x='FamilySize',y='age_group',data=titanic)"
   ]
  },
  {
   "cell_type": "code",
   "execution_count": 37,
   "id": "ready-rendering",
   "metadata": {
    "execution": {
     "iopub.execute_input": "2021-06-14T14:05:02.533645Z",
     "iopub.status.busy": "2021-06-14T14:05:02.532953Z",
     "iopub.status.idle": "2021-06-14T14:05:02.903289Z",
     "shell.execute_reply": "2021-06-14T14:05:02.903755Z",
     "shell.execute_reply.started": "2021-06-14T14:03:47.771926Z"
    },
    "papermill": {
     "duration": 0.437227,
     "end_time": "2021-06-14T14:05:02.903959",
     "exception": false,
     "start_time": "2021-06-14T14:05:02.466732",
     "status": "completed"
    },
    "tags": []
   },
   "outputs": [
    {
     "data": {
      "text/plain": [
       "<AxesSubplot:xlabel='Fare', ylabel='age_group'>"
      ]
     },
     "execution_count": 37,
     "metadata": {},
     "output_type": "execute_result"
    },
    {
     "data": {
      "image/png": "[encoded data removed]",
      "text/plain": [
       "<Figure size 432x288 with 1 Axes>"
      ]
     },
     "metadata": {
      "needs_background": "light"
     },
     "output_type": "display_data"
    }
   ],
   "source": [
    "sns.barplot(x='Fare',y='age_group',data=titanic)"
   ]
  },
  {
   "cell_type": "code",
   "execution_count": 38,
   "id": "artificial-success",
   "metadata": {
    "execution": {
     "iopub.execute_input": "2021-06-14T14:05:03.032648Z",
     "iopub.status.busy": "2021-06-14T14:05:03.031939Z",
     "iopub.status.idle": "2021-06-14T14:05:03.279974Z",
     "shell.execute_reply": "2021-06-14T14:05:03.280473Z",
     "shell.execute_reply.started": "2021-06-14T14:03:48.077311Z"
    },
    "papermill": {
     "duration": 0.313927,
     "end_time": "2021-06-14T14:05:03.280644",
     "exception": false,
     "start_time": "2021-06-14T14:05:02.966717",
     "status": "completed"
    },
    "tags": []
   },
   "outputs": [
    {
     "data": {
      "text/plain": [
       "<AxesSubplot:xlabel='age_group', ylabel='Fare'>"
      ]
     },
     "execution_count": 38,
     "metadata": {},
     "output_type": "execute_result"
    },
    {
     "data": {
      "image/png": "[encoded data removed]",
      "text/plain": [
       "<Figure size 432x288 with 1 Axes>"
      ]
     },
     "metadata": {
      "needs_background": "light"
     },
     "output_type": "display_data"
    }
   ],
   "source": [
    "sns.boxplot(x=\"age_group\", y=\"Fare\", data=titanic,palette='rainbow')"
   ]
  },
  {
   "cell_type": "code",
   "execution_count": 39,
   "id": "designing-peninsula",
   "metadata": {
    "execution": {
     "iopub.execute_input": "2021-06-14T14:05:03.428386Z",
     "iopub.status.busy": "2021-06-14T14:05:03.427406Z",
     "iopub.status.idle": "2021-06-14T14:05:03.699614Z",
     "shell.execute_reply": "2021-06-14T14:05:03.700149Z",
     "shell.execute_reply.started": "2021-06-14T14:03:48.294482Z"
    },
    "papermill": {
     "duration": 0.355574,
     "end_time": "2021-06-14T14:05:03.700326",
     "exception": false,
     "start_time": "2021-06-14T14:05:03.344752",
     "status": "completed"
    },
    "tags": []
   },
   "outputs": [
    {
     "data": {
      "text/plain": [
       "<AxesSubplot:xlabel='age_group', ylabel='FamilySize'>"
      ]
     },
     "execution_count": 39,
     "metadata": {},
     "output_type": "execute_result"
    },
    {
     "data": {
      "image/png": "[encoded data removed]",
      "text/plain": [
       "<Figure size 432x288 with 1 Axes>"
      ]
     },
     "metadata": {
      "needs_background": "light"
     },
     "output_type": "display_data"
    }
   ],
   "source": [
    "sns.violinplot(x=\"age_group\", y=\"FamilySize\", data=titanic,palette='rainbow')"
   ]
  },
  {
   "cell_type": "code",
   "execution_count": 40,
   "id": "mathematical-project",
   "metadata": {
    "execution": {
     "iopub.execute_input": "2021-06-14T14:05:03.841317Z",
     "iopub.status.busy": "2021-06-14T14:05:03.840642Z",
     "iopub.status.idle": "2021-06-14T14:05:03.961513Z",
     "shell.execute_reply": "2021-06-14T14:05:03.962030Z",
     "shell.execute_reply.started": "2021-06-14T14:03:48.546819Z"
    },
    "papermill": {
     "duration": 0.196792,
     "end_time": "2021-06-14T14:05:03.962214",
     "exception": false,
     "start_time": "2021-06-14T14:05:03.765422",
     "status": "completed"
    },
    "tags": []
   },
   "outputs": [
    {
     "data": {
      "text/plain": [
       "<AxesSubplot:xlabel='Pclass', ylabel='Fare'>"
      ]
     },
     "execution_count": 40,
     "metadata": {},
     "output_type": "execute_result"
    },
    {
     "data": {
      "image/png": "[encoded data removed]",
      "text/plain": [
       "<Figure size 432x288 with 1 Axes>"
      ]
     },
     "metadata": {
      "needs_background": "light"
     },
     "output_type": "display_data"
    }
   ],
   "source": [
    "sns.stripplot(x=\"Pclass\", y=\"Fare\", data=titanic)"
   ]
  },
  {
   "cell_type": "code",
   "execution_count": 57,
   "id": "rocky-america",
   "metadata": {
    "execution": {
     "iopub.execute_input": "2021-06-14T14:05:04.103884Z",
     "iopub.status.busy": "2021-06-14T14:05:04.103174Z",
     "iopub.status.idle": "2021-06-14T14:05:04.592731Z",
     "shell.execute_reply": "2021-06-14T14:05:04.591370Z",
     "shell.execute_reply.started": "2021-06-14T14:03:48.671275Z"
    },
    "papermill": {
     "duration": 0.564419,
     "end_time": "2021-06-14T14:05:04.592984",
     "exception": false,
     "start_time": "2021-06-14T14:05:04.028565",
     "status": "completed"
    },
    "tags": []
   },
   "outputs": [
    {
     "data": {
      "text/plain": [
       "<AxesSubplot:xlabel='Pclass', ylabel='Fare'>"
      ]
     },
     "execution_count": 57,
     "metadata": {},
     "output_type": "execute_result"
    },
    {
     "data": {
      "image/png": "[encoded data removed]",
      "text/plain": [
       "<Figure size 432x288 with 1 Axes>"
      ]
     },
     "metadata": {
      "needs_background": "light"
     },
     "output_type": "display_data"
    }
   ],
   "source": [
    "sns.stripplot(x=\"Pclass\", y=\"Fare\", data=titanic,hue='Embarked')"
   ]
  },
  {
   "cell_type": "code",
   "execution_count": 42,
   "id": "rapid-depth",
   "metadata": {
    "execution": {
     "iopub.execute_input": "2021-06-14T14:05:04.764560Z",
     "iopub.status.busy": "2021-06-14T14:05:04.745028Z",
     "iopub.status.idle": "2021-06-14T14:05:04.866831Z",
     "shell.execute_reply": "2021-06-14T14:05:04.866278Z",
     "shell.execute_reply.started": "2021-06-14T14:03:49.069273Z"
    },
    "papermill": {
     "duration": 0.199992,
     "end_time": "2021-06-14T14:05:04.866990",
     "exception": false,
     "start_time": "2021-06-14T14:05:04.666998",
     "status": "completed"
    },
    "tags": []
   },
   "outputs": [
    {
     "data": {
      "text/plain": [
       "<AxesSubplot:xlabel='Embarked', ylabel='count'>"
      ]
     },
     "execution_count": 42,
     "metadata": {},
     "output_type": "execute_result"
    },
    {
     "data": {
      "image/png": "[encoded data removed]",
      "text/plain": [
       "<Figure size 432x288 with 1 Axes>"
      ]
     },
     "metadata": {
      "needs_background": "light"
     },
     "output_type": "display_data"
    }
   ],
   "source": [
    "# which area has most number of survivors\n",
    "sns.countplot(x='Embarked',data=titanic)"
   ]
  },
  {
   "cell_type": "code",
   "execution_count": 43,
   "id": "initial-classification",
   "metadata": {
    "execution": {
     "iopub.execute_input": "2021-06-14T14:05:05.017519Z",
     "iopub.status.busy": "2021-06-14T14:05:05.016743Z",
     "iopub.status.idle": "2021-06-14T14:05:05.020966Z",
     "shell.execute_reply": "2021-06-14T14:05:05.020434Z",
     "shell.execute_reply.started": "2021-06-14T14:03:49.173457Z"
    },
    "papermill": {
     "duration": 0.084349,
     "end_time": "2021-06-14T14:05:05.021134",
     "exception": false,
     "start_time": "2021-06-14T14:05:04.936785",
     "status": "completed"
    },
    "tags": []
   },
   "outputs": [
    {
     "data": {
      "text/plain": [
       "Southampton    88\n",
       "Cherbourg      40\n",
       "Queenstown     24\n",
       "Name: Embarked, dtype: int64"
      ]
     },
     "execution_count": 43,
     "metadata": {},
     "output_type": "execute_result"
    }
   ],
   "source": [
    "titanic['Embarked'].value_counts()"
   ]
  },
  {
   "cell_type": "code",
   "execution_count": 44,
   "id": "broke-painting",
   "metadata": {
    "execution": {
     "iopub.execute_input": "2021-06-14T14:05:05.177647Z",
     "iopub.status.busy": "2021-06-14T14:05:05.173645Z",
     "iopub.status.idle": "2021-06-14T14:05:05.411824Z",
     "shell.execute_reply": "2021-06-14T14:05:05.410967Z",
     "shell.execute_reply.started": "2021-06-14T14:03:49.183669Z"
    },
    "papermill": {
     "duration": 0.320473,
     "end_time": "2021-06-14T14:05:05.412049",
     "exception": false,
     "start_time": "2021-06-14T14:05:05.091576",
     "status": "completed"
    },
    "tags": []
   },
   "outputs": [
    {
     "data": {
      "text/plain": [
       "<AxesSubplot:>"
      ]
     },
     "execution_count": 44,
     "metadata": {},
     "output_type": "execute_result"
    },
    {
     "data": {
      "image/png": "[encoded data removed]",
      "text/plain": [
       "<Figure size 432x288 with 2 Axes>"
      ]
     },
     "metadata": {
      "needs_background": "light"
     },
     "output_type": "display_data"
    }
   ],
   "source": [
    "sns.heatmap(titanic.corr(),annot=True)"
   ]
  },
  {
   "cell_type": "code",
   "execution_count": 45,
   "id": "local-snake",
   "metadata": {
    "execution": {
     "iopub.execute_input": "2021-06-14T14:05:05.585815Z",
     "iopub.status.busy": "2021-06-14T14:05:05.568263Z",
     "iopub.status.idle": "2021-06-14T14:05:05.981111Z",
     "shell.execute_reply": "2021-06-14T14:05:05.980533Z",
     "shell.execute_reply.started": "2021-06-14T14:03:49.450466Z"
    },
    "papermill": {
     "duration": 0.497655,
     "end_time": "2021-06-14T14:05:05.981270",
     "exception": false,
     "start_time": "2021-06-14T14:05:05.483615",
     "status": "completed"
    },
    "tags": []
   },
   "outputs": [
    {
     "data": {
      "text/plain": [
       "<seaborn.matrix.ClusterGrid at 0x2750de1b2e0>"
      ]
     },
     "execution_count": 45,
     "metadata": {},
     "output_type": "execute_result"
    },
    {
     "data": {
      "image/png": "[encoded data removed]",
      "text/plain": [
       "<Figure size 720x720 with 4 Axes>"
      ]
     },
     "metadata": {
      "needs_background": "light"
     },
     "output_type": "display_data"
    }
   ],
   "source": [
    "sns.clustermap(titanic.corr(),annot=True)"
   ]
  },
  {
   "cell_type": "code",
   "execution_count": 46,
   "id": "alert-ownership",
   "metadata": {
    "execution": {
     "iopub.execute_input": "2021-06-14T14:05:06.210448Z",
     "iopub.status.busy": "2021-06-14T14:05:06.152985Z",
     "iopub.status.idle": "2021-06-14T14:05:07.098358Z",
     "shell.execute_reply": "2021-06-14T14:05:07.096869Z",
     "shell.execute_reply.started": "2021-06-14T14:03:49.885163Z"
    },
    "papermill": {
     "duration": 1.042833,
     "end_time": "2021-06-14T14:05:07.098537",
     "exception": false,
     "start_time": "2021-06-14T14:05:06.055704",
     "status": "completed"
    },
    "tags": []
   },
   "outputs": [
    {
     "data": {
      "text/plain": [
       "<seaborn.axisgrid.FacetGrid at 0x2750e03c250>"
      ]
     },
     "execution_count": 46,
     "metadata": {},
     "output_type": "execute_result"
    },
    {
     "data": {
      "image/png": "[encoded data removed]",
      "text/plain": [
       "<Figure size 1080x360 with 3 Axes>"
      ]
     },
     "metadata": {
      "needs_background": "light"
     },
     "output_type": "display_data"
    }
   ],
   "source": [
    "sns.lmplot(x='Fare',y='Age',data=titanic,col='Pclass',palette='magma')"
   ]
  },
  {
   "cell_type": "code",
   "execution_count": 47,
   "id": "available-scratch",
   "metadata": {
    "execution": {
     "iopub.execute_input": "2021-06-14T14:05:07.262049Z",
     "iopub.status.busy": "2021-06-14T14:05:07.261365Z",
     "iopub.status.idle": "2021-06-14T14:05:07.265497Z",
     "shell.execute_reply": "2021-06-14T14:05:07.265983Z",
     "shell.execute_reply.started": "2021-06-14T14:03:50.643872Z"
    },
    "papermill": {
     "duration": 0.094041,
     "end_time": "2021-06-14T14:05:07.266150",
     "exception": false,
     "start_time": "2021-06-14T14:05:07.172109",
     "status": "completed"
    },
    "tags": []
   },
   "outputs": [
    {
     "data": {
      "text/html": [
       "<div>\n",
       "<style scoped>\n",
       "    .dataframe tbody tr th:only-of-type {\n",
       "        vertical-align: middle;\n",
       "    }\n",
       "\n",
       "    .dataframe tbody tr th {\n",
       "        vertical-align: top;\n",
       "    }\n",
       "\n",
       "    .dataframe thead th {\n",
       "        text-align: right;\n",
       "    }\n",
       "</style>\n",
       "<table border=\"1\" class=\"dataframe\">\n",
       "  <thead>\n",
       "    <tr style=\"text-align: right;\">\n",
       "      <th></th>\n",
       "      <th>PassengerId</th>\n",
       "      <th>Survived</th>\n",
       "      <th>Pclass</th>\n",
       "      <th>Name</th>\n",
       "      <th>Sex</th>\n",
       "      <th>Age</th>\n",
       "      <th>Fare</th>\n",
       "      <th>Embarked</th>\n",
       "      <th>FamilySize</th>\n",
       "      <th>age_group</th>\n",
       "    </tr>\n",
       "  </thead>\n",
       "  <tbody>\n",
       "    <tr>\n",
       "      <th>1</th>\n",
       "      <td>893</td>\n",
       "      <td>Yes</td>\n",
       "      <td>Lower Class</td>\n",
       "      <td>Wilkes, Mrs. James (Ellen Needs)</td>\n",
       "      <td>female</td>\n",
       "      <td>47.0</td>\n",
       "      <td>7.0000</td>\n",
       "      <td>Southampton</td>\n",
       "      <td>1</td>\n",
       "      <td>40-49</td>\n",
       "    </tr>\n",
       "    <tr>\n",
       "      <th>4</th>\n",
       "      <td>896</td>\n",
       "      <td>Yes</td>\n",
       "      <td>Lower Class</td>\n",
       "      <td>Hirvonen, Mrs. Alexander (Helga E Lindqvist)</td>\n",
       "      <td>female</td>\n",
       "      <td>22.0</td>\n",
       "      <td>12.2875</td>\n",
       "      <td>Southampton</td>\n",
       "      <td>2</td>\n",
       "      <td>20-29</td>\n",
       "    </tr>\n",
       "    <tr>\n",
       "      <th>6</th>\n",
       "      <td>898</td>\n",
       "      <td>Yes</td>\n",
       "      <td>Lower Class</td>\n",
       "      <td>Connolly, Miss. Kate</td>\n",
       "      <td>female</td>\n",
       "      <td>30.0</td>\n",
       "      <td>7.6292</td>\n",
       "      <td>Queenstown</td>\n",
       "      <td>0</td>\n",
       "      <td>30-39</td>\n",
       "    </tr>\n",
       "    <tr>\n",
       "      <th>8</th>\n",
       "      <td>900</td>\n",
       "      <td>Yes</td>\n",
       "      <td>Lower Class</td>\n",
       "      <td>Abrahim, Mrs. Joseph (Sophie Halaut Easu)</td>\n",
       "      <td>female</td>\n",
       "      <td>18.0</td>\n",
       "      <td>7.2292</td>\n",
       "      <td>Cherbourg</td>\n",
       "      <td>0</td>\n",
       "      <td>10-19</td>\n",
       "    </tr>\n",
       "    <tr>\n",
       "      <th>12</th>\n",
       "      <td>904</td>\n",
       "      <td>Yes</td>\n",
       "      <td>Upper Class</td>\n",
       "      <td>Snyder, Mrs. John Pillsbury (Nelle Stevenson)</td>\n",
       "      <td>female</td>\n",
       "      <td>23.0</td>\n",
       "      <td>82.2667</td>\n",
       "      <td>Southampton</td>\n",
       "      <td>1</td>\n",
       "      <td>20-29</td>\n",
       "    </tr>\n",
       "  </tbody>\n",
       "</table>\n",
       "</div>"
      ],
      "text/plain": [
       "    PassengerId Survived       Pclass  \\\n",
       "1           893      Yes  Lower Class   \n",
       "4           896      Yes  Lower Class   \n",
       "6           898      Yes  Lower Class   \n",
       "8           900      Yes  Lower Class   \n",
       "12          904      Yes  Upper Class   \n",
       "\n",
       "                                             Name     Sex   Age     Fare  \\\n",
       "1                Wilkes, Mrs. James (Ellen Needs)  female  47.0   7.0000   \n",
       "4    Hirvonen, Mrs. Alexander (Helga E Lindqvist)  female  22.0  12.2875   \n",
       "6                            Connolly, Miss. Kate  female  30.0   7.6292   \n",
       "8       Abrahim, Mrs. Joseph (Sophie Halaut Easu)  female  18.0   7.2292   \n",
       "12  Snyder, Mrs. John Pillsbury (Nelle Stevenson)  female  23.0  82.2667   \n",
       "\n",
       "       Embarked  FamilySize age_group  \n",
       "1   Southampton           1     40-49  \n",
       "4   Southampton           2     20-29  \n",
       "6    Queenstown           0     30-39  \n",
       "8     Cherbourg           0     10-19  \n",
       "12  Southampton           1     20-29  "
      ]
     },
     "execution_count": 47,
     "metadata": {},
     "output_type": "execute_result"
    }
   ],
   "source": [
    "titanic.head()"
   ]
  },
  {
   "cell_type": "code",
   "execution_count": 48,
   "id": "color-request",
   "metadata": {
    "execution": {
     "iopub.execute_input": "2021-06-14T14:05:07.418093Z",
     "iopub.status.busy": "2021-06-14T14:05:07.417250Z",
     "iopub.status.idle": "2021-06-14T14:05:07.446264Z",
     "shell.execute_reply": "2021-06-14T14:05:07.445719Z",
     "shell.execute_reply.started": "2021-06-14T14:03:50.660801Z"
    },
    "papermill": {
     "duration": 0.107173,
     "end_time": "2021-06-14T14:05:07.446407",
     "exception": false,
     "start_time": "2021-06-14T14:05:07.339234",
     "status": "completed"
    },
    "tags": []
   },
   "outputs": [
    {
     "name": "stdout",
     "output_type": "stream",
     "text": [
      "5.10.0\n"
     ]
    }
   ],
   "source": [
    "from plotly import __version__\n",
    "from plotly.offline import download_plotlyjs, init_notebook_mode, plot, iplot\n",
    "\n",
    "print(__version__)"
   ]
  },
  {
   "cell_type": "code",
   "execution_count": 49,
   "id": "binary-terrorist",
   "metadata": {
    "execution": {
     "iopub.execute_input": "2021-06-14T14:05:07.599948Z",
     "iopub.status.busy": "2021-06-14T14:05:07.599209Z",
     "iopub.status.idle": "2021-06-14T14:05:10.092120Z",
     "shell.execute_reply": "2021-06-14T14:05:10.091522Z",
     "shell.execute_reply.started": "2021-06-14T14:03:50.671313Z"
    },
    "papermill": {
     "duration": 2.571265,
     "end_time": "2021-06-14T14:05:10.092272",
     "exception": false,
     "start_time": "2021-06-14T14:05:07.521007",
     "status": "completed"
    },
    "tags": []
   },
   "outputs": [],
   "source": [
    "import cufflinks as cf"
   ]
  },
  {
   "cell_type": "code",
   "execution_count": 50,
   "id": "convinced-romance",
   "metadata": {
    "execution": {
     "iopub.execute_input": "2021-06-14T14:05:10.245730Z",
     "iopub.status.busy": "2021-06-14T14:05:10.245049Z",
     "iopub.status.idle": "2021-06-14T14:05:10.295522Z",
     "shell.execute_reply": "2021-06-14T14:05:10.294888Z",
     "shell.execute_reply.started": "2021-06-14T14:03:50.684187Z"
    },
    "papermill": {
     "duration": 0.128952,
     "end_time": "2021-06-14T14:05:10.295657",
     "exception": false,
     "start_time": "2021-06-14T14:05:10.166705",
     "status": "completed"
    },
    "tags": []
   },
   "outputs": [
    {
     "data": {
      "text/html": [
       "        <script type=\"text/javascript\">\n",
       "        window.PlotlyConfig = {MathJaxConfig: 'local'};\n",
       "        if (window.MathJax && window.MathJax.Hub && window.MathJax.Hub.Config) {window.MathJax.Hub.Config({SVG: {font: \"STIX-Web\"}});}\n",
       "        if (typeof require !== 'undefined') {\n",
       "        require.undef(\"plotly\");\n",
       "        requirejs.config({\n",
       "            paths: {\n",
       "                'plotly': ['https://cdn.plot.ly/plotly-2.14.0.min']\n",
       "            }\n",
       "        });\n",
       "        require(['plotly'], function(Plotly) {\n",
       "            window._Plotly = Plotly;\n",
       "        });\n",
       "        }\n",
       "        </script>\n",
       "        "
      ]
     },
     "metadata": {},
     "output_type": "display_data"
    }
   ],
   "source": [
    "init_notebook_mode(connected=True)"
   ]
  },
  {
   "cell_type": "code",
   "execution_count": 51,
   "id": "proof-jordan",
   "metadata": {
    "execution": {
     "iopub.execute_input": "2021-06-14T14:05:10.450110Z",
     "iopub.status.busy": "2021-06-14T14:05:10.449420Z",
     "iopub.status.idle": "2021-06-14T14:05:10.453971Z",
     "shell.execute_reply": "2021-06-14T14:05:10.454419Z",
     "shell.execute_reply.started": "2021-06-14T14:03:50.695961Z"
    },
    "papermill": {
     "duration": 0.084114,
     "end_time": "2021-06-14T14:05:10.454592",
     "exception": false,
     "start_time": "2021-06-14T14:05:10.370478",
     "status": "completed"
    },
    "tags": []
   },
   "outputs": [
    {
     "data": {
      "text/html": [
       "        <script type=\"text/javascript\">\n",
       "        window.PlotlyConfig = {MathJaxConfig: 'local'};\n",
       "        if (window.MathJax && window.MathJax.Hub && window.MathJax.Hub.Config) {window.MathJax.Hub.Config({SVG: {font: \"STIX-Web\"}});}\n",
       "        if (typeof require !== 'undefined') {\n",
       "        require.undef(\"plotly\");\n",
       "        requirejs.config({\n",
       "            paths: {\n",
       "                'plotly': ['https://cdn.plot.ly/plotly-2.14.0.min']\n",
       "            }\n",
       "        });\n",
       "        require(['plotly'], function(Plotly) {\n",
       "            window._Plotly = Plotly;\n",
       "        });\n",
       "        }\n",
       "        </script>\n",
       "        "
      ]
     },
     "metadata": {},
     "output_type": "display_data"
    }
   ],
   "source": [
    "cf.go_offline()"
   ]
  },
  {
   "cell_type": "code",
   "execution_count": 52,
   "id": "musical-horizon",
   "metadata": {
    "execution": {
     "iopub.execute_input": "2021-06-14T14:05:10.608397Z",
     "iopub.status.busy": "2021-06-14T14:05:10.607610Z",
     "iopub.status.idle": "2021-06-14T14:05:11.500173Z",
     "shell.execute_reply": "2021-06-14T14:05:11.500663Z",
     "shell.execute_reply.started": "2021-06-14T14:03:50.715409Z"
    },
    "papermill": {
     "duration": 0.970439,
     "end_time": "2021-06-14T14:05:11.500848",
     "exception": false,
     "start_time": "2021-06-14T14:05:10.530409",
     "status": "completed"
    },
    "tags": []
   },
   "outputs": [
    {
     "data": {
      "application/vnd.plotly.v1+json": {
       "config": {
        "linkText": "Export to plot.ly",
        "plotlyServerURL": "https://plot.ly",
        "showLink": true
       },
       "data": [
        {
         "line": {
          "color": "rgba(255, 153, 51, 1.0)",
          "dash": "solid",
          "shape": "linear",
          "width": 1.3
         },
         "marker": {
          "size": 10,
          "symbol": "circle"
         },
         "mode": "markers",
         "name": "Embarked",
         "text": "",
         "type": "scatter",
         "x": [
          "Lower Class",
          "Lower Class",
          "Lower Class",
          "Lower Class",
          "Upper Class",
          "Upper Class",
          "Middle Class",
          "Lower Class",
          "Lower Class",
          "Upper Class",
          "Upper Class",
          "Upper Class",
          "Lower Class",
          "Lower Class",
          "Lower Class",
          "Lower Class",
          "Middle Class",
          "Upper Class",
          "Upper Class",
          "Lower Class",
          "Middle Class",
          "Upper Class",
          "Upper Class",
          "Lower Class",
          "Middle Class",
          "Lower Class",
          "Upper Class",
          "Lower Class",
          "Lower Class",
          "Upper Class",
          "Upper Class",
          "Lower Class",
          "Lower Class",
          "Lower Class",
          "Lower Class",
          "Lower Class",
          "Upper Class",
          "Upper Class",
          "Lower Class",
          "Upper Class",
          "Lower Class",
          "Lower Class",
          "Upper Class",
          "Lower Class",
          "Upper Class",
          "Lower Class",
          "Middle Class",
          "Middle Class",
          "Upper Class",
          "Lower Class",
          "Lower Class",
          "Lower Class",
          "Lower Class",
          "Lower Class",
          "Upper Class",
          "Upper Class",
          "Lower Class",
          "Upper Class",
          "Lower Class",
          "Lower Class",
          "Lower Class",
          "Middle Class",
          "Lower Class",
          "Upper Class",
          "Lower Class",
          "Middle Class",
          "Middle Class",
          "Middle Class",
          "Upper Class",
          "Upper Class",
          "Upper Class",
          "Middle Class",
          "Lower Class",
          "Lower Class",
          "Lower Class",
          "Lower Class",
          "Middle Class",
          "Lower Class",
          "Upper Class",
          "Middle Class",
          "Lower Class",
          "Lower Class",
          "Upper Class",
          "Middle Class",
          "Middle Class",
          "Upper Class",
          "Lower Class",
          "Lower Class",
          "Upper Class",
          "Middle Class",
          "Upper Class",
          "Upper Class",
          "Middle Class",
          "Middle Class",
          "Middle Class",
          "Lower Class",
          "Middle Class",
          "Middle Class",
          "Middle Class",
          "Lower Class",
          "Lower Class",
          "Upper Class",
          "Lower Class",
          "Middle Class",
          "Lower Class",
          "Lower Class",
          "Lower Class",
          "Lower Class",
          "Lower Class",
          "Middle Class",
          "Lower Class",
          "Upper Class",
          "Lower Class",
          "Lower Class",
          "Upper Class",
          "Lower Class",
          "Upper Class",
          "Middle Class",
          "Middle Class",
          "Lower Class",
          "Upper Class",
          "Lower Class",
          "Lower Class",
          "Middle Class",
          "Upper Class",
          "Lower Class",
          "Upper Class",
          "Lower Class",
          "Middle Class",
          "Middle Class",
          "Upper Class",
          "Lower Class",
          "Lower Class",
          "Upper Class",
          "Upper Class",
          "Upper Class",
          "Upper Class",
          "Lower Class",
          "Lower Class",
          "Lower Class",
          "Middle Class",
          "Upper Class",
          "Upper Class",
          "Upper Class",
          "Upper Class",
          "Upper Class",
          "Lower Class",
          "Lower Class",
          "Lower Class",
          "Upper Class",
          "Lower Class",
          "Upper Class"
         ],
         "y": [
          "Southampton",
          "Southampton",
          "Queenstown",
          "Cherbourg",
          "Southampton",
          "Southampton",
          "Cherbourg",
          "Southampton",
          "Cherbourg",
          "Southampton",
          "Cherbourg",
          "Cherbourg",
          "Southampton",
          "Southampton",
          "Southampton",
          "Southampton",
          "Southampton",
          "Southampton",
          "Cherbourg",
          "Southampton",
          "Southampton",
          "Southampton",
          "Cherbourg",
          "Queenstown",
          "Southampton",
          "Queenstown",
          "Southampton",
          "Queenstown",
          "Southampton",
          "Cherbourg",
          "Southampton",
          "Queenstown",
          "Queenstown",
          "Southampton",
          "Queenstown",
          "Southampton",
          "Southampton",
          "Southampton",
          "Southampton",
          "Cherbourg",
          "Cherbourg",
          "Queenstown",
          "Cherbourg",
          "Queenstown",
          "Southampton",
          "Southampton",
          "Southampton",
          "Southampton",
          "Cherbourg",
          "Southampton",
          "Queenstown",
          "Southampton",
          "Southampton",
          "Southampton",
          "Southampton",
          "Cherbourg",
          "Southampton",
          "Southampton",
          "Southampton",
          "Southampton",
          "Queenstown",
          "Southampton",
          "Southampton",
          "Cherbourg",
          "Southampton",
          "Southampton",
          "Southampton",
          "Southampton",
          "Cherbourg",
          "Southampton",
          "Cherbourg",
          "Southampton",
          "Southampton",
          "Southampton",
          "Southampton",
          "Queenstown",
          "Southampton",
          "Queenstown",
          "Cherbourg",
          "Southampton",
          "Southampton",
          "Queenstown",
          "Cherbourg",
          "Cherbourg",
          "Southampton",
          "Cherbourg",
          "Cherbourg",
          "Queenstown",
          "Southampton",
          "Southampton",
          "Cherbourg",
          "Cherbourg",
          "Southampton",
          "Southampton",
          "Southampton",
          "Cherbourg",
          "Southampton",
          "Southampton",
          "Southampton",
          "Southampton",
          "Southampton",
          "Cherbourg",
          "Queenstown",
          "Southampton",
          "Southampton",
          "Queenstown",
          "Cherbourg",
          "Southampton",
          "Queenstown",
          "Cherbourg",
          "Queenstown",
          "Southampton",
          "Southampton",
          "Queenstown",
          "Cherbourg",
          "Queenstown",
          "Southampton",
          "Southampton",
          "Southampton",
          "Cherbourg",
          "Cherbourg",
          "Southampton",
          "Cherbourg",
          "Southampton",
          "Cherbourg",
          "Southampton",
          "Southampton",
          "Southampton",
          "Cherbourg",
          "Southampton",
          "Cherbourg",
          "Southampton",
          "Southampton",
          "Cherbourg",
          "Cherbourg",
          "Southampton",
          "Cherbourg",
          "Southampton",
          "Southampton",
          "Southampton",
          "Southampton",
          "Southampton",
          "Southampton",
          "Cherbourg",
          "Southampton",
          "Cherbourg",
          "Queenstown",
          "Southampton",
          "Queenstown",
          "Queenstown",
          "Southampton",
          "Cherbourg"
         ]
        }
       ],
       "layout": {
        "legend": {
         "bgcolor": "#F5F6F9",
         "font": {
          "color": "#4D5663"
         }
        },
        "paper_bgcolor": "#F5F6F9",
        "plot_bgcolor": "#F5F6F9",
        "template": {
         "data": {
          "bar": [
           {
            "error_x": {
             "color": "#2a3f5f"
            },
            "error_y": {
             "color": "#2a3f5f"
            },
            "marker": {
             "line": {
              "color": "#E5ECF6",
              "width": 0.5
             },
             "pattern": {
              "fillmode": "overlay",
              "size": 10,
              "solidity": 0.2
             }
            },
            "type": "bar"
           }
          ],
          "barpolar": [
           {
            "marker": {
             "line": {
              "color": "#E5ECF6",
              "width": 0.5
             },
             "pattern": {
              "fillmode": "overlay",
              "size": 10,
              "solidity": 0.2
             }
            },
            "type": "barpolar"
           }
          ],
          "carpet": [
           {
            "aaxis": {
             "endlinecolor": "#2a3f5f",
             "gridcolor": "white",
             "linecolor": "white",
             "minorgridcolor": "white",
             "startlinecolor": "#2a3f5f"
            },
            "baxis": {
             "endlinecolor": "#2a3f5f",
             "gridcolor": "white",
             "linecolor": "white",
             "minorgridcolor": "white",
             "startlinecolor": "#2a3f5f"
            },
            "type": "carpet"
           }
          ],
          "choropleth": [
           {
            "colorbar": {
             "outlinewidth": 0,
             "ticks": ""
            },
            "type": "choropleth"
           }
          ],
          "contour": [
           {
            "colorbar": {
             "outlinewidth": 0,
             "ticks": ""
            },
            "colorscale": [
             [
              0,
              "#0d0887"
             ],
             [
              0.1111111111111111,
              "#46039f"
             ],
             [
              0.2222222222222222,
              "#7201a8"
             ],
             [
              0.3333333333333333,
              "#9c179e"
             ],
             [
              0.4444444444444444,
              "#bd3786"
             ],
             [
              0.5555555555555556,
              "#d8576b"
             ],
             [
              0.6666666666666666,
              "#ed7953"
             ],
             [
              0.7777777777777778,
              "#fb9f3a"
             ],
             [
              0.8888888888888888,
              "#fdca26"
             ],
             [
              1,
              "#f0f921"
             ]
            ],
            "type": "contour"
           }
          ],
          "contourcarpet": [
           {
            "colorbar": {
             "outlinewidth": 0,
             "ticks": ""
            },
            "type": "contourcarpet"
           }
          ],
          "heatmap": [
           {
            "colorbar": {
             "outlinewidth": 0,
             "ticks": ""
            },
            "colorscale": [
             [
              0,
              "#0d0887"
             ],
             [
              0.1111111111111111,
              "#46039f"
             ],
             [
              0.2222222222222222,
              "#7201a8"
             ],
             [
              0.3333333333333333,
              "#9c179e"
             ],
             [
              0.4444444444444444,
              "#bd3786"
             ],
             [
              0.5555555555555556,
              "#d8576b"
             ],
             [
              0.6666666666666666,
              "#ed7953"
             ],
             [
              0.7777777777777778,
              "#fb9f3a"
             ],
             [
              0.8888888888888888,
              "#fdca26"
             ],
             [
              1,
              "#f0f921"
             ]
            ],
            "type": "heatmap"
           }
          ],
          "heatmapgl": [
           {
            "colorbar": {
             "outlinewidth": 0,
             "ticks": ""
            },
            "colorscale": [
             [
              0,
              "#0d0887"
             ],
             [
              0.1111111111111111,
              "#46039f"
             ],
             [
              0.2222222222222222,
              "#7201a8"
             ],
             [
              0.3333333333333333,
              "#9c179e"
             ],
             [
              0.4444444444444444,
              "#bd3786"
             ],
             [
              0.5555555555555556,
              "#d8576b"
             ],
             [
              0.6666666666666666,
              "#ed7953"
             ],
             [
              0.7777777777777778,
              "#fb9f3a"
             ],
             [
              0.8888888888888888,
              "#fdca26"
             ],
             [
              1,
              "#f0f921"
             ]
            ],
            "type": "heatmapgl"
           }
          ],
          "histogram": [
           {
            "marker": {
             "pattern": {
              "fillmode": "overlay",
              "size": 10,
              "solidity": 0.2
             }
            },
            "type": "histogram"
           }
          ],
          "histogram2d": [
           {
            "colorbar": {
             "outlinewidth": 0,
             "ticks": ""
            },
            "colorscale": [
             [
              0,
              "#0d0887"
             ],
             [
              0.1111111111111111,
              "#46039f"
             ],
             [
              0.2222222222222222,
              "#7201a8"
             ],
             [
              0.3333333333333333,
              "#9c179e"
             ],
             [
              0.4444444444444444,
              "#bd3786"
             ],
             [
              0.5555555555555556,
              "#d8576b"
             ],
             [
              0.6666666666666666,
              "#ed7953"
             ],
             [
              0.7777777777777778,
              "#fb9f3a"
             ],
             [
              0.8888888888888888,
              "#fdca26"
             ],
             [
              1,
              "#f0f921"
             ]
            ],
            "type": "histogram2d"
           }
          ],
          "histogram2dcontour": [
           {
            "colorbar": {
             "outlinewidth": 0,
             "ticks": ""
            },
            "colorscale": [
             [
              0,
              "#0d0887"
             ],
             [
              0.1111111111111111,
              "#46039f"
             ],
             [
              0.2222222222222222,
              "#7201a8"
             ],
             [
              0.3333333333333333,
              "#9c179e"
             ],
             [
              0.4444444444444444,
              "#bd3786"
             ],
             [
              0.5555555555555556,
              "#d8576b"
             ],
             [
              0.6666666666666666,
              "#ed7953"
             ],
             [
              0.7777777777777778,
              "#fb9f3a"
             ],
             [
              0.8888888888888888,
              "#fdca26"
             ],
             [
              1,
              "#f0f921"
             ]
            ],
            "type": "histogram2dcontour"
           }
          ],
          "mesh3d": [
           {
            "colorbar": {
             "outlinewidth": 0,
             "ticks": ""
            },
            "type": "mesh3d"
           }
          ],
          "parcoords": [
           {
            "line": {
             "colorbar": {
              "outlinewidth": 0,
              "ticks": ""
             }
            },
            "type": "parcoords"
           }
          ],
          "pie": [
           {
            "automargin": true,
            "type": "pie"
           }
          ],
          "scatter": [
           {
            "fillpattern": {
             "fillmode": "overlay",
             "size": 10,
             "solidity": 0.2
            },
            "type": "scatter"
           }
          ],
          "scatter3d": [
           {
            "line": {
             "colorbar": {
              "outlinewidth": 0,
              "ticks": ""
             }
            },
            "marker": {
             "colorbar": {
              "outlinewidth": 0,
              "ticks": ""
             }
            },
            "type": "scatter3d"
           }
          ],
          "scattercarpet": [
           {
            "marker": {
             "colorbar": {
              "outlinewidth": 0,
              "ticks": ""
             }
            },
            "type": "scattercarpet"
           }
          ],
          "scattergeo": [
           {
            "marker": {
             "colorbar": {
              "outlinewidth": 0,
              "ticks": ""
             }
            },
            "type": "scattergeo"
           }
          ],
          "scattergl": [
           {
            "marker": {
             "colorbar": {
              "outlinewidth": 0,
              "ticks": ""
             }
            },
            "type": "scattergl"
           }
          ],
          "scattermapbox": [
           {
            "marker": {
             "colorbar": {
              "outlinewidth": 0,
              "ticks": ""
             }
            },
            "type": "scattermapbox"
           }
          ],
          "scatterpolar": [
           {
            "marker": {
             "colorbar": {
              "outlinewidth": 0,
              "ticks": ""
             }
            },
            "type": "scatterpolar"
           }
          ],
          "scatterpolargl": [
           {
            "marker": {
             "colorbar": {
              "outlinewidth": 0,
              "ticks": ""
             }
            },
            "type": "scatterpolargl"
           }
          ],
          "scatterternary": [
           {
            "marker": {
             "colorbar": {
              "outlinewidth": 0,
              "ticks": ""
             }
            },
            "type": "scatterternary"
           }
          ],
          "surface": [
           {
            "colorbar": {
             "outlinewidth": 0,
             "ticks": ""
            },
            "colorscale": [
             [
              0,
              "#0d0887"
             ],
             [
              0.1111111111111111,
              "#46039f"
             ],
             [
              0.2222222222222222,
              "#7201a8"
             ],
             [
              0.3333333333333333,
              "#9c179e"
             ],
             [
              0.4444444444444444,
              "#bd3786"
             ],
             [
              0.5555555555555556,
              "#d8576b"
             ],
             [
              0.6666666666666666,
              "#ed7953"
             ],
             [
              0.7777777777777778,
              "#fb9f3a"
             ],
             [
              0.8888888888888888,
              "#fdca26"
             ],
             [
              1,
              "#f0f921"
             ]
            ],
            "type": "surface"
           }
          ],
          "table": [
           {
            "cells": {
             "fill": {
              "color": "#EBF0F8"
             },
             "line": {
              "color": "white"
             }
            },
            "header": {
             "fill": {
              "color": "#C8D4E3"
             },
             "line": {
              "color": "white"
             }
            },
            "type": "table"
           }
          ]
         },
         "layout": {
          "annotationdefaults": {
           "arrowcolor": "#2a3f5f",
           "arrowhead": 0,
           "arrowwidth": 1
          },
          "autotypenumbers": "strict",
          "coloraxis": {
           "colorbar": {
            "outlinewidth": 0,
            "ticks": ""
           }
          },
          "colorscale": {
           "diverging": [
            [
             0,
             "#8e0152"
            ],
            [
             0.1,
             "#c51b7d"
            ],
            [
             0.2,
             "#de77ae"
            ],
            [
             0.3,
             "#f1b6da"
            ],
            [
             0.4,
             "#fde0ef"
            ],
            [
             0.5,
             "#f7f7f7"
            ],
            [
             0.6,
             "#e6f5d0"
            ],
            [
             0.7,
             "#b8e186"
            ],
            [
             0.8,
             "#7fbc41"
            ],
            [
             0.9,
             "#4d9221"
            ],
            [
             1,
             "#276419"
            ]
           ],
           "sequential": [
            [
             0,
             "#0d0887"
            ],
            [
             0.1111111111111111,
             "#46039f"
            ],
            [
             0.2222222222222222,
             "#7201a8"
            ],
            [
             0.3333333333333333,
             "#9c179e"
            ],
            [
             0.4444444444444444,
             "#bd3786"
            ],
            [
             0.5555555555555556,
             "#d8576b"
            ],
            [
             0.6666666666666666,
             "#ed7953"
            ],
            [
             0.7777777777777778,
             "#fb9f3a"
            ],
            [
             0.8888888888888888,
             "#fdca26"
            ],
            [
             1,
             "#f0f921"
            ]
           ],
           "sequentialminus": [
            [
             0,
             "#0d0887"
            ],
            [
             0.1111111111111111,
             "#46039f"
            ],
            [
             0.2222222222222222,
             "#7201a8"
            ],
            [
             0.3333333333333333,
             "#9c179e"
            ],
            [
             0.4444444444444444,
             "#bd3786"
            ],
            [
             0.5555555555555556,
             "#d8576b"
            ],
            [
             0.6666666666666666,
             "#ed7953"
            ],
            [
             0.7777777777777778,
             "#fb9f3a"
            ],
            [
             0.8888888888888888,
             "#fdca26"
            ],
            [
             1,
             "#f0f921"
            ]
           ]
          },
          "colorway": [
           "#636efa",
           "#EF553B",
           "#00cc96",
           "#ab63fa",
           "#FFA15A",
           "#19d3f3",
           "#FF6692",
           "#B6E880",
           "#FF97FF",
           "#FECB52"
          ],
          "font": {
           "color": "#2a3f5f"
          },
          "geo": {
           "bgcolor": "white",
           "lakecolor": "white",
           "landcolor": "#E5ECF6",
           "showlakes": true,
           "showland": true,
           "subunitcolor": "white"
          },
          "hoverlabel": {
           "align": "left"
          },
          "hovermode": "closest",
          "mapbox": {
           "style": "light"
          },
          "paper_bgcolor": "white",
          "plot_bgcolor": "#E5ECF6",
          "polar": {
           "angularaxis": {
            "gridcolor": "white",
            "linecolor": "white",
            "ticks": ""
           },
           "bgcolor": "#E5ECF6",
           "radialaxis": {
            "gridcolor": "white",
            "linecolor": "white",
            "ticks": ""
           }
          },
          "scene": {
           "xaxis": {
            "backgroundcolor": "#E5ECF6",
            "gridcolor": "white",
            "gridwidth": 2,
            "linecolor": "white",
            "showbackground": true,
            "ticks": "",
            "zerolinecolor": "white"
           },
           "yaxis": {
            "backgroundcolor": "#E5ECF6",
            "gridcolor": "white",
            "gridwidth": 2,
            "linecolor": "white",
            "showbackground": true,
            "ticks": "",
            "zerolinecolor": "white"
           },
           "zaxis": {
            "backgroundcolor": "#E5ECF6",
            "gridcolor": "white",
            "gridwidth": 2,
            "linecolor": "white",
            "showbackground": true,
            "ticks": "",
            "zerolinecolor": "white"
           }
          },
          "shapedefaults": {
           "line": {
            "color": "#2a3f5f"
           }
          },
          "ternary": {
           "aaxis": {
            "gridcolor": "white",
            "linecolor": "white",
            "ticks": ""
           },
           "baxis": {
            "gridcolor": "white",
            "linecolor": "white",
            "ticks": ""
           },
           "bgcolor": "#E5ECF6",
           "caxis": {
            "gridcolor": "white",
            "linecolor": "white",
            "ticks": ""
           }
          },
          "title": {
           "x": 0.05
          },
          "xaxis": {
           "automargin": true,
           "gridcolor": "white",
           "linecolor": "white",
           "ticks": "",
           "title": {
            "standoff": 15
           },
           "zerolinecolor": "white",
           "zerolinewidth": 2
          },
          "yaxis": {
           "automargin": true,
           "gridcolor": "white",
           "linecolor": "white",
           "ticks": "",
           "title": {
            "standoff": 15
           },
           "zerolinecolor": "white",
           "zerolinewidth": 2
          }
         }
        },
        "title": {
         "font": {
          "color": "#4D5663"
         }
        },
        "xaxis": {
         "gridcolor": "#E1E5ED",
         "showgrid": true,
         "tickfont": {
          "color": "#4D5663"
         },
         "title": {
          "font": {
           "color": "#4D5663"
          },
          "text": ""
         },
         "zerolinecolor": "#E1E5ED"
        },
        "yaxis": {
         "gridcolor": "#E1E5ED",
         "showgrid": true,
         "tickfont": {
          "color": "#4D5663"
         },
         "title": {
          "font": {
           "color": "#4D5663"
          },
          "text": ""
         },
         "zerolinecolor": "#E1E5ED"
        }
       }
      },
      "text/html": [
       "<div>                            <div id=\"13aa780f-11f5-45eb-bdcf-75414b8969eb\" class=\"plotly-graph-div\" style=\"height:525px; width:100%;\"></div>            <script type=\"text/javascript\">                require([\"plotly\"], function(Plotly) {                    window.PLOTLYENV=window.PLOTLYENV || {};\n",
       "                    window.PLOTLYENV.BASE_URL='https://plot.ly';                                    if (document.getElementById(\"13aa780f-11f5-45eb-bdcf-75414b8969eb\")) {                    Plotly.newPlot(                        \"13aa780f-11f5-45eb-bdcf-75414b8969eb\",                        [{\"line\":{\"color\":\"rgba(255, 153, 51, 1.0)\",\"dash\":\"solid\",\"shape\":\"linear\",\"width\":1.3},\"marker\":{\"size\":10,\"symbol\":\"circle\"},\"mode\":\"markers\",\"name\":\"Embarked\",\"text\":\"\",\"x\":[\"Lower Class\",\"Lower Class\",\"Lower Class\",\"Lower Class\",\"Upper Class\",\"Upper Class\",\"Middle Class\",\"Lower Class\",\"Lower Class\",\"Upper Class\",\"Upper Class\",\"Upper Class\",\"Lower Class\",\"Lower Class\",\"Lower Class\",\"Lower Class\",\"Middle Class\",\"Upper Class\",\"Upper Class\",\"Lower Class\",\"Middle Class\",\"Upper Class\",\"Upper Class\",\"Lower Class\",\"Middle Class\",\"Lower Class\",\"Upper Class\",\"Lower Class\",\"Lower Class\",\"Upper Class\",\"Upper Class\",\"Lower Class\",\"Lower Class\",\"Lower Class\",\"Lower Class\",\"Lower Class\",\"Upper Class\",\"Upper Class\",\"Lower Class\",\"Upper Class\",\"Lower Class\",\"Lower Class\",\"Upper Class\",\"Lower Class\",\"Upper Class\",\"Lower Class\",\"Middle Class\",\"Middle Class\",\"Upper Class\",\"Lower Class\",\"Lower Class\",\"Lower Class\",\"Lower Class\",\"Lower Class\",\"Upper Class\",\"Upper Class\",\"Lower Class\",\"Upper Class\",\"Lower Class\",\"Lower Class\",\"Lower Class\",\"Middle Class\",\"Lower Class\",\"Upper Class\",\"Lower Class\",\"Middle Class\",\"Middle Class\",\"Middle Class\",\"Upper Class\",\"Upper Class\",\"Upper Class\",\"Middle Class\",\"Lower Class\",\"Lower Class\",\"Lower Class\",\"Lower Class\",\"Middle Class\",\"Lower Class\",\"Upper Class\",\"Middle Class\",\"Lower Class\",\"Lower Class\",\"Upper Class\",\"Middle Class\",\"Middle Class\",\"Upper Class\",\"Lower Class\",\"Lower Class\",\"Upper Class\",\"Middle Class\",\"Upper Class\",\"Upper Class\",\"Middle Class\",\"Middle Class\",\"Middle Class\",\"Lower Class\",\"Middle Class\",\"Middle Class\",\"Middle Class\",\"Lower Class\",\"Lower Class\",\"Upper Class\",\"Lower Class\",\"Middle Class\",\"Lower Class\",\"Lower Class\",\"Lower Class\",\"Lower Class\",\"Lower Class\",\"Middle Class\",\"Lower Class\",\"Upper Class\",\"Lower Class\",\"Lower Class\",\"Upper Class\",\"Lower Class\",\"Upper Class\",\"Middle Class\",\"Middle Class\",\"Lower Class\",\"Upper Class\",\"Lower Class\",\"Lower Class\",\"Middle Class\",\"Upper Class\",\"Lower Class\",\"Upper Class\",\"Lower Class\",\"Middle Class\",\"Middle Class\",\"Upper Class\",\"Lower Class\",\"Lower Class\",\"Upper Class\",\"Upper Class\",\"Upper Class\",\"Upper Class\",\"Lower Class\",\"Lower Class\",\"Lower Class\",\"Middle Class\",\"Upper Class\",\"Upper Class\",\"Upper Class\",\"Upper Class\",\"Upper Class\",\"Lower Class\",\"Lower Class\",\"Lower Class\",\"Upper Class\",\"Lower Class\",\"Upper Class\"],\"y\":[\"Southampton\",\"Southampton\",\"Queenstown\",\"Cherbourg\",\"Southampton\",\"Southampton\",\"Cherbourg\",\"Southampton\",\"Cherbourg\",\"Southampton\",\"Cherbourg\",\"Cherbourg\",\"Southampton\",\"Southampton\",\"Southampton\",\"Southampton\",\"Southampton\",\"Southampton\",\"Cherbourg\",\"Southampton\",\"Southampton\",\"Southampton\",\"Cherbourg\",\"Queenstown\",\"Southampton\",\"Queenstown\",\"Southampton\",\"Queenstown\",\"Southampton\",\"Cherbourg\",\"Southampton\",\"Queenstown\",\"Queenstown\",\"Southampton\",\"Queenstown\",\"Southampton\",\"Southampton\",\"Southampton\",\"Southampton\",\"Cherbourg\",\"Cherbourg\",\"Queenstown\",\"Cherbourg\",\"Queenstown\",\"Southampton\",\"Southampton\",\"Southampton\",\"Southampton\",\"Cherbourg\",\"Southampton\",\"Queenstown\",\"Southampton\",\"Southampton\",\"Southampton\",\"Southampton\",\"Cherbourg\",\"Southampton\",\"Southampton\",\"Southampton\",\"Southampton\",\"Queenstown\",\"Southampton\",\"Southampton\",\"Cherbourg\",\"Southampton\",\"Southampton\",\"Southampton\",\"Southampton\",\"Cherbourg\",\"Southampton\",\"Cherbourg\",\"Southampton\",\"Southampton\",\"Southampton\",\"Southampton\",\"Queenstown\",\"Southampton\",\"Queenstown\",\"Cherbourg\",\"Southampton\",\"Southampton\",\"Queenstown\",\"Cherbourg\",\"Cherbourg\",\"Southampton\",\"Cherbourg\",\"Cherbourg\",\"Queenstown\",\"Southampton\",\"Southampton\",\"Cherbourg\",\"Cherbourg\",\"Southampton\",\"Southampton\",\"Southampton\",\"Cherbourg\",\"Southampton\",\"Southampton\",\"Southampton\",\"Southampton\",\"Southampton\",\"Cherbourg\",\"Queenstown\",\"Southampton\",\"Southampton\",\"Queenstown\",\"Cherbourg\",\"Southampton\",\"Queenstown\",\"Cherbourg\",\"Queenstown\",\"Southampton\",\"Southampton\",\"Queenstown\",\"Cherbourg\",\"Queenstown\",\"Southampton\",\"Southampton\",\"Southampton\",\"Cherbourg\",\"Cherbourg\",\"Southampton\",\"Cherbourg\",\"Southampton\",\"Cherbourg\",\"Southampton\",\"Southampton\",\"Southampton\",\"Cherbourg\",\"Southampton\",\"Cherbourg\",\"Southampton\",\"Southampton\",\"Cherbourg\",\"Cherbourg\",\"Southampton\",\"Cherbourg\",\"Southampton\",\"Southampton\",\"Southampton\",\"Southampton\",\"Southampton\",\"Southampton\",\"Cherbourg\",\"Southampton\",\"Cherbourg\",\"Queenstown\",\"Southampton\",\"Queenstown\",\"Queenstown\",\"Southampton\",\"Cherbourg\"],\"type\":\"scatter\"}],                        {\"legend\":{\"bgcolor\":\"#F5F6F9\",\"font\":{\"color\":\"#4D5663\"}},\"paper_bgcolor\":\"#F5F6F9\",\"plot_bgcolor\":\"#F5F6F9\",\"template\":{\"data\":{\"barpolar\":[{\"marker\":{\"line\":{\"color\":\"#E5ECF6\",\"width\":0.5},\"pattern\":{\"fillmode\":\"overlay\",\"size\":10,\"solidity\":0.2}},\"type\":\"barpolar\"}],\"bar\":[{\"error_x\":{\"color\":\"#2a3f5f\"},\"error_y\":{\"color\":\"#2a3f5f\"},\"marker\":{\"line\":{\"color\":\"#E5ECF6\",\"width\":0.5},\"pattern\":{\"fillmode\":\"overlay\",\"size\":10,\"solidity\":0.2}},\"type\":\"bar\"}],\"carpet\":[{\"aaxis\":{\"endlinecolor\":\"#2a3f5f\",\"gridcolor\":\"white\",\"linecolor\":\"white\",\"minorgridcolor\":\"white\",\"startlinecolor\":\"#2a3f5f\"},\"baxis\":{\"endlinecolor\":\"#2a3f5f\",\"gridcolor\":\"white\",\"linecolor\":\"white\",\"minorgridcolor\":\"white\",\"startlinecolor\":\"#2a3f5f\"},\"type\":\"carpet\"}],\"choropleth\":[{\"colorbar\":{\"outlinewidth\":0,\"ticks\":\"\"},\"type\":\"choropleth\"}],\"contourcarpet\":[{\"colorbar\":{\"outlinewidth\":0,\"ticks\":\"\"},\"type\":\"contourcarpet\"}],\"contour\":[{\"colorbar\":{\"outlinewidth\":0,\"ticks\":\"\"},\"colorscale\":[[0.0,\"#0d0887\"],[0.1111111111111111,\"#46039f\"],[0.2222222222222222,\"#7201a8\"],[0.3333333333333333,\"#9c179e\"],[0.4444444444444444,\"#bd3786\"],[0.5555555555555556,\"#d8576b\"],[0.6666666666666666,\"#ed7953\"],[0.7777777777777778,\"#fb9f3a\"],[0.8888888888888888,\"#fdca26\"],[1.0,\"#f0f921\"]],\"type\":\"contour\"}],\"heatmapgl\":[{\"colorbar\":{\"outlinewidth\":0,\"ticks\":\"\"},\"colorscale\":[[0.0,\"#0d0887\"],[0.1111111111111111,\"#46039f\"],[0.2222222222222222,\"#7201a8\"],[0.3333333333333333,\"#9c179e\"],[0.4444444444444444,\"#bd3786\"],[0.5555555555555556,\"#d8576b\"],[0.6666666666666666,\"#ed7953\"],[0.7777777777777778,\"#fb9f3a\"],[0.8888888888888888,\"#fdca26\"],[1.0,\"#f0f921\"]],\"type\":\"heatmapgl\"}],\"heatmap\":[{\"colorbar\":{\"outlinewidth\":0,\"ticks\":\"\"},\"colorscale\":[[0.0,\"#0d0887\"],[0.1111111111111111,\"#46039f\"],[0.2222222222222222,\"#7201a8\"],[0.3333333333333333,\"#9c179e\"],[0.4444444444444444,\"#bd3786\"],[0.5555555555555556,\"#d8576b\"],[0.6666666666666666,\"#ed7953\"],[0.7777777777777778,\"#fb9f3a\"],[0.8888888888888888,\"#fdca26\"],[1.0,\"#f0f921\"]],\"type\":\"heatmap\"}],\"histogram2dcontour\":[{\"colorbar\":{\"outlinewidth\":0,\"ticks\":\"\"},\"colorscale\":[[0.0,\"#0d0887\"],[0.1111111111111111,\"#46039f\"],[0.2222222222222222,\"#7201a8\"],[0.3333333333333333,\"#9c179e\"],[0.4444444444444444,\"#bd3786\"],[0.5555555555555556,\"#d8576b\"],[0.6666666666666666,\"#ed7953\"],[0.7777777777777778,\"#fb9f3a\"],[0.8888888888888888,\"#fdca26\"],[1.0,\"#f0f921\"]],\"type\":\"histogram2dcontour\"}],\"histogram2d\":[{\"colorbar\":{\"outlinewidth\":0,\"ticks\":\"\"},\"colorscale\":[[0.0,\"#0d0887\"],[0.1111111111111111,\"#46039f\"],[0.2222222222222222,\"#7201a8\"],[0.3333333333333333,\"#9c179e\"],[0.4444444444444444,\"#bd3786\"],[0.5555555555555556,\"#d8576b\"],[0.6666666666666666,\"#ed7953\"],[0.7777777777777778,\"#fb9f3a\"],[0.8888888888888888,\"#fdca26\"],[1.0,\"#f0f921\"]],\"type\":\"histogram2d\"}],\"histogram\":[{\"marker\":{\"pattern\":{\"fillmode\":\"overlay\",\"size\":10,\"solidity\":0.2}},\"type\":\"histogram\"}],\"mesh3d\":[{\"colorbar\":{\"outlinewidth\":0,\"ticks\":\"\"},\"type\":\"mesh3d\"}],\"parcoords\":[{\"line\":{\"colorbar\":{\"outlinewidth\":0,\"ticks\":\"\"}},\"type\":\"parcoords\"}],\"pie\":[{\"automargin\":true,\"type\":\"pie\"}],\"scatter3d\":[{\"line\":{\"colorbar\":{\"outlinewidth\":0,\"ticks\":\"\"}},\"marker\":{\"colorbar\":{\"outlinewidth\":0,\"ticks\":\"\"}},\"type\":\"scatter3d\"}],\"scattercarpet\":[{\"marker\":{\"colorbar\":{\"outlinewidth\":0,\"ticks\":\"\"}},\"type\":\"scattercarpet\"}],\"scattergeo\":[{\"marker\":{\"colorbar\":{\"outlinewidth\":0,\"ticks\":\"\"}},\"type\":\"scattergeo\"}],\"scattergl\":[{\"marker\":{\"colorbar\":{\"outlinewidth\":0,\"ticks\":\"\"}},\"type\":\"scattergl\"}],\"scattermapbox\":[{\"marker\":{\"colorbar\":{\"outlinewidth\":0,\"ticks\":\"\"}},\"type\":\"scattermapbox\"}],\"scatterpolargl\":[{\"marker\":{\"colorbar\":{\"outlinewidth\":0,\"ticks\":\"\"}},\"type\":\"scatterpolargl\"}],\"scatterpolar\":[{\"marker\":{\"colorbar\":{\"outlinewidth\":0,\"ticks\":\"\"}},\"type\":\"scatterpolar\"}],\"scatter\":[{\"fillpattern\":{\"fillmode\":\"overlay\",\"size\":10,\"solidity\":0.2},\"type\":\"scatter\"}],\"scatterternary\":[{\"marker\":{\"colorbar\":{\"outlinewidth\":0,\"ticks\":\"\"}},\"type\":\"scatterternary\"}],\"surface\":[{\"colorbar\":{\"outlinewidth\":0,\"ticks\":\"\"},\"colorscale\":[[0.0,\"#0d0887\"],[0.1111111111111111,\"#46039f\"],[0.2222222222222222,\"#7201a8\"],[0.3333333333333333,\"#9c179e\"],[0.4444444444444444,\"#bd3786\"],[0.5555555555555556,\"#d8576b\"],[0.6666666666666666,\"#ed7953\"],[0.7777777777777778,\"#fb9f3a\"],[0.8888888888888888,\"#fdca26\"],[1.0,\"#f0f921\"]],\"type\":\"surface\"}],\"table\":[{\"cells\":{\"fill\":{\"color\":\"#EBF0F8\"},\"line\":{\"color\":\"white\"}},\"header\":{\"fill\":{\"color\":\"#C8D4E3\"},\"line\":{\"color\":\"white\"}},\"type\":\"table\"}]},\"layout\":{\"annotationdefaults\":{\"arrowcolor\":\"#2a3f5f\",\"arrowhead\":0,\"arrowwidth\":1},\"autotypenumbers\":\"strict\",\"coloraxis\":{\"colorbar\":{\"outlinewidth\":0,\"ticks\":\"\"}},\"colorscale\":{\"diverging\":[[0,\"#8e0152\"],[0.1,\"#c51b7d\"],[0.2,\"#de77ae\"],[0.3,\"#f1b6da\"],[0.4,\"#fde0ef\"],[0.5,\"#f7f7f7\"],[0.6,\"#e6f5d0\"],[0.7,\"#b8e186\"],[0.8,\"#7fbc41\"],[0.9,\"#4d9221\"],[1,\"#276419\"]],\"sequential\":[[0.0,\"#0d0887\"],[0.1111111111111111,\"#46039f\"],[0.2222222222222222,\"#7201a8\"],[0.3333333333333333,\"#9c179e\"],[0.4444444444444444,\"#bd3786\"],[0.5555555555555556,\"#d8576b\"],[0.6666666666666666,\"#ed7953\"],[0.7777777777777778,\"#fb9f3a\"],[0.8888888888888888,\"#fdca26\"],[1.0,\"#f0f921\"]],\"sequentialminus\":[[0.0,\"#0d0887\"],[0.1111111111111111,\"#46039f\"],[0.2222222222222222,\"#7201a8\"],[0.3333333333333333,\"#9c179e\"],[0.4444444444444444,\"#bd3786\"],[0.5555555555555556,\"#d8576b\"],[0.6666666666666666,\"#ed7953\"],[0.7777777777777778,\"#fb9f3a\"],[0.8888888888888888,\"#fdca26\"],[1.0,\"#f0f921\"]]},\"colorway\":[\"#636efa\",\"#EF553B\",\"#00cc96\",\"#ab63fa\",\"#FFA15A\",\"#19d3f3\",\"#FF6692\",\"#B6E880\",\"#FF97FF\",\"#FECB52\"],\"font\":{\"color\":\"#2a3f5f\"},\"geo\":{\"bgcolor\":\"white\",\"lakecolor\":\"white\",\"landcolor\":\"#E5ECF6\",\"showlakes\":true,\"showland\":true,\"subunitcolor\":\"white\"},\"hoverlabel\":{\"align\":\"left\"},\"hovermode\":\"closest\",\"mapbox\":{\"style\":\"light\"},\"paper_bgcolor\":\"white\",\"plot_bgcolor\":\"#E5ECF6\",\"polar\":{\"angularaxis\":{\"gridcolor\":\"white\",\"linecolor\":\"white\",\"ticks\":\"\"},\"bgcolor\":\"#E5ECF6\",\"radialaxis\":{\"gridcolor\":\"white\",\"linecolor\":\"white\",\"ticks\":\"\"}},\"scene\":{\"xaxis\":{\"backgroundcolor\":\"#E5ECF6\",\"gridcolor\":\"white\",\"gridwidth\":2,\"linecolor\":\"white\",\"showbackground\":true,\"ticks\":\"\",\"zerolinecolor\":\"white\"},\"yaxis\":{\"backgroundcolor\":\"#E5ECF6\",\"gridcolor\":\"white\",\"gridwidth\":2,\"linecolor\":\"white\",\"showbackground\":true,\"ticks\":\"\",\"zerolinecolor\":\"white\"},\"zaxis\":{\"backgroundcolor\":\"#E5ECF6\",\"gridcolor\":\"white\",\"gridwidth\":2,\"linecolor\":\"white\",\"showbackground\":true,\"ticks\":\"\",\"zerolinecolor\":\"white\"}},\"shapedefaults\":{\"line\":{\"color\":\"#2a3f5f\"}},\"ternary\":{\"aaxis\":{\"gridcolor\":\"white\",\"linecolor\":\"white\",\"ticks\":\"\"},\"baxis\":{\"gridcolor\":\"white\",\"linecolor\":\"white\",\"ticks\":\"\"},\"bgcolor\":\"#E5ECF6\",\"caxis\":{\"gridcolor\":\"white\",\"linecolor\":\"white\",\"ticks\":\"\"}},\"title\":{\"x\":0.05},\"xaxis\":{\"automargin\":true,\"gridcolor\":\"white\",\"linecolor\":\"white\",\"ticks\":\"\",\"title\":{\"standoff\":15},\"zerolinecolor\":\"white\",\"zerolinewidth\":2},\"yaxis\":{\"automargin\":true,\"gridcolor\":\"white\",\"linecolor\":\"white\",\"ticks\":\"\",\"title\":{\"standoff\":15},\"zerolinecolor\":\"white\",\"zerolinewidth\":2}}},\"title\":{\"font\":{\"color\":\"#4D5663\"}},\"xaxis\":{\"gridcolor\":\"#E1E5ED\",\"showgrid\":true,\"tickfont\":{\"color\":\"#4D5663\"},\"title\":{\"font\":{\"color\":\"#4D5663\"},\"text\":\"\"},\"zerolinecolor\":\"#E1E5ED\"},\"yaxis\":{\"gridcolor\":\"#E1E5ED\",\"showgrid\":true,\"tickfont\":{\"color\":\"#4D5663\"},\"title\":{\"font\":{\"color\":\"#4D5663\"},\"text\":\"\"},\"zerolinecolor\":\"#E1E5ED\"}},                        {\"showLink\": true, \"linkText\": \"Export to plot.ly\", \"plotlyServerURL\": \"https://plot.ly\", \"responsive\": true}                    ).then(function(){\n",
       "                            \n",
       "var gd = document.getElementById('13aa780f-11f5-45eb-bdcf-75414b8969eb');\n",
       "var x = new MutationObserver(function (mutations, observer) {{\n",
       "        var display = window.getComputedStyle(gd).display;\n",
       "        if (!display || display === 'none') {{\n",
       "            console.log([gd, 'removed!']);\n",
       "            Plotly.purge(gd);\n",
       "            observer.disconnect();\n",
       "        }}\n",
       "}});\n",
       "\n",
       "// Listen for the removal of the full notebook cells\n",
       "var notebookContainer = gd.closest('#notebook-container');\n",
       "if (notebookContainer) {{\n",
       "    x.observe(notebookContainer, {childList: true});\n",
       "}}\n",
       "\n",
       "// Listen for the clearing of the current output cell\n",
       "var outputEl = gd.closest('.output');\n",
       "if (outputEl) {{\n",
       "    x.observe(outputEl, {childList: true});\n",
       "}}\n",
       "\n",
       "                        })                };                });            </script>        </div>"
      ]
     },
     "metadata": {},
     "output_type": "display_data"
    }
   ],
   "source": [
    "titanic.iplot(kind='scatter',x='Pclass',y='Embarked',mode='markers',size=10)"
   ]
  },
  {
   "cell_type": "code",
   "execution_count": 53,
   "id": "chinese-fortune",
   "metadata": {
    "execution": {
     "iopub.execute_input": "2021-06-14T14:05:11.669095Z",
     "iopub.status.busy": "2021-06-14T14:05:11.668417Z",
     "iopub.status.idle": "2021-06-14T14:05:11.727085Z",
     "shell.execute_reply": "2021-06-14T14:05:11.727617Z",
     "shell.execute_reply.started": "2021-06-14T14:03:50.770962Z"
    },
    "papermill": {
     "duration": 0.143823,
     "end_time": "2021-06-14T14:05:11.727801",
     "exception": false,
     "start_time": "2021-06-14T14:05:11.583978",
     "status": "completed"
    },
    "tags": []
   },
   "outputs": [
    {
     "data": {
      "application/vnd.plotly.v1+json": {
       "config": {
        "linkText": "Export to plot.ly",
        "plotlyServerURL": "https://plot.ly",
        "showLink": true
       },
       "data": [
        {
         "marker": {
          "color": "rgba(255, 153, 51, 0.6)",
          "line": {
           "color": "rgba(255, 153, 51, 1.0)",
           "width": 1
          }
         },
         "name": "Embarked",
         "orientation": "v",
         "text": "",
         "type": "bar",
         "x": [
          "Lower Class",
          "Lower Class",
          "Lower Class",
          "Lower Class",
          "Upper Class",
          "Upper Class",
          "Middle Class",
          "Lower Class",
          "Lower Class",
          "Upper Class",
          "Upper Class",
          "Upper Class",
          "Lower Class",
          "Lower Class",
          "Lower Class",
          "Lower Class",
          "Middle Class",
          "Upper Class",
          "Upper Class",
          "Lower Class",
          "Middle Class",
          "Upper Class",
          "Upper Class",
          "Lower Class",
          "Middle Class",
          "Lower Class",
          "Upper Class",
          "Lower Class",
          "Lower Class",
          "Upper Class",
          "Upper Class",
          "Lower Class",
          "Lower Class",
          "Lower Class",
          "Lower Class",
          "Lower Class",
          "Upper Class",
          "Upper Class",
          "Lower Class",
          "Upper Class",
          "Lower Class",
          "Lower Class",
          "Upper Class",
          "Lower Class",
          "Upper Class",
          "Lower Class",
          "Middle Class",
          "Middle Class",
          "Upper Class",
          "Lower Class",
          "Lower Class",
          "Lower Class",
          "Lower Class",
          "Lower Class",
          "Upper Class",
          "Upper Class",
          "Lower Class",
          "Upper Class",
          "Lower Class",
          "Lower Class",
          "Lower Class",
          "Middle Class",
          "Lower Class",
          "Upper Class",
          "Lower Class",
          "Middle Class",
          "Middle Class",
          "Middle Class",
          "Upper Class",
          "Upper Class",
          "Upper Class",
          "Middle Class",
          "Lower Class",
          "Lower Class",
          "Lower Class",
          "Lower Class",
          "Middle Class",
          "Lower Class",
          "Upper Class",
          "Middle Class",
          "Lower Class",
          "Lower Class",
          "Upper Class",
          "Middle Class",
          "Middle Class",
          "Upper Class",
          "Lower Class",
          "Lower Class",
          "Upper Class",
          "Middle Class",
          "Upper Class",
          "Upper Class",
          "Middle Class",
          "Middle Class",
          "Middle Class",
          "Lower Class",
          "Middle Class",
          "Middle Class",
          "Middle Class",
          "Lower Class",
          "Lower Class",
          "Upper Class",
          "Lower Class",
          "Middle Class",
          "Lower Class",
          "Lower Class",
          "Lower Class",
          "Lower Class",
          "Lower Class",
          "Middle Class",
          "Lower Class",
          "Upper Class",
          "Lower Class",
          "Lower Class",
          "Upper Class",
          "Lower Class",
          "Upper Class",
          "Middle Class",
          "Middle Class",
          "Lower Class",
          "Upper Class",
          "Lower Class",
          "Lower Class",
          "Middle Class",
          "Upper Class",
          "Lower Class",
          "Upper Class",
          "Lower Class",
          "Middle Class",
          "Middle Class",
          "Upper Class",
          "Lower Class",
          "Lower Class",
          "Upper Class",
          "Upper Class",
          "Upper Class",
          "Upper Class",
          "Lower Class",
          "Lower Class",
          "Lower Class",
          "Middle Class",
          "Upper Class",
          "Upper Class",
          "Upper Class",
          "Upper Class",
          "Upper Class",
          "Lower Class",
          "Lower Class",
          "Lower Class",
          "Upper Class",
          "Lower Class",
          "Upper Class"
         ],
         "y": [
          "Southampton",
          "Southampton",
          "Queenstown",
          "Cherbourg",
          "Southampton",
          "Southampton",
          "Cherbourg",
          "Southampton",
          "Cherbourg",
          "Southampton",
          "Cherbourg",
          "Cherbourg",
          "Southampton",
          "Southampton",
          "Southampton",
          "Southampton",
          "Southampton",
          "Southampton",
          "Cherbourg",
          "Southampton",
          "Southampton",
          "Southampton",
          "Cherbourg",
          "Queenstown",
          "Southampton",
          "Queenstown",
          "Southampton",
          "Queenstown",
          "Southampton",
          "Cherbourg",
          "Southampton",
          "Queenstown",
          "Queenstown",
          "Southampton",
          "Queenstown",
          "Southampton",
          "Southampton",
          "Southampton",
          "Southampton",
          "Cherbourg",
          "Cherbourg",
          "Queenstown",
          "Cherbourg",
          "Queenstown",
          "Southampton",
          "Southampton",
          "Southampton",
          "Southampton",
          "Cherbourg",
          "Southampton",
          "Queenstown",
          "Southampton",
          "Southampton",
          "Southampton",
          "Southampton",
          "Cherbourg",
          "Southampton",
          "Southampton",
          "Southampton",
          "Southampton",
          "Queenstown",
          "Southampton",
          "Southampton",
          "Cherbourg",
          "Southampton",
          "Southampton",
          "Southampton",
          "Southampton",
          "Cherbourg",
          "Southampton",
          "Cherbourg",
          "Southampton",
          "Southampton",
          "Southampton",
          "Southampton",
          "Queenstown",
          "Southampton",
          "Queenstown",
          "Cherbourg",
          "Southampton",
          "Southampton",
          "Queenstown",
          "Cherbourg",
          "Cherbourg",
          "Southampton",
          "Cherbourg",
          "Cherbourg",
          "Queenstown",
          "Southampton",
          "Southampton",
          "Cherbourg",
          "Cherbourg",
          "Southampton",
          "Southampton",
          "Southampton",
          "Cherbourg",
          "Southampton",
          "Southampton",
          "Southampton",
          "Southampton",
          "Southampton",
          "Cherbourg",
          "Queenstown",
          "Southampton",
          "Southampton",
          "Queenstown",
          "Cherbourg",
          "Southampton",
          "Queenstown",
          "Cherbourg",
          "Queenstown",
          "Southampton",
          "Southampton",
          "Queenstown",
          "Cherbourg",
          "Queenstown",
          "Southampton",
          "Southampton",
          "Southampton",
          "Cherbourg",
          "Cherbourg",
          "Southampton",
          "Cherbourg",
          "Southampton",
          "Cherbourg",
          "Southampton",
          "Southampton",
          "Southampton",
          "Cherbourg",
          "Southampton",
          "Cherbourg",
          "Southampton",
          "Southampton",
          "Cherbourg",
          "Cherbourg",
          "Southampton",
          "Cherbourg",
          "Southampton",
          "Southampton",
          "Southampton",
          "Southampton",
          "Southampton",
          "Southampton",
          "Cherbourg",
          "Southampton",
          "Cherbourg",
          "Queenstown",
          "Southampton",
          "Queenstown",
          "Queenstown",
          "Southampton",
          "Cherbourg"
         ]
        }
       ],
       "layout": {
        "legend": {
         "bgcolor": "#F5F6F9",
         "font": {
          "color": "#4D5663"
         }
        },
        "paper_bgcolor": "#F5F6F9",
        "plot_bgcolor": "#F5F6F9",
        "template": {
         "data": {
          "bar": [
           {
            "error_x": {
             "color": "#2a3f5f"
            },
            "error_y": {
             "color": "#2a3f5f"
            },
            "marker": {
             "line": {
              "color": "#E5ECF6",
              "width": 0.5
             },
             "pattern": {
              "fillmode": "overlay",
              "size": 10,
              "solidity": 0.2
             }
            },
            "type": "bar"
           }
          ],
          "barpolar": [
           {
            "marker": {
             "line": {
              "color": "#E5ECF6",
              "width": 0.5
             },
             "pattern": {
              "fillmode": "overlay",
              "size": 10,
              "solidity": 0.2
             }
            },
            "type": "barpolar"
           }
          ],
          "carpet": [
           {
            "aaxis": {
             "endlinecolor": "#2a3f5f",
             "gridcolor": "white",
             "linecolor": "white",
             "minorgridcolor": "white",
             "startlinecolor": "#2a3f5f"
            },
            "baxis": {
             "endlinecolor": "#2a3f5f",
             "gridcolor": "white",
             "linecolor": "white",
             "minorgridcolor": "white",
             "startlinecolor": "#2a3f5f"
            },
            "type": "carpet"
           }
          ],
          "choropleth": [
           {
            "colorbar": {
             "outlinewidth": 0,
             "ticks": ""
            },
            "type": "choropleth"
           }
          ],
          "contour": [
           {
            "colorbar": {
             "outlinewidth": 0,
             "ticks": ""
            },
            "colorscale": [
             [
              0,
              "#0d0887"
             ],
             [
              0.1111111111111111,
              "#46039f"
             ],
             [
              0.2222222222222222,
              "#7201a8"
             ],
             [
              0.3333333333333333,
              "#9c179e"
             ],
             [
              0.4444444444444444,
              "#bd3786"
             ],
             [
              0.5555555555555556,
              "#d8576b"
             ],
             [
              0.6666666666666666,
              "#ed7953"
             ],
             [
              0.7777777777777778,
              "#fb9f3a"
             ],
             [
              0.8888888888888888,
              "#fdca26"
             ],
             [
              1,
              "#f0f921"
             ]
            ],
            "type": "contour"
           }
          ],
          "contourcarpet": [
           {
            "colorbar": {
             "outlinewidth": 0,
             "ticks": ""
            },
            "type": "contourcarpet"
           }
          ],
          "heatmap": [
           {
            "colorbar": {
             "outlinewidth": 0,
             "ticks": ""
            },
            "colorscale": [
             [
              0,
              "#0d0887"
             ],
             [
              0.1111111111111111,
              "#46039f"
             ],
             [
              0.2222222222222222,
              "#7201a8"
             ],
             [
              0.3333333333333333,
              "#9c179e"
             ],
             [
              0.4444444444444444,
              "#bd3786"
             ],
             [
              0.5555555555555556,
              "#d8576b"
             ],
             [
              0.6666666666666666,
              "#ed7953"
             ],
             [
              0.7777777777777778,
              "#fb9f3a"
             ],
             [
              0.8888888888888888,
              "#fdca26"
             ],
             [
              1,
              "#f0f921"
             ]
            ],
            "type": "heatmap"
           }
          ],
          "heatmapgl": [
           {
            "colorbar": {
             "outlinewidth": 0,
             "ticks": ""
            },
            "colorscale": [
             [
              0,
              "#0d0887"
             ],
             [
              0.1111111111111111,
              "#46039f"
             ],
             [
              0.2222222222222222,
              "#7201a8"
             ],
             [
              0.3333333333333333,
              "#9c179e"
             ],
             [
              0.4444444444444444,
              "#bd3786"
             ],
             [
              0.5555555555555556,
              "#d8576b"
             ],
             [
              0.6666666666666666,
              "#ed7953"
             ],
             [
              0.7777777777777778,
              "#fb9f3a"
             ],
             [
              0.8888888888888888,
              "#fdca26"
             ],
             [
              1,
              "#f0f921"
             ]
            ],
            "type": "heatmapgl"
           }
          ],
          "histogram": [
           {
            "marker": {
             "pattern": {
              "fillmode": "overlay",
              "size": 10,
              "solidity": 0.2
             }
            },
            "type": "histogram"
           }
          ],
          "histogram2d": [
           {
            "colorbar": {
             "outlinewidth": 0,
             "ticks": ""
            },
            "colorscale": [
             [
              0,
              "#0d0887"
             ],
             [
              0.1111111111111111,
              "#46039f"
             ],
             [
              0.2222222222222222,
              "#7201a8"
             ],
             [
              0.3333333333333333,
              "#9c179e"
             ],
             [
              0.4444444444444444,
              "#bd3786"
             ],
             [
              0.5555555555555556,
              "#d8576b"
             ],
             [
              0.6666666666666666,
              "#ed7953"
             ],
             [
              0.7777777777777778,
              "#fb9f3a"
             ],
             [
              0.8888888888888888,
              "#fdca26"
             ],
             [
              1,
              "#f0f921"
             ]
            ],
            "type": "histogram2d"
           }
          ],
          "histogram2dcontour": [
           {
            "colorbar": {
             "outlinewidth": 0,
             "ticks": ""
            },
            "colorscale": [
             [
              0,
              "#0d0887"
             ],
             [
              0.1111111111111111,
              "#46039f"
             ],
             [
              0.2222222222222222,
              "#7201a8"
             ],
             [
              0.3333333333333333,
              "#9c179e"
             ],
             [
              0.4444444444444444,
              "#bd3786"
             ],
             [
              0.5555555555555556,
              "#d8576b"
             ],
             [
              0.6666666666666666,
              "#ed7953"
             ],
             [
              0.7777777777777778,
              "#fb9f3a"
             ],
             [
              0.8888888888888888,
              "#fdca26"
             ],
             [
              1,
              "#f0f921"
             ]
            ],
            "type": "histogram2dcontour"
           }
          ],
          "mesh3d": [
           {
            "colorbar": {
             "outlinewidth": 0,
             "ticks": ""
            },
            "type": "mesh3d"
           }
          ],
          "parcoords": [
           {
            "line": {
             "colorbar": {
              "outlinewidth": 0,
              "ticks": ""
             }
            },
            "type": "parcoords"
           }
          ],
          "pie": [
           {
            "automargin": true,
            "type": "pie"
           }
          ],
          "scatter": [
           {
            "fillpattern": {
             "fillmode": "overlay",
             "size": 10,
             "solidity": 0.2
            },
            "type": "scatter"
           }
          ],
          "scatter3d": [
           {
            "line": {
             "colorbar": {
              "outlinewidth": 0,
              "ticks": ""
             }
            },
            "marker": {
             "colorbar": {
              "outlinewidth": 0,
              "ticks": ""
             }
            },
            "type": "scatter3d"
           }
          ],
          "scattercarpet": [
           {
            "marker": {
             "colorbar": {
              "outlinewidth": 0,
              "ticks": ""
             }
            },
            "type": "scattercarpet"
           }
          ],
          "scattergeo": [
           {
            "marker": {
             "colorbar": {
              "outlinewidth": 0,
              "ticks": ""
             }
            },
            "type": "scattergeo"
           }
          ],
          "scattergl": [
           {
            "marker": {
             "colorbar": {
              "outlinewidth": 0,
              "ticks": ""
             }
            },
            "type": "scattergl"
           }
          ],
          "scattermapbox": [
           {
            "marker": {
             "colorbar": {
              "outlinewidth": 0,
              "ticks": ""
             }
            },
            "type": "scattermapbox"
           }
          ],
          "scatterpolar": [
           {
            "marker": {
             "colorbar": {
              "outlinewidth": 0,
              "ticks": ""
             }
            },
            "type": "scatterpolar"
           }
          ],
          "scatterpolargl": [
           {
            "marker": {
             "colorbar": {
              "outlinewidth": 0,
              "ticks": ""
             }
            },
            "type": "scatterpolargl"
           }
          ],
          "scatterternary": [
           {
            "marker": {
             "colorbar": {
              "outlinewidth": 0,
              "ticks": ""
             }
            },
            "type": "scatterternary"
           }
          ],
          "surface": [
           {
            "colorbar": {
             "outlinewidth": 0,
             "ticks": ""
            },
            "colorscale": [
             [
              0,
              "#0d0887"
             ],
             [
              0.1111111111111111,
              "#46039f"
             ],
             [
              0.2222222222222222,
              "#7201a8"
             ],
             [
              0.3333333333333333,
              "#9c179e"
             ],
             [
              0.4444444444444444,
              "#bd3786"
             ],
             [
              0.5555555555555556,
              "#d8576b"
             ],
             [
              0.6666666666666666,
              "#ed7953"
             ],
             [
              0.7777777777777778,
              "#fb9f3a"
             ],
             [
              0.8888888888888888,
              "#fdca26"
             ],
             [
              1,
              "#f0f921"
             ]
            ],
            "type": "surface"
           }
          ],
          "table": [
           {
            "cells": {
             "fill": {
              "color": "#EBF0F8"
             },
             "line": {
              "color": "white"
             }
            },
            "header": {
             "fill": {
              "color": "#C8D4E3"
             },
             "line": {
              "color": "white"
             }
            },
            "type": "table"
           }
          ]
         },
         "layout": {
          "annotationdefaults": {
           "arrowcolor": "#2a3f5f",
           "arrowhead": 0,
           "arrowwidth": 1
          },
          "autotypenumbers": "strict",
          "coloraxis": {
           "colorbar": {
            "outlinewidth": 0,
            "ticks": ""
           }
          },
          "colorscale": {
           "diverging": [
            [
             0,
             "#8e0152"
            ],
            [
             0.1,
             "#c51b7d"
            ],
            [
             0.2,
             "#de77ae"
            ],
            [
             0.3,
             "#f1b6da"
            ],
            [
             0.4,
             "#fde0ef"
            ],
            [
             0.5,
             "#f7f7f7"
            ],
            [
             0.6,
             "#e6f5d0"
            ],
            [
             0.7,
             "#b8e186"
            ],
            [
             0.8,
             "#7fbc41"
            ],
            [
             0.9,
             "#4d9221"
            ],
            [
             1,
             "#276419"
            ]
           ],
           "sequential": [
            [
             0,
             "#0d0887"
            ],
            [
             0.1111111111111111,
             "#46039f"
            ],
            [
             0.2222222222222222,
             "#7201a8"
            ],
            [
             0.3333333333333333,
             "#9c179e"
            ],
            [
             0.4444444444444444,
             "#bd3786"
            ],
            [
             0.5555555555555556,
             "#d8576b"
            ],
            [
             0.6666666666666666,
             "#ed7953"
            ],
            [
             0.7777777777777778,
             "#fb9f3a"
            ],
            [
             0.8888888888888888,
             "#fdca26"
            ],
            [
             1,
             "#f0f921"
            ]
           ],
           "sequentialminus": [
            [
             0,
             "#0d0887"
            ],
            [
             0.1111111111111111,
             "#46039f"
            ],
            [
             0.2222222222222222,
             "#7201a8"
            ],
            [
             0.3333333333333333,
             "#9c179e"
            ],
            [
             0.4444444444444444,
             "#bd3786"
            ],
            [
             0.5555555555555556,
             "#d8576b"
            ],
            [
             0.6666666666666666,
             "#ed7953"
            ],
            [
             0.7777777777777778,
             "#fb9f3a"
            ],
            [
             0.8888888888888888,
             "#fdca26"
            ],
            [
             1,
             "#f0f921"
            ]
           ]
          },
          "colorway": [
           "#636efa",
           "#EF553B",
           "#00cc96",
           "#ab63fa",
           "#FFA15A",
           "#19d3f3",
           "#FF6692",
           "#B6E880",
           "#FF97FF",
           "#FECB52"
          ],
          "font": {
           "color": "#2a3f5f"
          },
          "geo": {
           "bgcolor": "white",
           "lakecolor": "white",
           "landcolor": "#E5ECF6",
           "showlakes": true,
           "showland": true,
           "subunitcolor": "white"
          },
          "hoverlabel": {
           "align": "left"
          },
          "hovermode": "closest",
          "mapbox": {
           "style": "light"
          },
          "paper_bgcolor": "white",
          "plot_bgcolor": "#E5ECF6",
          "polar": {
           "angularaxis": {
            "gridcolor": "white",
            "linecolor": "white",
            "ticks": ""
           },
           "bgcolor": "#E5ECF6",
           "radialaxis": {
            "gridcolor": "white",
            "linecolor": "white",
            "ticks": ""
           }
          },
          "scene": {
           "xaxis": {
            "backgroundcolor": "#E5ECF6",
            "gridcolor": "white",
            "gridwidth": 2,
            "linecolor": "white",
            "showbackground": true,
            "ticks": "",
            "zerolinecolor": "white"
           },
           "yaxis": {
            "backgroundcolor": "#E5ECF6",
            "gridcolor": "white",
            "gridwidth": 2,
            "linecolor": "white",
            "showbackground": true,
            "ticks": "",
            "zerolinecolor": "white"
           },
           "zaxis": {
            "backgroundcolor": "#E5ECF6",
            "gridcolor": "white",
            "gridwidth": 2,
            "linecolor": "white",
            "showbackground": true,
            "ticks": "",
            "zerolinecolor": "white"
           }
          },
          "shapedefaults": {
           "line": {
            "color": "#2a3f5f"
           }
          },
          "ternary": {
           "aaxis": {
            "gridcolor": "white",
            "linecolor": "white",
            "ticks": ""
           },
           "baxis": {
            "gridcolor": "white",
            "linecolor": "white",
            "ticks": ""
           },
           "bgcolor": "#E5ECF6",
           "caxis": {
            "gridcolor": "white",
            "linecolor": "white",
            "ticks": ""
           }
          },
          "title": {
           "x": 0.05
          },
          "xaxis": {
           "automargin": true,
           "gridcolor": "white",
           "linecolor": "white",
           "ticks": "",
           "title": {
            "standoff": 15
           },
           "zerolinecolor": "white",
           "zerolinewidth": 2
          },
          "yaxis": {
           "automargin": true,
           "gridcolor": "white",
           "linecolor": "white",
           "ticks": "",
           "title": {
            "standoff": 15
           },
           "zerolinecolor": "white",
           "zerolinewidth": 2
          }
         }
        },
        "title": {
         "font": {
          "color": "#4D5663"
         }
        },
        "xaxis": {
         "gridcolor": "#E1E5ED",
         "showgrid": true,
         "tickfont": {
          "color": "#4D5663"
         },
         "title": {
          "font": {
           "color": "#4D5663"
          },
          "text": ""
         },
         "zerolinecolor": "#E1E5ED"
        },
        "yaxis": {
         "gridcolor": "#E1E5ED",
         "showgrid": true,
         "tickfont": {
          "color": "#4D5663"
         },
         "title": {
          "font": {
           "color": "#4D5663"
          },
          "text": ""
         },
         "zerolinecolor": "#E1E5ED"
        }
       }
      },
      "text/html": [
       "<div>                            <div id=\"253e4b7a-0996-487c-b051-e0a5c618c52a\" class=\"plotly-graph-div\" style=\"height:525px; width:100%;\"></div>            <script type=\"text/javascript\">                require([\"plotly\"], function(Plotly) {                    window.PLOTLYENV=window.PLOTLYENV || {};\n",
       "                    window.PLOTLYENV.BASE_URL='https://plot.ly';                                    if (document.getElementById(\"253e4b7a-0996-487c-b051-e0a5c618c52a\")) {                    Plotly.newPlot(                        \"253e4b7a-0996-487c-b051-e0a5c618c52a\",                        [{\"marker\":{\"color\":\"rgba(255, 153, 51, 0.6)\",\"line\":{\"color\":\"rgba(255, 153, 51, 1.0)\",\"width\":1}},\"name\":\"Embarked\",\"orientation\":\"v\",\"text\":\"\",\"x\":[\"Lower Class\",\"Lower Class\",\"Lower Class\",\"Lower Class\",\"Upper Class\",\"Upper Class\",\"Middle Class\",\"Lower Class\",\"Lower Class\",\"Upper Class\",\"Upper Class\",\"Upper Class\",\"Lower Class\",\"Lower Class\",\"Lower Class\",\"Lower Class\",\"Middle Class\",\"Upper Class\",\"Upper Class\",\"Lower Class\",\"Middle Class\",\"Upper Class\",\"Upper Class\",\"Lower Class\",\"Middle Class\",\"Lower Class\",\"Upper Class\",\"Lower Class\",\"Lower Class\",\"Upper Class\",\"Upper Class\",\"Lower Class\",\"Lower Class\",\"Lower Class\",\"Lower Class\",\"Lower Class\",\"Upper Class\",\"Upper Class\",\"Lower Class\",\"Upper Class\",\"Lower Class\",\"Lower Class\",\"Upper Class\",\"Lower Class\",\"Upper Class\",\"Lower Class\",\"Middle Class\",\"Middle Class\",\"Upper Class\",\"Lower Class\",\"Lower Class\",\"Lower Class\",\"Lower Class\",\"Lower Class\",\"Upper Class\",\"Upper Class\",\"Lower Class\",\"Upper Class\",\"Lower Class\",\"Lower Class\",\"Lower Class\",\"Middle Class\",\"Lower Class\",\"Upper Class\",\"Lower Class\",\"Middle Class\",\"Middle Class\",\"Middle Class\",\"Upper Class\",\"Upper Class\",\"Upper Class\",\"Middle Class\",\"Lower Class\",\"Lower Class\",\"Lower Class\",\"Lower Class\",\"Middle Class\",\"Lower Class\",\"Upper Class\",\"Middle Class\",\"Lower Class\",\"Lower Class\",\"Upper Class\",\"Middle Class\",\"Middle Class\",\"Upper Class\",\"Lower Class\",\"Lower Class\",\"Upper Class\",\"Middle Class\",\"Upper Class\",\"Upper Class\",\"Middle Class\",\"Middle Class\",\"Middle Class\",\"Lower Class\",\"Middle Class\",\"Middle Class\",\"Middle Class\",\"Lower Class\",\"Lower Class\",\"Upper Class\",\"Lower Class\",\"Middle Class\",\"Lower Class\",\"Lower Class\",\"Lower Class\",\"Lower Class\",\"Lower Class\",\"Middle Class\",\"Lower Class\",\"Upper Class\",\"Lower Class\",\"Lower Class\",\"Upper Class\",\"Lower Class\",\"Upper Class\",\"Middle Class\",\"Middle Class\",\"Lower Class\",\"Upper Class\",\"Lower Class\",\"Lower Class\",\"Middle Class\",\"Upper Class\",\"Lower Class\",\"Upper Class\",\"Lower Class\",\"Middle Class\",\"Middle Class\",\"Upper Class\",\"Lower Class\",\"Lower Class\",\"Upper Class\",\"Upper Class\",\"Upper Class\",\"Upper Class\",\"Lower Class\",\"Lower Class\",\"Lower Class\",\"Middle Class\",\"Upper Class\",\"Upper Class\",\"Upper Class\",\"Upper Class\",\"Upper Class\",\"Lower Class\",\"Lower Class\",\"Lower Class\",\"Upper Class\",\"Lower Class\",\"Upper Class\"],\"y\":[\"Southampton\",\"Southampton\",\"Queenstown\",\"Cherbourg\",\"Southampton\",\"Southampton\",\"Cherbourg\",\"Southampton\",\"Cherbourg\",\"Southampton\",\"Cherbourg\",\"Cherbourg\",\"Southampton\",\"Southampton\",\"Southampton\",\"Southampton\",\"Southampton\",\"Southampton\",\"Cherbourg\",\"Southampton\",\"Southampton\",\"Southampton\",\"Cherbourg\",\"Queenstown\",\"Southampton\",\"Queenstown\",\"Southampton\",\"Queenstown\",\"Southampton\",\"Cherbourg\",\"Southampton\",\"Queenstown\",\"Queenstown\",\"Southampton\",\"Queenstown\",\"Southampton\",\"Southampton\",\"Southampton\",\"Southampton\",\"Cherbourg\",\"Cherbourg\",\"Queenstown\",\"Cherbourg\",\"Queenstown\",\"Southampton\",\"Southampton\",\"Southampton\",\"Southampton\",\"Cherbourg\",\"Southampton\",\"Queenstown\",\"Southampton\",\"Southampton\",\"Southampton\",\"Southampton\",\"Cherbourg\",\"Southampton\",\"Southampton\",\"Southampton\",\"Southampton\",\"Queenstown\",\"Southampton\",\"Southampton\",\"Cherbourg\",\"Southampton\",\"Southampton\",\"Southampton\",\"Southampton\",\"Cherbourg\",\"Southampton\",\"Cherbourg\",\"Southampton\",\"Southampton\",\"Southampton\",\"Southampton\",\"Queenstown\",\"Southampton\",\"Queenstown\",\"Cherbourg\",\"Southampton\",\"Southampton\",\"Queenstown\",\"Cherbourg\",\"Cherbourg\",\"Southampton\",\"Cherbourg\",\"Cherbourg\",\"Queenstown\",\"Southampton\",\"Southampton\",\"Cherbourg\",\"Cherbourg\",\"Southampton\",\"Southampton\",\"Southampton\",\"Cherbourg\",\"Southampton\",\"Southampton\",\"Southampton\",\"Southampton\",\"Southampton\",\"Cherbourg\",\"Queenstown\",\"Southampton\",\"Southampton\",\"Queenstown\",\"Cherbourg\",\"Southampton\",\"Queenstown\",\"Cherbourg\",\"Queenstown\",\"Southampton\",\"Southampton\",\"Queenstown\",\"Cherbourg\",\"Queenstown\",\"Southampton\",\"Southampton\",\"Southampton\",\"Cherbourg\",\"Cherbourg\",\"Southampton\",\"Cherbourg\",\"Southampton\",\"Cherbourg\",\"Southampton\",\"Southampton\",\"Southampton\",\"Cherbourg\",\"Southampton\",\"Cherbourg\",\"Southampton\",\"Southampton\",\"Cherbourg\",\"Cherbourg\",\"Southampton\",\"Cherbourg\",\"Southampton\",\"Southampton\",\"Southampton\",\"Southampton\",\"Southampton\",\"Southampton\",\"Cherbourg\",\"Southampton\",\"Cherbourg\",\"Queenstown\",\"Southampton\",\"Queenstown\",\"Queenstown\",\"Southampton\",\"Cherbourg\"],\"type\":\"bar\"}],                        {\"legend\":{\"bgcolor\":\"#F5F6F9\",\"font\":{\"color\":\"#4D5663\"}},\"paper_bgcolor\":\"#F5F6F9\",\"plot_bgcolor\":\"#F5F6F9\",\"template\":{\"data\":{\"barpolar\":[{\"marker\":{\"line\":{\"color\":\"#E5ECF6\",\"width\":0.5},\"pattern\":{\"fillmode\":\"overlay\",\"size\":10,\"solidity\":0.2}},\"type\":\"barpolar\"}],\"bar\":[{\"error_x\":{\"color\":\"#2a3f5f\"},\"error_y\":{\"color\":\"#2a3f5f\"},\"marker\":{\"line\":{\"color\":\"#E5ECF6\",\"width\":0.5},\"pattern\":{\"fillmode\":\"overlay\",\"size\":10,\"solidity\":0.2}},\"type\":\"bar\"}],\"carpet\":[{\"aaxis\":{\"endlinecolor\":\"#2a3f5f\",\"gridcolor\":\"white\",\"linecolor\":\"white\",\"minorgridcolor\":\"white\",\"startlinecolor\":\"#2a3f5f\"},\"baxis\":{\"endlinecolor\":\"#2a3f5f\",\"gridcolor\":\"white\",\"linecolor\":\"white\",\"minorgridcolor\":\"white\",\"startlinecolor\":\"#2a3f5f\"},\"type\":\"carpet\"}],\"choropleth\":[{\"colorbar\":{\"outlinewidth\":0,\"ticks\":\"\"},\"type\":\"choropleth\"}],\"contourcarpet\":[{\"colorbar\":{\"outlinewidth\":0,\"ticks\":\"\"},\"type\":\"contourcarpet\"}],\"contour\":[{\"colorbar\":{\"outlinewidth\":0,\"ticks\":\"\"},\"colorscale\":[[0.0,\"#0d0887\"],[0.1111111111111111,\"#46039f\"],[0.2222222222222222,\"#7201a8\"],[0.3333333333333333,\"#9c179e\"],[0.4444444444444444,\"#bd3786\"],[0.5555555555555556,\"#d8576b\"],[0.6666666666666666,\"#ed7953\"],[0.7777777777777778,\"#fb9f3a\"],[0.8888888888888888,\"#fdca26\"],[1.0,\"#f0f921\"]],\"type\":\"contour\"}],\"heatmapgl\":[{\"colorbar\":{\"outlinewidth\":0,\"ticks\":\"\"},\"colorscale\":[[0.0,\"#0d0887\"],[0.1111111111111111,\"#46039f\"],[0.2222222222222222,\"#7201a8\"],[0.3333333333333333,\"#9c179e\"],[0.4444444444444444,\"#bd3786\"],[0.5555555555555556,\"#d8576b\"],[0.6666666666666666,\"#ed7953\"],[0.7777777777777778,\"#fb9f3a\"],[0.8888888888888888,\"#fdca26\"],[1.0,\"#f0f921\"]],\"type\":\"heatmapgl\"}],\"heatmap\":[{\"colorbar\":{\"outlinewidth\":0,\"ticks\":\"\"},\"colorscale\":[[0.0,\"#0d0887\"],[0.1111111111111111,\"#46039f\"],[0.2222222222222222,\"#7201a8\"],[0.3333333333333333,\"#9c179e\"],[0.4444444444444444,\"#bd3786\"],[0.5555555555555556,\"#d8576b\"],[0.6666666666666666,\"#ed7953\"],[0.7777777777777778,\"#fb9f3a\"],[0.8888888888888888,\"#fdca26\"],[1.0,\"#f0f921\"]],\"type\":\"heatmap\"}],\"histogram2dcontour\":[{\"colorbar\":{\"outlinewidth\":0,\"ticks\":\"\"},\"colorscale\":[[0.0,\"#0d0887\"],[0.1111111111111111,\"#46039f\"],[0.2222222222222222,\"#7201a8\"],[0.3333333333333333,\"#9c179e\"],[0.4444444444444444,\"#bd3786\"],[0.5555555555555556,\"#d8576b\"],[0.6666666666666666,\"#ed7953\"],[0.7777777777777778,\"#fb9f3a\"],[0.8888888888888888,\"#fdca26\"],[1.0,\"#f0f921\"]],\"type\":\"histogram2dcontour\"}],\"histogram2d\":[{\"colorbar\":{\"outlinewidth\":0,\"ticks\":\"\"},\"colorscale\":[[0.0,\"#0d0887\"],[0.1111111111111111,\"#46039f\"],[0.2222222222222222,\"#7201a8\"],[0.3333333333333333,\"#9c179e\"],[0.4444444444444444,\"#bd3786\"],[0.5555555555555556,\"#d8576b\"],[0.6666666666666666,\"#ed7953\"],[0.7777777777777778,\"#fb9f3a\"],[0.8888888888888888,\"#fdca26\"],[1.0,\"#f0f921\"]],\"type\":\"histogram2d\"}],\"histogram\":[{\"marker\":{\"pattern\":{\"fillmode\":\"overlay\",\"size\":10,\"solidity\":0.2}},\"type\":\"histogram\"}],\"mesh3d\":[{\"colorbar\":{\"outlinewidth\":0,\"ticks\":\"\"},\"type\":\"mesh3d\"}],\"parcoords\":[{\"line\":{\"colorbar\":{\"outlinewidth\":0,\"ticks\":\"\"}},\"type\":\"parcoords\"}],\"pie\":[{\"automargin\":true,\"type\":\"pie\"}],\"scatter3d\":[{\"line\":{\"colorbar\":{\"outlinewidth\":0,\"ticks\":\"\"}},\"marker\":{\"colorbar\":{\"outlinewidth\":0,\"ticks\":\"\"}},\"type\":\"scatter3d\"}],\"scattercarpet\":[{\"marker\":{\"colorbar\":{\"outlinewidth\":0,\"ticks\":\"\"}},\"type\":\"scattercarpet\"}],\"scattergeo\":[{\"marker\":{\"colorbar\":{\"outlinewidth\":0,\"ticks\":\"\"}},\"type\":\"scattergeo\"}],\"scattergl\":[{\"marker\":{\"colorbar\":{\"outlinewidth\":0,\"ticks\":\"\"}},\"type\":\"scattergl\"}],\"scattermapbox\":[{\"marker\":{\"colorbar\":{\"outlinewidth\":0,\"ticks\":\"\"}},\"type\":\"scattermapbox\"}],\"scatterpolargl\":[{\"marker\":{\"colorbar\":{\"outlinewidth\":0,\"ticks\":\"\"}},\"type\":\"scatterpolargl\"}],\"scatterpolar\":[{\"marker\":{\"colorbar\":{\"outlinewidth\":0,\"ticks\":\"\"}},\"type\":\"scatterpolar\"}],\"scatter\":[{\"fillpattern\":{\"fillmode\":\"overlay\",\"size\":10,\"solidity\":0.2},\"type\":\"scatter\"}],\"scatterternary\":[{\"marker\":{\"colorbar\":{\"outlinewidth\":0,\"ticks\":\"\"}},\"type\":\"scatterternary\"}],\"surface\":[{\"colorbar\":{\"outlinewidth\":0,\"ticks\":\"\"},\"colorscale\":[[0.0,\"#0d0887\"],[0.1111111111111111,\"#46039f\"],[0.2222222222222222,\"#7201a8\"],[0.3333333333333333,\"#9c179e\"],[0.4444444444444444,\"#bd3786\"],[0.5555555555555556,\"#d8576b\"],[0.6666666666666666,\"#ed7953\"],[0.7777777777777778,\"#fb9f3a\"],[0.8888888888888888,\"#fdca26\"],[1.0,\"#f0f921\"]],\"type\":\"surface\"}],\"table\":[{\"cells\":{\"fill\":{\"color\":\"#EBF0F8\"},\"line\":{\"color\":\"white\"}},\"header\":{\"fill\":{\"color\":\"#C8D4E3\"},\"line\":{\"color\":\"white\"}},\"type\":\"table\"}]},\"layout\":{\"annotationdefaults\":{\"arrowcolor\":\"#2a3f5f\",\"arrowhead\":0,\"arrowwidth\":1},\"autotypenumbers\":\"strict\",\"coloraxis\":{\"colorbar\":{\"outlinewidth\":0,\"ticks\":\"\"}},\"colorscale\":{\"diverging\":[[0,\"#8e0152\"],[0.1,\"#c51b7d\"],[0.2,\"#de77ae\"],[0.3,\"#f1b6da\"],[0.4,\"#fde0ef\"],[0.5,\"#f7f7f7\"],[0.6,\"#e6f5d0\"],[0.7,\"#b8e186\"],[0.8,\"#7fbc41\"],[0.9,\"#4d9221\"],[1,\"#276419\"]],\"sequential\":[[0.0,\"#0d0887\"],[0.1111111111111111,\"#46039f\"],[0.2222222222222222,\"#7201a8\"],[0.3333333333333333,\"#9c179e\"],[0.4444444444444444,\"#bd3786\"],[0.5555555555555556,\"#d8576b\"],[0.6666666666666666,\"#ed7953\"],[0.7777777777777778,\"#fb9f3a\"],[0.8888888888888888,\"#fdca26\"],[1.0,\"#f0f921\"]],\"sequentialminus\":[[0.0,\"#0d0887\"],[0.1111111111111111,\"#46039f\"],[0.2222222222222222,\"#7201a8\"],[0.3333333333333333,\"#9c179e\"],[0.4444444444444444,\"#bd3786\"],[0.5555555555555556,\"#d8576b\"],[0.6666666666666666,\"#ed7953\"],[0.7777777777777778,\"#fb9f3a\"],[0.8888888888888888,\"#fdca26\"],[1.0,\"#f0f921\"]]},\"colorway\":[\"#636efa\",\"#EF553B\",\"#00cc96\",\"#ab63fa\",\"#FFA15A\",\"#19d3f3\",\"#FF6692\",\"#B6E880\",\"#FF97FF\",\"#FECB52\"],\"font\":{\"color\":\"#2a3f5f\"},\"geo\":{\"bgcolor\":\"white\",\"lakecolor\":\"white\",\"landcolor\":\"#E5ECF6\",\"showlakes\":true,\"showland\":true,\"subunitcolor\":\"white\"},\"hoverlabel\":{\"align\":\"left\"},\"hovermode\":\"closest\",\"mapbox\":{\"style\":\"light\"},\"paper_bgcolor\":\"white\",\"plot_bgcolor\":\"#E5ECF6\",\"polar\":{\"angularaxis\":{\"gridcolor\":\"white\",\"linecolor\":\"white\",\"ticks\":\"\"},\"bgcolor\":\"#E5ECF6\",\"radialaxis\":{\"gridcolor\":\"white\",\"linecolor\":\"white\",\"ticks\":\"\"}},\"scene\":{\"xaxis\":{\"backgroundcolor\":\"#E5ECF6\",\"gridcolor\":\"white\",\"gridwidth\":2,\"linecolor\":\"white\",\"showbackground\":true,\"ticks\":\"\",\"zerolinecolor\":\"white\"},\"yaxis\":{\"backgroundcolor\":\"#E5ECF6\",\"gridcolor\":\"white\",\"gridwidth\":2,\"linecolor\":\"white\",\"showbackground\":true,\"ticks\":\"\",\"zerolinecolor\":\"white\"},\"zaxis\":{\"backgroundcolor\":\"#E5ECF6\",\"gridcolor\":\"white\",\"gridwidth\":2,\"linecolor\":\"white\",\"showbackground\":true,\"ticks\":\"\",\"zerolinecolor\":\"white\"}},\"shapedefaults\":{\"line\":{\"color\":\"#2a3f5f\"}},\"ternary\":{\"aaxis\":{\"gridcolor\":\"white\",\"linecolor\":\"white\",\"ticks\":\"\"},\"baxis\":{\"gridcolor\":\"white\",\"linecolor\":\"white\",\"ticks\":\"\"},\"bgcolor\":\"#E5ECF6\",\"caxis\":{\"gridcolor\":\"white\",\"linecolor\":\"white\",\"ticks\":\"\"}},\"title\":{\"x\":0.05},\"xaxis\":{\"automargin\":true,\"gridcolor\":\"white\",\"linecolor\":\"white\",\"ticks\":\"\",\"title\":{\"standoff\":15},\"zerolinecolor\":\"white\",\"zerolinewidth\":2},\"yaxis\":{\"automargin\":true,\"gridcolor\":\"white\",\"linecolor\":\"white\",\"ticks\":\"\",\"title\":{\"standoff\":15},\"zerolinecolor\":\"white\",\"zerolinewidth\":2}}},\"title\":{\"font\":{\"color\":\"#4D5663\"}},\"xaxis\":{\"gridcolor\":\"#E1E5ED\",\"showgrid\":true,\"tickfont\":{\"color\":\"#4D5663\"},\"title\":{\"font\":{\"color\":\"#4D5663\"},\"text\":\"\"},\"zerolinecolor\":\"#E1E5ED\"},\"yaxis\":{\"gridcolor\":\"#E1E5ED\",\"showgrid\":true,\"tickfont\":{\"color\":\"#4D5663\"},\"title\":{\"font\":{\"color\":\"#4D5663\"},\"text\":\"\"},\"zerolinecolor\":\"#E1E5ED\"}},                        {\"showLink\": true, \"linkText\": \"Export to plot.ly\", \"plotlyServerURL\": \"https://plot.ly\", \"responsive\": true}                    ).then(function(){\n",
       "                            \n",
       "var gd = document.getElementById('253e4b7a-0996-487c-b051-e0a5c618c52a');\n",
       "var x = new MutationObserver(function (mutations, observer) {{\n",
       "        var display = window.getComputedStyle(gd).display;\n",
       "        if (!display || display === 'none') {{\n",
       "            console.log([gd, 'removed!']);\n",
       "            Plotly.purge(gd);\n",
       "            observer.disconnect();\n",
       "        }}\n",
       "}});\n",
       "\n",
       "// Listen for the removal of the full notebook cells\n",
       "var notebookContainer = gd.closest('#notebook-container');\n",
       "if (notebookContainer) {{\n",
       "    x.observe(notebookContainer, {childList: true});\n",
       "}}\n",
       "\n",
       "// Listen for the clearing of the current output cell\n",
       "var outputEl = gd.closest('.output');\n",
       "if (outputEl) {{\n",
       "    x.observe(outputEl, {childList: true});\n",
       "}}\n",
       "\n",
       "                        })                };                });            </script>        </div>"
      ]
     },
     "metadata": {},
     "output_type": "display_data"
    }
   ],
   "source": [
    "titanic.iplot(kind='bar',x='Pclass',y='Embarked')"
   ]
  },
  {
   "cell_type": "code",
   "execution_count": 54,
   "id": "progressive-consumption",
   "metadata": {
    "execution": {
     "iopub.execute_input": "2021-06-14T14:05:11.913257Z",
     "iopub.status.busy": "2021-06-14T14:05:11.912462Z",
     "iopub.status.idle": "2021-06-14T14:05:11.958753Z",
     "shell.execute_reply": "2021-06-14T14:05:11.959297Z",
     "shell.execute_reply.started": "2021-06-14T14:03:50.824068Z"
    },
    "papermill": {
     "duration": 0.142873,
     "end_time": "2021-06-14T14:05:11.959465",
     "exception": false,
     "start_time": "2021-06-14T14:05:11.816592",
     "status": "completed"
    },
    "tags": []
   },
   "outputs": [
    {
     "data": {
      "application/vnd.plotly.v1+json": {
       "config": {
        "linkText": "Export to plot.ly",
        "plotlyServerURL": "https://plot.ly",
        "showLink": true
       },
       "data": [
        {
         "marker": {
          "color": "rgba(255, 153, 51, 0.6)",
          "line": {
           "color": "rgba(255, 153, 51, 1.0)",
           "width": 1
          }
         },
         "name": "None",
         "orientation": "v",
         "text": "",
         "type": "bar",
         "x": [
          "PassengerId",
          "Survived",
          "Pclass",
          "Name",
          "Sex",
          "Age",
          "Fare",
          "Embarked",
          "FamilySize",
          "age_group"
         ],
         "y": [
          152,
          152,
          152,
          152,
          152,
          127,
          152,
          152,
          152,
          127
         ]
        }
       ],
       "layout": {
        "legend": {
         "bgcolor": "#F5F6F9",
         "font": {
          "color": "#4D5663"
         }
        },
        "paper_bgcolor": "#F5F6F9",
        "plot_bgcolor": "#F5F6F9",
        "template": {
         "data": {
          "bar": [
           {
            "error_x": {
             "color": "#2a3f5f"
            },
            "error_y": {
             "color": "#2a3f5f"
            },
            "marker": {
             "line": {
              "color": "#E5ECF6",
              "width": 0.5
             },
             "pattern": {
              "fillmode": "overlay",
              "size": 10,
              "solidity": 0.2
             }
            },
            "type": "bar"
           }
          ],
          "barpolar": [
           {
            "marker": {
             "line": {
              "color": "#E5ECF6",
              "width": 0.5
             },
             "pattern": {
              "fillmode": "overlay",
              "size": 10,
              "solidity": 0.2
             }
            },
            "type": "barpolar"
           }
          ],
          "carpet": [
           {
            "aaxis": {
             "endlinecolor": "#2a3f5f",
             "gridcolor": "white",
             "linecolor": "white",
             "minorgridcolor": "white",
             "startlinecolor": "#2a3f5f"
            },
            "baxis": {
             "endlinecolor": "#2a3f5f",
             "gridcolor": "white",
             "linecolor": "white",
             "minorgridcolor": "white",
             "startlinecolor": "#2a3f5f"
            },
            "type": "carpet"
           }
          ],
          "choropleth": [
           {
            "colorbar": {
             "outlinewidth": 0,
             "ticks": ""
            },
            "type": "choropleth"
           }
          ],
          "contour": [
           {
            "colorbar": {
             "outlinewidth": 0,
             "ticks": ""
            },
            "colorscale": [
             [
              0,
              "#0d0887"
             ],
             [
              0.1111111111111111,
              "#46039f"
             ],
             [
              0.2222222222222222,
              "#7201a8"
             ],
             [
              0.3333333333333333,
              "#9c179e"
             ],
             [
              0.4444444444444444,
              "#bd3786"
             ],
             [
              0.5555555555555556,
              "#d8576b"
             ],
             [
              0.6666666666666666,
              "#ed7953"
             ],
             [
              0.7777777777777778,
              "#fb9f3a"
             ],
             [
              0.8888888888888888,
              "#fdca26"
             ],
             [
              1,
              "#f0f921"
             ]
            ],
            "type": "contour"
           }
          ],
          "contourcarpet": [
           {
            "colorbar": {
             "outlinewidth": 0,
             "ticks": ""
            },
            "type": "contourcarpet"
           }
          ],
          "heatmap": [
           {
            "colorbar": {
             "outlinewidth": 0,
             "ticks": ""
            },
            "colorscale": [
             [
              0,
              "#0d0887"
             ],
             [
              0.1111111111111111,
              "#46039f"
             ],
             [
              0.2222222222222222,
              "#7201a8"
             ],
             [
              0.3333333333333333,
              "#9c179e"
             ],
             [
              0.4444444444444444,
              "#bd3786"
             ],
             [
              0.5555555555555556,
              "#d8576b"
             ],
             [
              0.6666666666666666,
              "#ed7953"
             ],
             [
              0.7777777777777778,
              "#fb9f3a"
             ],
             [
              0.8888888888888888,
              "#fdca26"
             ],
             [
              1,
              "#f0f921"
             ]
            ],
            "type": "heatmap"
           }
          ],
          "heatmapgl": [
           {
            "colorbar": {
             "outlinewidth": 0,
             "ticks": ""
            },
            "colorscale": [
             [
              0,
              "#0d0887"
             ],
             [
              0.1111111111111111,
              "#46039f"
             ],
             [
              0.2222222222222222,
              "#7201a8"
             ],
             [
              0.3333333333333333,
              "#9c179e"
             ],
             [
              0.4444444444444444,
              "#bd3786"
             ],
             [
              0.5555555555555556,
              "#d8576b"
             ],
             [
              0.6666666666666666,
              "#ed7953"
             ],
             [
              0.7777777777777778,
              "#fb9f3a"
             ],
             [
              0.8888888888888888,
              "#fdca26"
             ],
             [
              1,
              "#f0f921"
             ]
            ],
            "type": "heatmapgl"
           }
          ],
          "histogram": [
           {
            "marker": {
             "pattern": {
              "fillmode": "overlay",
              "size": 10,
              "solidity": 0.2
             }
            },
            "type": "histogram"
           }
          ],
          "histogram2d": [
           {
            "colorbar": {
             "outlinewidth": 0,
             "ticks": ""
            },
            "colorscale": [
             [
              0,
              "#0d0887"
             ],
             [
              0.1111111111111111,
              "#46039f"
             ],
             [
              0.2222222222222222,
              "#7201a8"
             ],
             [
              0.3333333333333333,
              "#9c179e"
             ],
             [
              0.4444444444444444,
              "#bd3786"
             ],
             [
              0.5555555555555556,
              "#d8576b"
             ],
             [
              0.6666666666666666,
              "#ed7953"
             ],
             [
              0.7777777777777778,
              "#fb9f3a"
             ],
             [
              0.8888888888888888,
              "#fdca26"
             ],
             [
              1,
              "#f0f921"
             ]
            ],
            "type": "histogram2d"
           }
          ],
          "histogram2dcontour": [
           {
            "colorbar": {
             "outlinewidth": 0,
             "ticks": ""
            },
            "colorscale": [
             [
              0,
              "#0d0887"
             ],
             [
              0.1111111111111111,
              "#46039f"
             ],
             [
              0.2222222222222222,
              "#7201a8"
             ],
             [
              0.3333333333333333,
              "#9c179e"
             ],
             [
              0.4444444444444444,
              "#bd3786"
             ],
             [
              0.5555555555555556,
              "#d8576b"
             ],
             [
              0.6666666666666666,
              "#ed7953"
             ],
             [
              0.7777777777777778,
              "#fb9f3a"
             ],
             [
              0.8888888888888888,
              "#fdca26"
             ],
             [
              1,
              "#f0f921"
             ]
            ],
            "type": "histogram2dcontour"
           }
          ],
          "mesh3d": [
           {
            "colorbar": {
             "outlinewidth": 0,
             "ticks": ""
            },
            "type": "mesh3d"
           }
          ],
          "parcoords": [
           {
            "line": {
             "colorbar": {
              "outlinewidth": 0,
              "ticks": ""
             }
            },
            "type": "parcoords"
           }
          ],
          "pie": [
           {
            "automargin": true,
            "type": "pie"
           }
          ],
          "scatter": [
           {
            "fillpattern": {
             "fillmode": "overlay",
             "size": 10,
             "solidity": 0.2
            },
            "type": "scatter"
           }
          ],
          "scatter3d": [
           {
            "line": {
             "colorbar": {
              "outlinewidth": 0,
              "ticks": ""
             }
            },
            "marker": {
             "colorbar": {
              "outlinewidth": 0,
              "ticks": ""
             }
            },
            "type": "scatter3d"
           }
          ],
          "scattercarpet": [
           {
            "marker": {
             "colorbar": {
              "outlinewidth": 0,
              "ticks": ""
             }
            },
            "type": "scattercarpet"
           }
          ],
          "scattergeo": [
           {
            "marker": {
             "colorbar": {
              "outlinewidth": 0,
              "ticks": ""
             }
            },
            "type": "scattergeo"
           }
          ],
          "scattergl": [
           {
            "marker": {
             "colorbar": {
              "outlinewidth": 0,
              "ticks": ""
             }
            },
            "type": "scattergl"
           }
          ],
          "scattermapbox": [
           {
            "marker": {
             "colorbar": {
              "outlinewidth": 0,
              "ticks": ""
             }
            },
            "type": "scattermapbox"
           }
          ],
          "scatterpolar": [
           {
            "marker": {
             "colorbar": {
              "outlinewidth": 0,
              "ticks": ""
             }
            },
            "type": "scatterpolar"
           }
          ],
          "scatterpolargl": [
           {
            "marker": {
             "colorbar": {
              "outlinewidth": 0,
              "ticks": ""
             }
            },
            "type": "scatterpolargl"
           }
          ],
          "scatterternary": [
           {
            "marker": {
             "colorbar": {
              "outlinewidth": 0,
              "ticks": ""
             }
            },
            "type": "scatterternary"
           }
          ],
          "surface": [
           {
            "colorbar": {
             "outlinewidth": 0,
             "ticks": ""
            },
            "colorscale": [
             [
              0,
              "#0d0887"
             ],
             [
              0.1111111111111111,
              "#46039f"
             ],
             [
              0.2222222222222222,
              "#7201a8"
             ],
             [
              0.3333333333333333,
              "#9c179e"
             ],
             [
              0.4444444444444444,
              "#bd3786"
             ],
             [
              0.5555555555555556,
              "#d8576b"
             ],
             [
              0.6666666666666666,
              "#ed7953"
             ],
             [
              0.7777777777777778,
              "#fb9f3a"
             ],
             [
              0.8888888888888888,
              "#fdca26"
             ],
             [
              1,
              "#f0f921"
             ]
            ],
            "type": "surface"
           }
          ],
          "table": [
           {
            "cells": {
             "fill": {
              "color": "#EBF0F8"
             },
             "line": {
              "color": "white"
             }
            },
            "header": {
             "fill": {
              "color": "#C8D4E3"
             },
             "line": {
              "color": "white"
             }
            },
            "type": "table"
           }
          ]
         },
         "layout": {
          "annotationdefaults": {
           "arrowcolor": "#2a3f5f",
           "arrowhead": 0,
           "arrowwidth": 1
          },
          "autotypenumbers": "strict",
          "coloraxis": {
           "colorbar": {
            "outlinewidth": 0,
            "ticks": ""
           }
          },
          "colorscale": {
           "diverging": [
            [
             0,
             "#8e0152"
            ],
            [
             0.1,
             "#c51b7d"
            ],
            [
             0.2,
             "#de77ae"
            ],
            [
             0.3,
             "#f1b6da"
            ],
            [
             0.4,
             "#fde0ef"
            ],
            [
             0.5,
             "#f7f7f7"
            ],
            [
             0.6,
             "#e6f5d0"
            ],
            [
             0.7,
             "#b8e186"
            ],
            [
             0.8,
             "#7fbc41"
            ],
            [
             0.9,
             "#4d9221"
            ],
            [
             1,
             "#276419"
            ]
           ],
           "sequential": [
            [
             0,
             "#0d0887"
            ],
            [
             0.1111111111111111,
             "#46039f"
            ],
            [
             0.2222222222222222,
             "#7201a8"
            ],
            [
             0.3333333333333333,
             "#9c179e"
            ],
            [
             0.4444444444444444,
             "#bd3786"
            ],
            [
             0.5555555555555556,
             "#d8576b"
            ],
            [
             0.6666666666666666,
             "#ed7953"
            ],
            [
             0.7777777777777778,
             "#fb9f3a"
            ],
            [
             0.8888888888888888,
             "#fdca26"
            ],
            [
             1,
             "#f0f921"
            ]
           ],
           "sequentialminus": [
            [
             0,
             "#0d0887"
            ],
            [
             0.1111111111111111,
             "#46039f"
            ],
            [
             0.2222222222222222,
             "#7201a8"
            ],
            [
             0.3333333333333333,
             "#9c179e"
            ],
            [
             0.4444444444444444,
             "#bd3786"
            ],
            [
             0.5555555555555556,
             "#d8576b"
            ],
            [
             0.6666666666666666,
             "#ed7953"
            ],
            [
             0.7777777777777778,
             "#fb9f3a"
            ],
            [
             0.8888888888888888,
             "#fdca26"
            ],
            [
             1,
             "#f0f921"
            ]
           ]
          },
          "colorway": [
           "#636efa",
           "#EF553B",
           "#00cc96",
           "#ab63fa",
           "#FFA15A",
           "#19d3f3",
           "#FF6692",
           "#B6E880",
           "#FF97FF",
           "#FECB52"
          ],
          "font": {
           "color": "#2a3f5f"
          },
          "geo": {
           "bgcolor": "white",
           "lakecolor": "white",
           "landcolor": "#E5ECF6",
           "showlakes": true,
           "showland": true,
           "subunitcolor": "white"
          },
          "hoverlabel": {
           "align": "left"
          },
          "hovermode": "closest",
          "mapbox": {
           "style": "light"
          },
          "paper_bgcolor": "white",
          "plot_bgcolor": "#E5ECF6",
          "polar": {
           "angularaxis": {
            "gridcolor": "white",
            "linecolor": "white",
            "ticks": ""
           },
           "bgcolor": "#E5ECF6",
           "radialaxis": {
            "gridcolor": "white",
            "linecolor": "white",
            "ticks": ""
           }
          },
          "scene": {
           "xaxis": {
            "backgroundcolor": "#E5ECF6",
            "gridcolor": "white",
            "gridwidth": 2,
            "linecolor": "white",
            "showbackground": true,
            "ticks": "",
            "zerolinecolor": "white"
           },
           "yaxis": {
            "backgroundcolor": "#E5ECF6",
            "gridcolor": "white",
            "gridwidth": 2,
            "linecolor": "white",
            "showbackground": true,
            "ticks": "",
            "zerolinecolor": "white"
           },
           "zaxis": {
            "backgroundcolor": "#E5ECF6",
            "gridcolor": "white",
            "gridwidth": 2,
            "linecolor": "white",
            "showbackground": true,
            "ticks": "",
            "zerolinecolor": "white"
           }
          },
          "shapedefaults": {
           "line": {
            "color": "#2a3f5f"
           }
          },
          "ternary": {
           "aaxis": {
            "gridcolor": "white",
            "linecolor": "white",
            "ticks": ""
           },
           "baxis": {
            "gridcolor": "white",
            "linecolor": "white",
            "ticks": ""
           },
           "bgcolor": "#E5ECF6",
           "caxis": {
            "gridcolor": "white",
            "linecolor": "white",
            "ticks": ""
           }
          },
          "title": {
           "x": 0.05
          },
          "xaxis": {
           "automargin": true,
           "gridcolor": "white",
           "linecolor": "white",
           "ticks": "",
           "title": {
            "standoff": 15
           },
           "zerolinecolor": "white",
           "zerolinewidth": 2
          },
          "yaxis": {
           "automargin": true,
           "gridcolor": "white",
           "linecolor": "white",
           "ticks": "",
           "title": {
            "standoff": 15
           },
           "zerolinecolor": "white",
           "zerolinewidth": 2
          }
         }
        },
        "title": {
         "font": {
          "color": "#4D5663"
         }
        },
        "xaxis": {
         "gridcolor": "#E1E5ED",
         "showgrid": true,
         "tickfont": {
          "color": "#4D5663"
         },
         "title": {
          "font": {
           "color": "#4D5663"
          },
          "text": ""
         },
         "zerolinecolor": "#E1E5ED"
        },
        "yaxis": {
         "gridcolor": "#E1E5ED",
         "showgrid": true,
         "tickfont": {
          "color": "#4D5663"
         },
         "title": {
          "font": {
           "color": "#4D5663"
          },
          "text": ""
         },
         "zerolinecolor": "#E1E5ED"
        }
       }
      },
      "text/html": [
       "<div>                            <div id=\"318f65b0-d3a1-4a17-b39e-394cf31acc2e\" class=\"plotly-graph-div\" style=\"height:525px; width:100%;\"></div>            <script type=\"text/javascript\">                require([\"plotly\"], function(Plotly) {                    window.PLOTLYENV=window.PLOTLYENV || {};\n",
       "                    window.PLOTLYENV.BASE_URL='https://plot.ly';                                    if (document.getElementById(\"318f65b0-d3a1-4a17-b39e-394cf31acc2e\")) {                    Plotly.newPlot(                        \"318f65b0-d3a1-4a17-b39e-394cf31acc2e\",                        [{\"marker\":{\"color\":\"rgba(255, 153, 51, 0.6)\",\"line\":{\"color\":\"rgba(255, 153, 51, 1.0)\",\"width\":1}},\"name\":\"None\",\"orientation\":\"v\",\"text\":\"\",\"x\":[\"PassengerId\",\"Survived\",\"Pclass\",\"Name\",\"Sex\",\"Age\",\"Fare\",\"Embarked\",\"FamilySize\",\"age_group\"],\"y\":[152,152,152,152,152,127,152,152,152,127],\"type\":\"bar\"}],                        {\"legend\":{\"bgcolor\":\"#F5F6F9\",\"font\":{\"color\":\"#4D5663\"}},\"paper_bgcolor\":\"#F5F6F9\",\"plot_bgcolor\":\"#F5F6F9\",\"template\":{\"data\":{\"barpolar\":[{\"marker\":{\"line\":{\"color\":\"#E5ECF6\",\"width\":0.5},\"pattern\":{\"fillmode\":\"overlay\",\"size\":10,\"solidity\":0.2}},\"type\":\"barpolar\"}],\"bar\":[{\"error_x\":{\"color\":\"#2a3f5f\"},\"error_y\":{\"color\":\"#2a3f5f\"},\"marker\":{\"line\":{\"color\":\"#E5ECF6\",\"width\":0.5},\"pattern\":{\"fillmode\":\"overlay\",\"size\":10,\"solidity\":0.2}},\"type\":\"bar\"}],\"carpet\":[{\"aaxis\":{\"endlinecolor\":\"#2a3f5f\",\"gridcolor\":\"white\",\"linecolor\":\"white\",\"minorgridcolor\":\"white\",\"startlinecolor\":\"#2a3f5f\"},\"baxis\":{\"endlinecolor\":\"#2a3f5f\",\"gridcolor\":\"white\",\"linecolor\":\"white\",\"minorgridcolor\":\"white\",\"startlinecolor\":\"#2a3f5f\"},\"type\":\"carpet\"}],\"choropleth\":[{\"colorbar\":{\"outlinewidth\":0,\"ticks\":\"\"},\"type\":\"choropleth\"}],\"contourcarpet\":[{\"colorbar\":{\"outlinewidth\":0,\"ticks\":\"\"},\"type\":\"contourcarpet\"}],\"contour\":[{\"colorbar\":{\"outlinewidth\":0,\"ticks\":\"\"},\"colorscale\":[[0.0,\"#0d0887\"],[0.1111111111111111,\"#46039f\"],[0.2222222222222222,\"#7201a8\"],[0.3333333333333333,\"#9c179e\"],[0.4444444444444444,\"#bd3786\"],[0.5555555555555556,\"#d8576b\"],[0.6666666666666666,\"#ed7953\"],[0.7777777777777778,\"#fb9f3a\"],[0.8888888888888888,\"#fdca26\"],[1.0,\"#f0f921\"]],\"type\":\"contour\"}],\"heatmapgl\":[{\"colorbar\":{\"outlinewidth\":0,\"ticks\":\"\"},\"colorscale\":[[0.0,\"#0d0887\"],[0.1111111111111111,\"#46039f\"],[0.2222222222222222,\"#7201a8\"],[0.3333333333333333,\"#9c179e\"],[0.4444444444444444,\"#bd3786\"],[0.5555555555555556,\"#d8576b\"],[0.6666666666666666,\"#ed7953\"],[0.7777777777777778,\"#fb9f3a\"],[0.8888888888888888,\"#fdca26\"],[1.0,\"#f0f921\"]],\"type\":\"heatmapgl\"}],\"heatmap\":[{\"colorbar\":{\"outlinewidth\":0,\"ticks\":\"\"},\"colorscale\":[[0.0,\"#0d0887\"],[0.1111111111111111,\"#46039f\"],[0.2222222222222222,\"#7201a8\"],[0.3333333333333333,\"#9c179e\"],[0.4444444444444444,\"#bd3786\"],[0.5555555555555556,\"#d8576b\"],[0.6666666666666666,\"#ed7953\"],[0.7777777777777778,\"#fb9f3a\"],[0.8888888888888888,\"#fdca26\"],[1.0,\"#f0f921\"]],\"type\":\"heatmap\"}],\"histogram2dcontour\":[{\"colorbar\":{\"outlinewidth\":0,\"ticks\":\"\"},\"colorscale\":[[0.0,\"#0d0887\"],[0.1111111111111111,\"#46039f\"],[0.2222222222222222,\"#7201a8\"],[0.3333333333333333,\"#9c179e\"],[0.4444444444444444,\"#bd3786\"],[0.5555555555555556,\"#d8576b\"],[0.6666666666666666,\"#ed7953\"],[0.7777777777777778,\"#fb9f3a\"],[0.8888888888888888,\"#fdca26\"],[1.0,\"#f0f921\"]],\"type\":\"histogram2dcontour\"}],\"histogram2d\":[{\"colorbar\":{\"outlinewidth\":0,\"ticks\":\"\"},\"colorscale\":[[0.0,\"#0d0887\"],[0.1111111111111111,\"#46039f\"],[0.2222222222222222,\"#7201a8\"],[0.3333333333333333,\"#9c179e\"],[0.4444444444444444,\"#bd3786\"],[0.5555555555555556,\"#d8576b\"],[0.6666666666666666,\"#ed7953\"],[0.7777777777777778,\"#fb9f3a\"],[0.8888888888888888,\"#fdca26\"],[1.0,\"#f0f921\"]],\"type\":\"histogram2d\"}],\"histogram\":[{\"marker\":{\"pattern\":{\"fillmode\":\"overlay\",\"size\":10,\"solidity\":0.2}},\"type\":\"histogram\"}],\"mesh3d\":[{\"colorbar\":{\"outlinewidth\":0,\"ticks\":\"\"},\"type\":\"mesh3d\"}],\"parcoords\":[{\"line\":{\"colorbar\":{\"outlinewidth\":0,\"ticks\":\"\"}},\"type\":\"parcoords\"}],\"pie\":[{\"automargin\":true,\"type\":\"pie\"}],\"scatter3d\":[{\"line\":{\"colorbar\":{\"outlinewidth\":0,\"ticks\":\"\"}},\"marker\":{\"colorbar\":{\"outlinewidth\":0,\"ticks\":\"\"}},\"type\":\"scatter3d\"}],\"scattercarpet\":[{\"marker\":{\"colorbar\":{\"outlinewidth\":0,\"ticks\":\"\"}},\"type\":\"scattercarpet\"}],\"scattergeo\":[{\"marker\":{\"colorbar\":{\"outlinewidth\":0,\"ticks\":\"\"}},\"type\":\"scattergeo\"}],\"scattergl\":[{\"marker\":{\"colorbar\":{\"outlinewidth\":0,\"ticks\":\"\"}},\"type\":\"scattergl\"}],\"scattermapbox\":[{\"marker\":{\"colorbar\":{\"outlinewidth\":0,\"ticks\":\"\"}},\"type\":\"scattermapbox\"}],\"scatterpolargl\":[{\"marker\":{\"colorbar\":{\"outlinewidth\":0,\"ticks\":\"\"}},\"type\":\"scatterpolargl\"}],\"scatterpolar\":[{\"marker\":{\"colorbar\":{\"outlinewidth\":0,\"ticks\":\"\"}},\"type\":\"scatterpolar\"}],\"scatter\":[{\"fillpattern\":{\"fillmode\":\"overlay\",\"size\":10,\"solidity\":0.2},\"type\":\"scatter\"}],\"scatterternary\":[{\"marker\":{\"colorbar\":{\"outlinewidth\":0,\"ticks\":\"\"}},\"type\":\"scatterternary\"}],\"surface\":[{\"colorbar\":{\"outlinewidth\":0,\"ticks\":\"\"},\"colorscale\":[[0.0,\"#0d0887\"],[0.1111111111111111,\"#46039f\"],[0.2222222222222222,\"#7201a8\"],[0.3333333333333333,\"#9c179e\"],[0.4444444444444444,\"#bd3786\"],[0.5555555555555556,\"#d8576b\"],[0.6666666666666666,\"#ed7953\"],[0.7777777777777778,\"#fb9f3a\"],[0.8888888888888888,\"#fdca26\"],[1.0,\"#f0f921\"]],\"type\":\"surface\"}],\"table\":[{\"cells\":{\"fill\":{\"color\":\"#EBF0F8\"},\"line\":{\"color\":\"white\"}},\"header\":{\"fill\":{\"color\":\"#C8D4E3\"},\"line\":{\"color\":\"white\"}},\"type\":\"table\"}]},\"layout\":{\"annotationdefaults\":{\"arrowcolor\":\"#2a3f5f\",\"arrowhead\":0,\"arrowwidth\":1},\"autotypenumbers\":\"strict\",\"coloraxis\":{\"colorbar\":{\"outlinewidth\":0,\"ticks\":\"\"}},\"colorscale\":{\"diverging\":[[0,\"#8e0152\"],[0.1,\"#c51b7d\"],[0.2,\"#de77ae\"],[0.3,\"#f1b6da\"],[0.4,\"#fde0ef\"],[0.5,\"#f7f7f7\"],[0.6,\"#e6f5d0\"],[0.7,\"#b8e186\"],[0.8,\"#7fbc41\"],[0.9,\"#4d9221\"],[1,\"#276419\"]],\"sequential\":[[0.0,\"#0d0887\"],[0.1111111111111111,\"#46039f\"],[0.2222222222222222,\"#7201a8\"],[0.3333333333333333,\"#9c179e\"],[0.4444444444444444,\"#bd3786\"],[0.5555555555555556,\"#d8576b\"],[0.6666666666666666,\"#ed7953\"],[0.7777777777777778,\"#fb9f3a\"],[0.8888888888888888,\"#fdca26\"],[1.0,\"#f0f921\"]],\"sequentialminus\":[[0.0,\"#0d0887\"],[0.1111111111111111,\"#46039f\"],[0.2222222222222222,\"#7201a8\"],[0.3333333333333333,\"#9c179e\"],[0.4444444444444444,\"#bd3786\"],[0.5555555555555556,\"#d8576b\"],[0.6666666666666666,\"#ed7953\"],[0.7777777777777778,\"#fb9f3a\"],[0.8888888888888888,\"#fdca26\"],[1.0,\"#f0f921\"]]},\"colorway\":[\"#636efa\",\"#EF553B\",\"#00cc96\",\"#ab63fa\",\"#FFA15A\",\"#19d3f3\",\"#FF6692\",\"#B6E880\",\"#FF97FF\",\"#FECB52\"],\"font\":{\"color\":\"#2a3f5f\"},\"geo\":{\"bgcolor\":\"white\",\"lakecolor\":\"white\",\"landcolor\":\"#E5ECF6\",\"showlakes\":true,\"showland\":true,\"subunitcolor\":\"white\"},\"hoverlabel\":{\"align\":\"left\"},\"hovermode\":\"closest\",\"mapbox\":{\"style\":\"light\"},\"paper_bgcolor\":\"white\",\"plot_bgcolor\":\"#E5ECF6\",\"polar\":{\"angularaxis\":{\"gridcolor\":\"white\",\"linecolor\":\"white\",\"ticks\":\"\"},\"bgcolor\":\"#E5ECF6\",\"radialaxis\":{\"gridcolor\":\"white\",\"linecolor\":\"white\",\"ticks\":\"\"}},\"scene\":{\"xaxis\":{\"backgroundcolor\":\"#E5ECF6\",\"gridcolor\":\"white\",\"gridwidth\":2,\"linecolor\":\"white\",\"showbackground\":true,\"ticks\":\"\",\"zerolinecolor\":\"white\"},\"yaxis\":{\"backgroundcolor\":\"#E5ECF6\",\"gridcolor\":\"white\",\"gridwidth\":2,\"linecolor\":\"white\",\"showbackground\":true,\"ticks\":\"\",\"zerolinecolor\":\"white\"},\"zaxis\":{\"backgroundcolor\":\"#E5ECF6\",\"gridcolor\":\"white\",\"gridwidth\":2,\"linecolor\":\"white\",\"showbackground\":true,\"ticks\":\"\",\"zerolinecolor\":\"white\"}},\"shapedefaults\":{\"line\":{\"color\":\"#2a3f5f\"}},\"ternary\":{\"aaxis\":{\"gridcolor\":\"white\",\"linecolor\":\"white\",\"ticks\":\"\"},\"baxis\":{\"gridcolor\":\"white\",\"linecolor\":\"white\",\"ticks\":\"\"},\"bgcolor\":\"#E5ECF6\",\"caxis\":{\"gridcolor\":\"white\",\"linecolor\":\"white\",\"ticks\":\"\"}},\"title\":{\"x\":0.05},\"xaxis\":{\"automargin\":true,\"gridcolor\":\"white\",\"linecolor\":\"white\",\"ticks\":\"\",\"title\":{\"standoff\":15},\"zerolinecolor\":\"white\",\"zerolinewidth\":2},\"yaxis\":{\"automargin\":true,\"gridcolor\":\"white\",\"linecolor\":\"white\",\"ticks\":\"\",\"title\":{\"standoff\":15},\"zerolinecolor\":\"white\",\"zerolinewidth\":2}}},\"title\":{\"font\":{\"color\":\"#4D5663\"}},\"xaxis\":{\"gridcolor\":\"#E1E5ED\",\"showgrid\":true,\"tickfont\":{\"color\":\"#4D5663\"},\"title\":{\"font\":{\"color\":\"#4D5663\"},\"text\":\"\"},\"zerolinecolor\":\"#E1E5ED\"},\"yaxis\":{\"gridcolor\":\"#E1E5ED\",\"showgrid\":true,\"tickfont\":{\"color\":\"#4D5663\"},\"title\":{\"font\":{\"color\":\"#4D5663\"},\"text\":\"\"},\"zerolinecolor\":\"#E1E5ED\"}},                        {\"showLink\": true, \"linkText\": \"Export to plot.ly\", \"plotlyServerURL\": \"https://plot.ly\", \"responsive\": true}                    ).then(function(){\n",
       "                            \n",
       "var gd = document.getElementById('318f65b0-d3a1-4a17-b39e-394cf31acc2e');\n",
       "var x = new MutationObserver(function (mutations, observer) {{\n",
       "        var display = window.getComputedStyle(gd).display;\n",
       "        if (!display || display === 'none') {{\n",
       "            console.log([gd, 'removed!']);\n",
       "            Plotly.purge(gd);\n",
       "            observer.disconnect();\n",
       "        }}\n",
       "}});\n",
       "\n",
       "// Listen for the removal of the full notebook cells\n",
       "var notebookContainer = gd.closest('#notebook-container');\n",
       "if (notebookContainer) {{\n",
       "    x.observe(notebookContainer, {childList: true});\n",
       "}}\n",
       "\n",
       "// Listen for the clearing of the current output cell\n",
       "var outputEl = gd.closest('.output');\n",
       "if (outputEl) {{\n",
       "    x.observe(outputEl, {childList: true});\n",
       "}}\n",
       "\n",
       "                        })                };                });            </script>        </div>"
      ]
     },
     "metadata": {},
     "output_type": "display_data"
    }
   ],
   "source": [
    "titanic.count().iplot(kind='bar')"
   ]
  },
  {
   "cell_type": "code",
   "execution_count": 55,
   "id": "editorial-particle",
   "metadata": {
    "execution": {
     "iopub.execute_input": "2021-06-14T14:05:12.155463Z",
     "iopub.status.busy": "2021-06-14T14:05:12.154799Z",
     "iopub.status.idle": "2021-06-14T14:05:12.258541Z",
     "shell.execute_reply": "2021-06-14T14:05:12.259104Z",
     "shell.execute_reply.started": "2021-06-14T14:03:50.876097Z"
    },
    "papermill": {
     "duration": 0.204292,
     "end_time": "2021-06-14T14:05:12.259284",
     "exception": false,
     "start_time": "2021-06-14T14:05:12.054992",
     "status": "completed"
    },
    "tags": []
   },
   "outputs": [
    {
     "data": {
      "application/vnd.plotly.v1+json": {
       "config": {
        "linkText": "Export to plot.ly",
        "plotlyServerURL": "https://plot.ly",
        "showLink": true
       },
       "data": [
        {
         "boxpoints": false,
         "line": {
          "width": 1.3
         },
         "marker": {
          "color": "rgba(255, 153, 51, 1.0)"
         },
         "name": "PassengerId",
         "orientation": "v",
         "type": "box",
         "y": [
          893,
          896,
          898,
          900,
          904,
          906,
          907,
          910,
          911,
          914,
          916,
          918,
          924,
          925,
          928,
          929,
          935,
          936,
          940,
          941,
          944,
          945,
          951,
          955,
          957,
          958,
          961,
          962,
          964,
          966,
          969,
          971,
          978,
          979,
          980,
          982,
          984,
          988,
          990,
          992,
          996,
          1003,
          1004,
          1005,
          1006,
          1009,
          1011,
          1012,
          1014,
          1017,
          1019,
          1024,
          1030,
          1032,
          1033,
          1042,
          1045,
          1048,
          1049,
          1051,
          1052,
          1054,
          1057,
          1060,
          1061,
          1067,
          1068,
          1070,
          1071,
          1074,
          1076,
          1078,
          1080,
          1089,
          1091,
          1092,
          1095,
          1098,
          1100,
          1105,
          1106,
          1108,
          1110,
          1112,
          1114,
          1116,
          1117,
          1119,
          1123,
          1130,
          1131,
          1132,
          1133,
          1138,
          1140,
          1141,
          1142,
          1150,
          1154,
          1155,
          1160,
          1164,
          1165,
          1167,
          1172,
          1174,
          1175,
          1176,
          1183,
          1188,
          1196,
          1197,
          1201,
          1205,
          1206,
          1207,
          1216,
          1218,
          1222,
          1225,
          1235,
          1237,
          1239,
          1241,
          1242,
          1246,
          1248,
          1251,
          1253,
          1254,
          1256,
          1257,
          1259,
          1260,
          1263,
          1266,
          1267,
          1268,
          1274,
          1275,
          1277,
          1283,
          1287,
          1289,
          1292,
          1294,
          1300,
          1301,
          1302,
          1303,
          1304,
          1306
         ]
        },
        {
         "boxpoints": false,
         "line": {
          "width": 1.3
         },
         "marker": {
          "color": "rgba(55, 128, 191, 1.0)"
         },
         "name": "Survived",
         "orientation": "v",
         "type": "box",
         "y": [
          "Yes",
          "Yes",
          "Yes",
          "Yes",
          "Yes",
          "Yes",
          "Yes",
          "Yes",
          "Yes",
          "Yes",
          "Yes",
          "Yes",
          "Yes",
          "Yes",
          "Yes",
          "Yes",
          "Yes",
          "Yes",
          "Yes",
          "Yes",
          "Yes",
          "Yes",
          "Yes",
          "Yes",
          "Yes",
          "Yes",
          "Yes",
          "Yes",
          "Yes",
          "Yes",
          "Yes",
          "Yes",
          "Yes",
          "Yes",
          "Yes",
          "Yes",
          "Yes",
          "Yes",
          "Yes",
          "Yes",
          "Yes",
          "Yes",
          "Yes",
          "Yes",
          "Yes",
          "Yes",
          "Yes",
          "Yes",
          "Yes",
          "Yes",
          "Yes",
          "Yes",
          "Yes",
          "Yes",
          "Yes",
          "Yes",
          "Yes",
          "Yes",
          "Yes",
          "Yes",
          "Yes",
          "Yes",
          "Yes",
          "Yes",
          "Yes",
          "Yes",
          "Yes",
          "Yes",
          "Yes",
          "Yes",
          "Yes",
          "Yes",
          "Yes",
          "Yes",
          "Yes",
          "Yes",
          "Yes",
          "Yes",
          "Yes",
          "Yes",
          "Yes",
          "Yes",
          "Yes",
          "Yes",
          "Yes",
          "Yes",
          "Yes",
          "Yes",
          "Yes",
          "Yes",
          "Yes",
          "Yes",
          "Yes",
          "Yes",
          "Yes",
          "Yes",
          "Yes",
          "Yes",
          "Yes",
          "Yes",
          "Yes",
          "Yes",
          "Yes",
          "Yes",
          "Yes",
          "Yes",
          "Yes",
          "Yes",
          "Yes",
          "Yes",
          "Yes",
          "Yes",
          "Yes",
          "Yes",
          "Yes",
          "Yes",
          "Yes",
          "Yes",
          "Yes",
          "Yes",
          "Yes",
          "Yes",
          "Yes",
          "Yes",
          "Yes",
          "Yes",
          "Yes",
          "Yes",
          "Yes",
          "Yes",
          "Yes",
          "Yes",
          "Yes",
          "Yes",
          "Yes",
          "Yes",
          "Yes",
          "Yes",
          "Yes",
          "Yes",
          "Yes",
          "Yes",
          "Yes",
          "Yes",
          "Yes",
          "Yes",
          "Yes",
          "Yes",
          "Yes",
          "Yes",
          "Yes",
          "Yes"
         ]
        },
        {
         "boxpoints": false,
         "line": {
          "width": 1.3
         },
         "marker": {
          "color": "rgba(50, 171, 96, 1.0)"
         },
         "name": "Pclass",
         "orientation": "v",
         "type": "box",
         "y": [
          "Lower Class",
          "Lower Class",
          "Lower Class",
          "Lower Class",
          "Upper Class",
          "Upper Class",
          "Middle Class",
          "Lower Class",
          "Lower Class",
          "Upper Class",
          "Upper Class",
          "Upper Class",
          "Lower Class",
          "Lower Class",
          "Lower Class",
          "Lower Class",
          "Middle Class",
          "Upper Class",
          "Upper Class",
          "Lower Class",
          "Middle Class",
          "Upper Class",
          "Upper Class",
          "Lower Class",
          "Middle Class",
          "Lower Class",
          "Upper Class",
          "Lower Class",
          "Lower Class",
          "Upper Class",
          "Upper Class",
          "Lower Class",
          "Lower Class",
          "Lower Class",
          "Lower Class",
          "Lower Class",
          "Upper Class",
          "Upper Class",
          "Lower Class",
          "Upper Class",
          "Lower Class",
          "Lower Class",
          "Upper Class",
          "Lower Class",
          "Upper Class",
          "Lower Class",
          "Middle Class",
          "Middle Class",
          "Upper Class",
          "Lower Class",
          "Lower Class",
          "Lower Class",
          "Lower Class",
          "Lower Class",
          "Upper Class",
          "Upper Class",
          "Lower Class",
          "Upper Class",
          "Lower Class",
          "Lower Class",
          "Lower Class",
          "Middle Class",
          "Lower Class",
          "Upper Class",
          "Lower Class",
          "Middle Class",
          "Middle Class",
          "Middle Class",
          "Upper Class",
          "Upper Class",
          "Upper Class",
          "Middle Class",
          "Lower Class",
          "Lower Class",
          "Lower Class",
          "Lower Class",
          "Middle Class",
          "Lower Class",
          "Upper Class",
          "Middle Class",
          "Lower Class",
          "Lower Class",
          "Upper Class",
          "Middle Class",
          "Middle Class",
          "Upper Class",
          "Lower Class",
          "Lower Class",
          "Upper Class",
          "Middle Class",
          "Upper Class",
          "Upper Class",
          "Middle Class",
          "Middle Class",
          "Middle Class",
          "Lower Class",
          "Middle Class",
          "Middle Class",
          "Middle Class",
          "Lower Class",
          "Lower Class",
          "Upper Class",
          "Lower Class",
          "Middle Class",
          "Lower Class",
          "Lower Class",
          "Lower Class",
          "Lower Class",
          "Lower Class",
          "Middle Class",
          "Lower Class",
          "Upper Class",
          "Lower Class",
          "Lower Class",
          "Upper Class",
          "Lower Class",
          "Upper Class",
          "Middle Class",
          "Middle Class",
          "Lower Class",
          "Upper Class",
          "Lower Class",
          "Lower Class",
          "Middle Class",
          "Upper Class",
          "Lower Class",
          "Upper Class",
          "Lower Class",
          "Middle Class",
          "Middle Class",
          "Upper Class",
          "Lower Class",
          "Lower Class",
          "Upper Class",
          "Upper Class",
          "Upper Class",
          "Upper Class",
          "Lower Class",
          "Lower Class",
          "Lower Class",
          "Middle Class",
          "Upper Class",
          "Upper Class",
          "Upper Class",
          "Upper Class",
          "Upper Class",
          "Lower Class",
          "Lower Class",
          "Lower Class",
          "Upper Class",
          "Lower Class",
          "Upper Class"
         ]
        },
        {
         "boxpoints": false,
         "line": {
          "width": 1.3
         },
         "marker": {
          "color": "rgba(128, 0, 128, 1.0)"
         },
         "name": "Name",
         "orientation": "v",
         "type": "box",
         "y": [
          "Wilkes, Mrs. James (Ellen Needs)",
          "Hirvonen, Mrs. Alexander (Helga E Lindqvist)",
          "Connolly, Miss. Kate",
          "Abrahim, Mrs. Joseph (Sophie Halaut Easu)",
          "Snyder, Mrs. John Pillsbury (Nelle Stevenson)",
          "Chaffee, Mrs. Herbert Fuller (Carrie Constance Toogood)",
          "del Carlo, Mrs. Sebastiano (Argenia Genovesi)",
          "Ilmakangas, Miss. Ida Livija",
          "Assaf Khalil, Mrs. Mariana (Miriam\")\"",
          "Flegenheim, Mrs. Alfred (Antoinette)",
          "Ryerson, Mrs. Arthur Larned (Emily Maria Borie)",
          "Ostby, Miss. Helene Ragnhild",
          "Dean, Mrs. Bertram (Eva Georgetta Light)",
          "Johnston, Mrs. Andrew G (Elizabeth Lily\" Watson)\"",
          "Roth, Miss. Sarah A",
          "Cacic, Miss. Manda",
          "Corbett, Mrs. Walter H (Irene Colvin)",
          "Kimball, Mrs. Edwin Nelson Jr (Gertrude Parsons)",
          "Bucknell, Mrs. William Robert (Emma Eliza Ward)",
          "Coutts, Mrs. William (Winnie Minnie\" Treanor)\"",
          "Hocking, Miss. Ellen Nellie\"\"",
          "Fortune, Miss. Ethel Flora",
          "Chaudanson, Miss. Victorine",
          "Bradley, Miss. Bridget Delia",
          "Corey, Mrs. Percy C (Mary Phyllis Elizabeth Miller)",
          "Burns, Miss. Mary Delia",
          "Fortune, Mrs. Mark (Mary McDougald)",
          "Mulvihill, Miss. Bertha E",
          "Nieminen, Miss. Manta Josefina",
          "Geiger, Miss. Amalie",
          "Cornell, Mrs. Robert Clifford (Malvina Helen Lamson)",
          "Doyle, Miss. Elizabeth",
          "Barry, Miss. Julia",
          "Badman, Miss. Emily Louisa",
          "O'Donoghue, Ms. Bridget",
          "Dyker, Mrs. Adolf Fredrik (Anna Elisabeth Judith Andersson)",
          "Davidson, Mrs. Thornton (Orian Hays)",
          "Cavendish, Mrs. Tyrell William (Julia Florence Siegel)",
          "Braf, Miss. Elin Ester Maria",
          "Stengel, Mrs. Charles Emil Henry (Annie May Morris)",
          "Thomas, Mrs. Alexander (Thamine Thelma\")\"",
          "Shine, Miss. Ellen Natalia",
          "Evans, Miss. Edith Corse",
          "Buckley, Miss. Katherine",
          "Straus, Mrs. Isidor (Rosalie Ida Blun)",
          "Sandstrom, Miss. Beatrice Irene",
          "Chapman, Mrs. John Henry (Sara Elizabeth Lawry)",
          "Watt, Miss. Bertha J",
          "Schabert, Mrs. Paul (Emma Mock)",
          "Cribb, Miss. Laura Alice",
          "McCoy, Miss. Alicia",
          "Lefebre, Mrs. Frank (Frances)",
          "Drapkin, Miss. Jennie",
          "Goodwin, Miss. Jessie Allis",
          "Daniels, Miss. Sarah",
          "Earnshaw, Mrs. Boulton (Olive Potter)",
          "Klasen, Mrs. (Hulda Kristina Eugenia Lofqvist)",
          "Bird, Miss. Ellen",
          "Lundin, Miss. Olga Elida",
          "Peacock, Mrs. Benjamin (Edith Nile)",
          "Smyth, Miss. Julia",
          "Wright, Miss. Marion",
          "Kink-Heilmann, Mrs. Anton (Luise Heilmann)",
          "Cassebeer, Mrs. Henry Arthur Jr (Eleanor Genevieve Fosdick)",
          "Hellstrom, Miss. Hilda Maria",
          "Brown, Miss. Edith Eileen",
          "Sincock, Miss. Maude",
          "Becker, Mrs. Allen Oliver (Nellie E Baumgardner)",
          "Compton, Mrs. Alexander Taylor (Mary Eliza Ingersoll)",
          "Marvin, Mrs. Daniel Warner (Mary Graham Carmichael Farquarson)",
          "Douglas, Mrs. Frederick Charles (Mary Helene Baxter)",
          "Phillips, Miss. Alice Frances Louisa",
          "Sage, Miss. Ada",
          "Nilsson, Miss. Berta Olivia",
          "Rasmussen, Mrs. (Lena Jacobsen Solvang)",
          "Murphy, Miss. Nora",
          "Quick, Miss. Winifred Vera",
          "McGowan, Miss. Katherine",
          "Rosenbaum, Miss. Edith Louise",
          "Howard, Mrs. Benjamin (Ellen Truelove Arman)",
          "Andersson, Miss. Ida Augusta Margareta",
          "Mahon, Miss. Bridget Delia",
          "Widener, Mrs. George Dunton (Eleanor Elkins)",
          "Duran y More, Miss. Florentina",
          "Cook, Mrs. (Selena Rogers)",
          "Candee, Mrs. Edward (Helen Churchill Hungerford)",
          "Moubarek, Mrs. George (Omine Amenia\" Alexander)\"",
          "McNeill, Miss. Bridget",
          "Willard, Miss. Constance",
          "Hiltunen, Miss. Marta",
          "Douglas, Mrs. Walter Donald (Mahala Dutton)",
          "Lindstrom, Mrs. Carl Johan (Sigrid Posse)",
          "Christy, Mrs. (Alice Frances)",
          "Karnes, Mrs. J Frank (Claire Bennett)",
          "Hold, Mrs. Stephen (Annie Margaret Hill)",
          "Khalil, Mrs. Betros (Zahie Maria\" Elias)\"",
          "West, Miss. Barbara J",
          "Bentham, Miss. Lilian W",
          "Wells, Mrs. Arthur Henry (Addie\" Dart Trevaskis)\"",
          "Klasen, Miss. Gertrud Emilia",
          "Howard, Miss. May Elizabeth",
          "Clark, Mrs. Walter Miller (Virginia McDowell)",
          "Lennon, Miss. Mary",
          "Bryhl, Miss. Dagmar Jenny Ingeborg ",
          "Oreskovic, Miss. Jelka",
          "Fleming, Miss. Honora",
          "Touma, Miss. Maria Youssef",
          "Rosblom, Miss. Salli Helena",
          "Daly, Miss. Margaret Marcella Maggie\"\"",
          "Laroche, Miss. Louise",
          "McCarthy, Miss. Catherine Katie\"\"",
          "Crosby, Mrs. Edward Gifford (Catherine Elizabeth Halstead)",
          "Hansen, Mrs. Claus Peter (Jennie L Howard)",
          "Carr, Miss. Jeannie",
          "White, Mrs. John Stuart (Ella Holmes)",
          "Hagardon, Miss. Kate",
          "Kreuchen, Miss. Emilie",
          "Becker, Miss. Ruth Elizabeth",
          "Davies, Mrs. John Morgan (Elizabeth Agnes Mary White) ",
          "Nakid, Mrs. Said (Waika Mary\" Mowad)\"",
          "Cardeza, Mrs. James Warburton Martinez (Charlotte Wardle Drake)",
          "Abelseth, Miss. Karen Marie",
          "Whabee, Mrs. George Joseph (Shawneene Abi-Saab)",
          "Walcroft, Miss. Nellie",
          "Greenfield, Mrs. Leo David (Blanche Strouse)",
          "Dean, Miss. Elizabeth Gladys Millvina\"\"",
          "Brown, Mrs. John Murray (Caroline Lane Lamson)",
          "Lindell, Mrs. Edvard Bengtsson (Elin Gerda Persson)",
          "Mallet, Mrs. Albert (Antoinette Magnin)",
          "Ware, Mrs. John James (Florence Louise Long)",
          "Harder, Mrs. George Achilles (Dorothy Annan)",
          "Sage, Mrs. John (Annie Bullen)",
          "Riihivouri, Miss. Susanna Juhantytar Sanni\"\"",
          "Gibson, Mrs. Leonard (Pauline C Boeson)",
          "Wilson, Miss. Helen Alice",
          "Dodge, Mrs. Washington (Ruth Vidaver)",
          "Bowen, Miss. Grace Scott",
          "Kink, Miss. Maria",
          "Risien, Mrs. Samuel (Emma)",
          "McNamee, Mrs. Neal (Eileen O'Leary)",
          "Herman, Miss. Kate",
          "Lines, Mrs. Ernest H (Elizabeth Lindsey James)",
          "Smith, Mrs. Lucien Philip (Mary Eloise Hughes)",
          "Frolicher-Stehli, Mrs. Maxmillian (Margaretha Emerentia Stehli)",
          "Bonnell, Miss. Caroline",
          "Gibson, Miss. Dorothy Winifred",
          "Riordan, Miss. Johanna Hannah\"\"",
          "Peacock, Miss. Treasteall",
          "Naughton, Miss. Hannah",
          "Minahan, Mrs. William Edward (Lillian E Thorpe)",
          "Henriksson, Miss. Jenny Lovisa",
          "Oliva y Ocana, Dona. Fermina"
         ]
        },
        {
         "boxpoints": false,
         "line": {
          "width": 1.3
         },
         "marker": {
          "color": "rgba(219, 64, 82, 1.0)"
         },
         "name": "Sex",
         "orientation": "v",
         "type": "box",
         "y": [
          "female",
          "female",
          "female",
          "female",
          "female",
          "female",
          "female",
          "female",
          "female",
          "female",
          "female",
          "female",
          "female",
          "female",
          "female",
          "female",
          "female",
          "female",
          "female",
          "female",
          "female",
          "female",
          "female",
          "female",
          "female",
          "female",
          "female",
          "female",
          "female",
          "female",
          "female",
          "female",
          "female",
          "female",
          "female",
          "female",
          "female",
          "female",
          "female",
          "female",
          "female",
          "female",
          "female",
          "female",
          "female",
          "female",
          "female",
          "female",
          "female",
          "female",
          "female",
          "female",
          "female",
          "female",
          "female",
          "female",
          "female",
          "female",
          "female",
          "female",
          "female",
          "female",
          "female",
          "female",
          "female",
          "female",
          "female",
          "female",
          "female",
          "female",
          "female",
          "female",
          "female",
          "female",
          "female",
          "female",
          "female",
          "female",
          "female",
          "female",
          "female",
          "female",
          "female",
          "female",
          "female",
          "female",
          "female",
          "female",
          "female",
          "female",
          "female",
          "female",
          "female",
          "female",
          "female",
          "female",
          "female",
          "female",
          "female",
          "female",
          "female",
          "female",
          "female",
          "female",
          "female",
          "female",
          "female",
          "female",
          "female",
          "female",
          "female",
          "female",
          "female",
          "female",
          "female",
          "female",
          "female",
          "female",
          "female",
          "female",
          "female",
          "female",
          "female",
          "female",
          "female",
          "female",
          "female",
          "female",
          "female",
          "female",
          "female",
          "female",
          "female",
          "female",
          "female",
          "female",
          "female",
          "female",
          "female",
          "female",
          "female",
          "female",
          "female",
          "female",
          "female",
          "female",
          "female",
          "female",
          "female",
          "female",
          "female",
          "female"
         ]
        },
        {
         "boxpoints": false,
         "line": {
          "width": 1.3
         },
         "marker": {
          "color": "rgba(0, 128, 128, 1.0)"
         },
         "name": "Age",
         "orientation": "v",
         "type": "box",
         "y": [
          47,
          22,
          30,
          18,
          23,
          47,
          24,
          27,
          45,
          null,
          48,
          22,
          33,
          null,
          null,
          21,
          30,
          45,
          60,
          36,
          20,
          28,
          36,
          22,
          null,
          18,
          60,
          24,
          29,
          35,
          55,
          24,
          27,
          18,
          null,
          22,
          27,
          76,
          20,
          43,
          16,
          null,
          36,
          18.5,
          63,
          1,
          29,
          12,
          35,
          17,
          null,
          null,
          23,
          10,
          33,
          23,
          36,
          29,
          23,
          26,
          null,
          26,
          26,
          null,
          22,
          15,
          20,
          36,
          64,
          18,
          27,
          21,
          null,
          18,
          null,
          null,
          8,
          35,
          33,
          60,
          38,
          null,
          50,
          30,
          22,
          53,
          null,
          null,
          21,
          18,
          48,
          55,
          45,
          22,
          29,
          null,
          0.92,
          19,
          29,
          1,
          null,
          26,
          null,
          20,
          23,
          null,
          9,
          2,
          30,
          1,
          null,
          64,
          45,
          37,
          55,
          17,
          39,
          12,
          48,
          19,
          58,
          16,
          38,
          31,
          45,
          0.17,
          59,
          30,
          24,
          31,
          25,
          null,
          22,
          45,
          31,
          54,
          45,
          22,
          null,
          19,
          24,
          51,
          18,
          48,
          30,
          22,
          null,
          3,
          null,
          37,
          28,
          39
         ]
        },
        {
         "boxpoints": false,
         "line": {
          "width": 1.3
         },
         "marker": {
          "color": "rgba(255, 255, 51, 1.0)"
         },
         "name": "Fare",
         "orientation": "v",
         "type": "box",
         "y": [
          7,
          12.2875,
          7.6292,
          7.2292,
          82.2667,
          61.175,
          27.7208,
          7.925,
          7.225,
          31.6833,
          262.375,
          61.9792,
          20.575,
          23.45,
          8.05,
          8.6625,
          13,
          52.5542,
          76.2917,
          15.9,
          23,
          263,
          262.375,
          7.725,
          21,
          7.8792,
          263,
          7.75,
          7.925,
          211.5,
          25.7,
          7.75,
          7.8792,
          8.05,
          7.75,
          13.9,
          52,
          78.85,
          7.8542,
          55.4417,
          8.5167,
          7.7792,
          31.6792,
          7.2833,
          221.7792,
          16.7,
          26,
          15.75,
          57.75,
          16.1,
          23.25,
          25.4667,
          8.05,
          46.9,
          151.55,
          83.1583,
          12.1833,
          221.7792,
          7.8542,
          13.775,
          7.7333,
          13.5,
          22.025,
          27.7208,
          8.9625,
          39,
          36.75,
          39,
          83.1583,
          53.1,
          247.5208,
          21,
          69.55,
          7.775,
          8.1125,
          15.5,
          26,
          7.75,
          27.7208,
          26,
          7.775,
          7.8792,
          211.5,
          13.8583,
          10.5,
          27.4458,
          15.2458,
          7.75,
          26.55,
          13,
          106.425,
          27.7208,
          30,
          21,
          26,
          14.4542,
          27.75,
          13,
          23,
          12.1833,
          8.05,
          136.7792,
          15.5,
          26,
          8.6625,
          7.75,
          15.2458,
          20.2125,
          6.95,
          41.5792,
          7.75,
          26.55,
          14.1083,
          7.75,
          135.6333,
          7.7333,
          211.3375,
          39,
          36.75,
          15.7417,
          512.3292,
          7.65,
          7.2292,
          21,
          63.3583,
          20.575,
          51.4792,
          15.55,
          37.0042,
          21,
          55.4417,
          69.55,
          39.6875,
          59.4,
          134.5,
          81.8583,
          262.375,
          8.6625,
          14.5,
          16.1,
          65,
          39.4,
          60,
          79.2,
          164.8667,
          59.4,
          7.7208,
          13.775,
          7.75,
          90,
          7.775,
          108.9
         ]
        },
        {
         "boxpoints": false,
         "line": {
          "width": 1.3
         },
         "marker": {
          "color": "rgba(128, 128, 0, 1.0)"
         },
         "name": "Embarked",
         "orientation": "v",
         "type": "box",
         "y": [
          "Southampton",
          "Southampton",
          "Queenstown",
          "Cherbourg",
          "Southampton",
          "Southampton",
          "Cherbourg",
          "Southampton",
          "Cherbourg",
          "Southampton",
          "Cherbourg",
          "Cherbourg",
          "Southampton",
          "Southampton",
          "Southampton",
          "Southampton",
          "Southampton",
          "Southampton",
          "Cherbourg",
          "Southampton",
          "Southampton",
          "Southampton",
          "Cherbourg",
          "Queenstown",
          "Southampton",
          "Queenstown",
          "Southampton",
          "Queenstown",
          "Southampton",
          "Cherbourg",
          "Southampton",
          "Queenstown",
          "Queenstown",
          "Southampton",
          "Queenstown",
          "Southampton",
          "Southampton",
          "Southampton",
          "Southampton",
          "Cherbourg",
          "Cherbourg",
          "Queenstown",
          "Cherbourg",
          "Queenstown",
          "Southampton",
          "Southampton",
          "Southampton",
          "Southampton",
          "Cherbourg",
          "Southampton",
          "Queenstown",
          "Southampton",
          "Southampton",
          "Southampton",
          "Southampton",
          "Cherbourg",
          "Southampton",
          "Southampton",
          "Southampton",
          "Southampton",
          "Queenstown",
          "Southampton",
          "Southampton",
          "Cherbourg",
          "Southampton",
          "Southampton",
          "Southampton",
          "Southampton",
          "Cherbourg",
          "Southampton",
          "Cherbourg",
          "Southampton",
          "Southampton",
          "Southampton",
          "Southampton",
          "Queenstown",
          "Southampton",
          "Queenstown",
          "Cherbourg",
          "Southampton",
          "Southampton",
          "Queenstown",
          "Cherbourg",
          "Cherbourg",
          "Southampton",
          "Cherbourg",
          "Cherbourg",
          "Queenstown",
          "Southampton",
          "Southampton",
          "Cherbourg",
          "Cherbourg",
          "Southampton",
          "Southampton",
          "Southampton",
          "Cherbourg",
          "Southampton",
          "Southampton",
          "Southampton",
          "Southampton",
          "Southampton",
          "Cherbourg",
          "Queenstown",
          "Southampton",
          "Southampton",
          "Queenstown",
          "Cherbourg",
          "Southampton",
          "Queenstown",
          "Cherbourg",
          "Queenstown",
          "Southampton",
          "Southampton",
          "Queenstown",
          "Cherbourg",
          "Queenstown",
          "Southampton",
          "Southampton",
          "Southampton",
          "Cherbourg",
          "Cherbourg",
          "Southampton",
          "Cherbourg",
          "Southampton",
          "Cherbourg",
          "Southampton",
          "Southampton",
          "Southampton",
          "Cherbourg",
          "Southampton",
          "Cherbourg",
          "Southampton",
          "Southampton",
          "Cherbourg",
          "Cherbourg",
          "Southampton",
          "Cherbourg",
          "Southampton",
          "Southampton",
          "Southampton",
          "Southampton",
          "Southampton",
          "Southampton",
          "Cherbourg",
          "Southampton",
          "Cherbourg",
          "Queenstown",
          "Southampton",
          "Queenstown",
          "Queenstown",
          "Southampton",
          "Cherbourg"
         ]
        },
        {
         "boxpoints": false,
         "line": {
          "width": 1.3
         },
         "marker": {
          "color": "rgba(251, 128, 114, 1.0)"
         },
         "name": "FamilySize",
         "orientation": "v",
         "type": "box",
         "y": [
          1,
          2,
          0,
          0,
          1,
          1,
          1,
          1,
          0,
          0,
          4,
          1,
          3,
          3,
          0,
          0,
          0,
          1,
          0,
          2,
          3,
          5,
          0,
          0,
          0,
          0,
          5,
          0,
          0,
          0,
          2,
          0,
          0,
          0,
          0,
          1,
          3,
          1,
          0,
          1,
          2,
          0,
          0,
          0,
          1,
          2,
          1,
          0,
          1,
          1,
          2,
          4,
          0,
          7,
          0,
          1,
          2,
          0,
          0,
          2,
          0,
          0,
          2,
          0,
          0,
          2,
          0,
          3,
          2,
          1,
          2,
          1,
          10,
          0,
          0,
          0,
          2,
          0,
          0,
          1,
          6,
          0,
          2,
          1,
          0,
          0,
          2,
          0,
          0,
          2,
          1,
          0,
          2,
          0,
          1,
          1,
          3,
          0,
          2,
          2,
          0,
          1,
          1,
          1,
          0,
          0,
          2,
          2,
          0,
          3,
          0,
          2,
          1,
          0,
          0,
          0,
          0,
          3,
          2,
          2,
          1,
          0,
          0,
          0,
          1,
          3,
          2,
          1,
          2,
          0,
          1,
          10,
          0,
          1,
          0,
          2,
          0,
          2,
          0,
          1,
          3,
          1,
          1,
          2,
          0,
          1,
          0,
          2,
          0,
          1,
          0,
          0
         ]
        },
        {
         "boxpoints": false,
         "line": {
          "width": 1.3
         },
         "marker": {
          "color": "rgba(128, 177, 211, 1.0)"
         },
         "name": "age_group",
         "orientation": "v",
         "type": "box",
         "y": [
          "40-49",
          "20-29",
          "30-39",
          "10-19",
          "20-29",
          "40-49",
          "20-29",
          "20-29",
          "40-49",
          null,
          "40-49",
          "20-29",
          "30-39",
          null,
          null,
          "20-29",
          "30-39",
          "40-49",
          "60-69",
          "30-39",
          "20-29",
          "20-29",
          "30-39",
          "20-29",
          null,
          "10-19",
          "60-69",
          "20-29",
          "20-29",
          "30-39",
          "50-59",
          "20-29",
          "20-29",
          "10-19",
          null,
          "20-29",
          "20-29",
          "70-79",
          "20-29",
          "40-49",
          "10-19",
          null,
          "30-39",
          "10-19",
          "60-69",
          "0-9",
          "20-29",
          "10-19",
          "30-39",
          "10-19",
          null,
          null,
          "20-29",
          "10-19",
          "30-39",
          "20-29",
          "30-39",
          "20-29",
          "20-29",
          "20-29",
          null,
          "20-29",
          "20-29",
          null,
          "20-29",
          "10-19",
          "20-29",
          "30-39",
          "60-69",
          "10-19",
          "20-29",
          "20-29",
          null,
          "10-19",
          null,
          null,
          "0-9",
          "30-39",
          "30-39",
          "60-69",
          "30-39",
          null,
          "50-59",
          "30-39",
          "20-29",
          "50-59",
          null,
          null,
          "20-29",
          "10-19",
          "40-49",
          "50-59",
          "40-49",
          "20-29",
          "20-29",
          null,
          "0-9",
          "10-19",
          "20-29",
          "0-9",
          null,
          "20-29",
          null,
          "20-29",
          "20-29",
          null,
          "0-9",
          "0-9",
          "30-39",
          "0-9",
          null,
          "60-69",
          "40-49",
          "30-39",
          "50-59",
          "10-19",
          "30-39",
          "10-19",
          "40-49",
          "10-19",
          "50-59",
          "10-19",
          "30-39",
          "30-39",
          "40-49",
          "0-9",
          "50-59",
          "30-39",
          "20-29",
          "30-39",
          "20-29",
          null,
          "20-29",
          "40-49",
          "30-39",
          "50-59",
          "40-49",
          "20-29",
          null,
          "10-19",
          "20-29",
          "50-59",
          "10-19",
          "40-49",
          "30-39",
          "20-29",
          null,
          "0-9",
          null,
          "30-39",
          "20-29",
          "30-39"
         ]
        }
       ],
       "layout": {
        "legend": {
         "bgcolor": "#F5F6F9",
         "font": {
          "color": "#4D5663"
         }
        },
        "paper_bgcolor": "#F5F6F9",
        "plot_bgcolor": "#F5F6F9",
        "template": {
         "data": {
          "bar": [
           {
            "error_x": {
             "color": "#2a3f5f"
            },
            "error_y": {
             "color": "#2a3f5f"
            },
            "marker": {
             "line": {
              "color": "#E5ECF6",
              "width": 0.5
             },
             "pattern": {
              "fillmode": "overlay",
              "size": 10,
              "solidity": 0.2
             }
            },
            "type": "bar"
           }
          ],
          "barpolar": [
           {
            "marker": {
             "line": {
              "color": "#E5ECF6",
              "width": 0.5
             },
             "pattern": {
              "fillmode": "overlay",
              "size": 10,
              "solidity": 0.2
             }
            },
            "type": "barpolar"
           }
          ],
          "carpet": [
           {
            "aaxis": {
             "endlinecolor": "#2a3f5f",
             "gridcolor": "white",
             "linecolor": "white",
             "minorgridcolor": "white",
             "startlinecolor": "#2a3f5f"
            },
            "baxis": {
             "endlinecolor": "#2a3f5f",
             "gridcolor": "white",
             "linecolor": "white",
             "minorgridcolor": "white",
             "startlinecolor": "#2a3f5f"
            },
            "type": "carpet"
           }
          ],
          "choropleth": [
           {
            "colorbar": {
             "outlinewidth": 0,
             "ticks": ""
            },
            "type": "choropleth"
           }
          ],
          "contour": [
           {
            "colorbar": {
             "outlinewidth": 0,
             "ticks": ""
            },
            "colorscale": [
             [
              0,
              "#0d0887"
             ],
             [
              0.1111111111111111,
              "#46039f"
             ],
             [
              0.2222222222222222,
              "#7201a8"
             ],
             [
              0.3333333333333333,
              "#9c179e"
             ],
             [
              0.4444444444444444,
              "#bd3786"
             ],
             [
              0.5555555555555556,
              "#d8576b"
             ],
             [
              0.6666666666666666,
              "#ed7953"
             ],
             [
              0.7777777777777778,
              "#fb9f3a"
             ],
             [
              0.8888888888888888,
              "#fdca26"
             ],
             [
              1,
              "#f0f921"
             ]
            ],
            "type": "contour"
           }
          ],
          "contourcarpet": [
           {
            "colorbar": {
             "outlinewidth": 0,
             "ticks": ""
            },
            "type": "contourcarpet"
           }
          ],
          "heatmap": [
           {
            "colorbar": {
             "outlinewidth": 0,
             "ticks": ""
            },
            "colorscale": [
             [
              0,
              "#0d0887"
             ],
             [
              0.1111111111111111,
              "#46039f"
             ],
             [
              0.2222222222222222,
              "#7201a8"
             ],
             [
              0.3333333333333333,
              "#9c179e"
             ],
             [
              0.4444444444444444,
              "#bd3786"
             ],
             [
              0.5555555555555556,
              "#d8576b"
             ],
             [
              0.6666666666666666,
              "#ed7953"
             ],
             [
              0.7777777777777778,
              "#fb9f3a"
             ],
             [
              0.8888888888888888,
              "#fdca26"
             ],
             [
              1,
              "#f0f921"
             ]
            ],
            "type": "heatmap"
           }
          ],
          "heatmapgl": [
           {
            "colorbar": {
             "outlinewidth": 0,
             "ticks": ""
            },
            "colorscale": [
             [
              0,
              "#0d0887"
             ],
             [
              0.1111111111111111,
              "#46039f"
             ],
             [
              0.2222222222222222,
              "#7201a8"
             ],
             [
              0.3333333333333333,
              "#9c179e"
             ],
             [
              0.4444444444444444,
              "#bd3786"
             ],
             [
              0.5555555555555556,
              "#d8576b"
             ],
             [
              0.6666666666666666,
              "#ed7953"
             ],
             [
              0.7777777777777778,
              "#fb9f3a"
             ],
             [
              0.8888888888888888,
              "#fdca26"
             ],
             [
              1,
              "#f0f921"
             ]
            ],
            "type": "heatmapgl"
           }
          ],
          "histogram": [
           {
            "marker": {
             "pattern": {
              "fillmode": "overlay",
              "size": 10,
              "solidity": 0.2
             }
            },
            "type": "histogram"
           }
          ],
          "histogram2d": [
           {
            "colorbar": {
             "outlinewidth": 0,
             "ticks": ""
            },
            "colorscale": [
             [
              0,
              "#0d0887"
             ],
             [
              0.1111111111111111,
              "#46039f"
             ],
             [
              0.2222222222222222,
              "#7201a8"
             ],
             [
              0.3333333333333333,
              "#9c179e"
             ],
             [
              0.4444444444444444,
              "#bd3786"
             ],
             [
              0.5555555555555556,
              "#d8576b"
             ],
             [
              0.6666666666666666,
              "#ed7953"
             ],
             [
              0.7777777777777778,
              "#fb9f3a"
             ],
             [
              0.8888888888888888,
              "#fdca26"
             ],
             [
              1,
              "#f0f921"
             ]
            ],
            "type": "histogram2d"
           }
          ],
          "histogram2dcontour": [
           {
            "colorbar": {
             "outlinewidth": 0,
             "ticks": ""
            },
            "colorscale": [
             [
              0,
              "#0d0887"
             ],
             [
              0.1111111111111111,
              "#46039f"
             ],
             [
              0.2222222222222222,
              "#7201a8"
             ],
             [
              0.3333333333333333,
              "#9c179e"
             ],
             [
              0.4444444444444444,
              "#bd3786"
             ],
             [
              0.5555555555555556,
              "#d8576b"
             ],
             [
              0.6666666666666666,
              "#ed7953"
             ],
             [
              0.7777777777777778,
              "#fb9f3a"
             ],
             [
              0.8888888888888888,
              "#fdca26"
             ],
             [
              1,
              "#f0f921"
             ]
            ],
            "type": "histogram2dcontour"
           }
          ],
          "mesh3d": [
           {
            "colorbar": {
             "outlinewidth": 0,
             "ticks": ""
            },
            "type": "mesh3d"
           }
          ],
          "parcoords": [
           {
            "line": {
             "colorbar": {
              "outlinewidth": 0,
              "ticks": ""
             }
            },
            "type": "parcoords"
           }
          ],
          "pie": [
           {
            "automargin": true,
            "type": "pie"
           }
          ],
          "scatter": [
           {
            "fillpattern": {
             "fillmode": "overlay",
             "size": 10,
             "solidity": 0.2
            },
            "type": "scatter"
           }
          ],
          "scatter3d": [
           {
            "line": {
             "colorbar": {
              "outlinewidth": 0,
              "ticks": ""
             }
            },
            "marker": {
             "colorbar": {
              "outlinewidth": 0,
              "ticks": ""
             }
            },
            "type": "scatter3d"
           }
          ],
          "scattercarpet": [
           {
            "marker": {
             "colorbar": {
              "outlinewidth": 0,
              "ticks": ""
             }
            },
            "type": "scattercarpet"
           }
          ],
          "scattergeo": [
           {
            "marker": {
             "colorbar": {
              "outlinewidth": 0,
              "ticks": ""
             }
            },
            "type": "scattergeo"
           }
          ],
          "scattergl": [
           {
            "marker": {
             "colorbar": {
              "outlinewidth": 0,
              "ticks": ""
             }
            },
            "type": "scattergl"
           }
          ],
          "scattermapbox": [
           {
            "marker": {
             "colorbar": {
              "outlinewidth": 0,
              "ticks": ""
             }
            },
            "type": "scattermapbox"
           }
          ],
          "scatterpolar": [
           {
            "marker": {
             "colorbar": {
              "outlinewidth": 0,
              "ticks": ""
             }
            },
            "type": "scatterpolar"
           }
          ],
          "scatterpolargl": [
           {
            "marker": {
             "colorbar": {
              "outlinewidth": 0,
              "ticks": ""
             }
            },
            "type": "scatterpolargl"
           }
          ],
          "scatterternary": [
           {
            "marker": {
             "colorbar": {
              "outlinewidth": 0,
              "ticks": ""
             }
            },
            "type": "scatterternary"
           }
          ],
          "surface": [
           {
            "colorbar": {
             "outlinewidth": 0,
             "ticks": ""
            },
            "colorscale": [
             [
              0,
              "#0d0887"
             ],
             [
              0.1111111111111111,
              "#46039f"
             ],
             [
              0.2222222222222222,
              "#7201a8"
             ],
             [
              0.3333333333333333,
              "#9c179e"
             ],
             [
              0.4444444444444444,
              "#bd3786"
             ],
             [
              0.5555555555555556,
              "#d8576b"
             ],
             [
              0.6666666666666666,
              "#ed7953"
             ],
             [
              0.7777777777777778,
              "#fb9f3a"
             ],
             [
              0.8888888888888888,
              "#fdca26"
             ],
             [
              1,
              "#f0f921"
             ]
            ],
            "type": "surface"
           }
          ],
          "table": [
           {
            "cells": {
             "fill": {
              "color": "#EBF0F8"
             },
             "line": {
              "color": "white"
             }
            },
            "header": {
             "fill": {
              "color": "#C8D4E3"
             },
             "line": {
              "color": "white"
             }
            },
            "type": "table"
           }
          ]
         },
         "layout": {
          "annotationdefaults": {
           "arrowcolor": "#2a3f5f",
           "arrowhead": 0,
           "arrowwidth": 1
          },
          "autotypenumbers": "strict",
          "coloraxis": {
           "colorbar": {
            "outlinewidth": 0,
            "ticks": ""
           }
          },
          "colorscale": {
           "diverging": [
            [
             0,
             "#8e0152"
            ],
            [
             0.1,
             "#c51b7d"
            ],
            [
             0.2,
             "#de77ae"
            ],
            [
             0.3,
             "#f1b6da"
            ],
            [
             0.4,
             "#fde0ef"
            ],
            [
             0.5,
             "#f7f7f7"
            ],
            [
             0.6,
             "#e6f5d0"
            ],
            [
             0.7,
             "#b8e186"
            ],
            [
             0.8,
             "#7fbc41"
            ],
            [
             0.9,
             "#4d9221"
            ],
            [
             1,
             "#276419"
            ]
           ],
           "sequential": [
            [
             0,
             "#0d0887"
            ],
            [
             0.1111111111111111,
             "#46039f"
            ],
            [
             0.2222222222222222,
             "#7201a8"
            ],
            [
             0.3333333333333333,
             "#9c179e"
            ],
            [
             0.4444444444444444,
             "#bd3786"
            ],
            [
             0.5555555555555556,
             "#d8576b"
            ],
            [
             0.6666666666666666,
             "#ed7953"
            ],
            [
             0.7777777777777778,
             "#fb9f3a"
            ],
            [
             0.8888888888888888,
             "#fdca26"
            ],
            [
             1,
             "#f0f921"
            ]
           ],
           "sequentialminus": [
            [
             0,
             "#0d0887"
            ],
            [
             0.1111111111111111,
             "#46039f"
            ],
            [
             0.2222222222222222,
             "#7201a8"
            ],
            [
             0.3333333333333333,
             "#9c179e"
            ],
            [
             0.4444444444444444,
             "#bd3786"
            ],
            [
             0.5555555555555556,
             "#d8576b"
            ],
            [
             0.6666666666666666,
             "#ed7953"
            ],
            [
             0.7777777777777778,
             "#fb9f3a"
            ],
            [
             0.8888888888888888,
             "#fdca26"
            ],
            [
             1,
             "#f0f921"
            ]
           ]
          },
          "colorway": [
           "#636efa",
           "#EF553B",
           "#00cc96",
           "#ab63fa",
           "#FFA15A",
           "#19d3f3",
           "#FF6692",
           "#B6E880",
           "#FF97FF",
           "#FECB52"
          ],
          "font": {
           "color": "#2a3f5f"
          },
          "geo": {
           "bgcolor": "white",
           "lakecolor": "white",
           "landcolor": "#E5ECF6",
           "showlakes": true,
           "showland": true,
           "subunitcolor": "white"
          },
          "hoverlabel": {
           "align": "left"
          },
          "hovermode": "closest",
          "mapbox": {
           "style": "light"
          },
          "paper_bgcolor": "white",
          "plot_bgcolor": "#E5ECF6",
          "polar": {
           "angularaxis": {
            "gridcolor": "white",
            "linecolor": "white",
            "ticks": ""
           },
           "bgcolor": "#E5ECF6",
           "radialaxis": {
            "gridcolor": "white",
            "linecolor": "white",
            "ticks": ""
           }
          },
          "scene": {
           "xaxis": {
            "backgroundcolor": "#E5ECF6",
            "gridcolor": "white",
            "gridwidth": 2,
            "linecolor": "white",
            "showbackground": true,
            "ticks": "",
            "zerolinecolor": "white"
           },
           "yaxis": {
            "backgroundcolor": "#E5ECF6",
            "gridcolor": "white",
            "gridwidth": 2,
            "linecolor": "white",
            "showbackground": true,
            "ticks": "",
            "zerolinecolor": "white"
           },
           "zaxis": {
            "backgroundcolor": "#E5ECF6",
            "gridcolor": "white",
            "gridwidth": 2,
            "linecolor": "white",
            "showbackground": true,
            "ticks": "",
            "zerolinecolor": "white"
           }
          },
          "shapedefaults": {
           "line": {
            "color": "#2a3f5f"
           }
          },
          "ternary": {
           "aaxis": {
            "gridcolor": "white",
            "linecolor": "white",
            "ticks": ""
           },
           "baxis": {
            "gridcolor": "white",
            "linecolor": "white",
            "ticks": ""
           },
           "bgcolor": "#E5ECF6",
           "caxis": {
            "gridcolor": "white",
            "linecolor": "white",
            "ticks": ""
           }
          },
          "title": {
           "x": 0.05
          },
          "xaxis": {
           "automargin": true,
           "gridcolor": "white",
           "linecolor": "white",
           "ticks": "",
           "title": {
            "standoff": 15
           },
           "zerolinecolor": "white",
           "zerolinewidth": 2
          },
          "yaxis": {
           "automargin": true,
           "gridcolor": "white",
           "linecolor": "white",
           "ticks": "",
           "title": {
            "standoff": 15
           },
           "zerolinecolor": "white",
           "zerolinewidth": 2
          }
         }
        },
        "title": {
         "font": {
          "color": "#4D5663"
         }
        },
        "xaxis": {
         "gridcolor": "#E1E5ED",
         "showgrid": true,
         "tickfont": {
          "color": "#4D5663"
         },
         "title": {
          "font": {
           "color": "#4D5663"
          },
          "text": ""
         },
         "zerolinecolor": "#E1E5ED"
        },
        "yaxis": {
         "gridcolor": "#E1E5ED",
         "showgrid": true,
         "tickfont": {
          "color": "#4D5663"
         },
         "title": {
          "font": {
           "color": "#4D5663"
          },
          "text": ""
         },
         "zerolinecolor": "#E1E5ED"
        }
       }
      },
      "text/html": [
       "<div>                            <div id=\"bc06d75f-cfb0-4374-989d-32e354a03088\" class=\"plotly-graph-div\" style=\"height:525px; width:100%;\"></div>            <script type=\"text/javascript\">                require([\"plotly\"], function(Plotly) {                    window.PLOTLYENV=window.PLOTLYENV || {};\n",
       "                    window.PLOTLYENV.BASE_URL='https://plot.ly';                                    if (document.getElementById(\"bc06d75f-cfb0-4374-989d-32e354a03088\")) {                    Plotly.newPlot(                        \"bc06d75f-cfb0-4374-989d-32e354a03088\",                        [{\"boxpoints\":false,\"line\":{\"width\":1.3},\"marker\":{\"color\":\"rgba(255, 153, 51, 1.0)\"},\"name\":\"PassengerId\",\"orientation\":\"v\",\"y\":[893,896,898,900,904,906,907,910,911,914,916,918,924,925,928,929,935,936,940,941,944,945,951,955,957,958,961,962,964,966,969,971,978,979,980,982,984,988,990,992,996,1003,1004,1005,1006,1009,1011,1012,1014,1017,1019,1024,1030,1032,1033,1042,1045,1048,1049,1051,1052,1054,1057,1060,1061,1067,1068,1070,1071,1074,1076,1078,1080,1089,1091,1092,1095,1098,1100,1105,1106,1108,1110,1112,1114,1116,1117,1119,1123,1130,1131,1132,1133,1138,1140,1141,1142,1150,1154,1155,1160,1164,1165,1167,1172,1174,1175,1176,1183,1188,1196,1197,1201,1205,1206,1207,1216,1218,1222,1225,1235,1237,1239,1241,1242,1246,1248,1251,1253,1254,1256,1257,1259,1260,1263,1266,1267,1268,1274,1275,1277,1283,1287,1289,1292,1294,1300,1301,1302,1303,1304,1306],\"type\":\"box\"},{\"boxpoints\":false,\"line\":{\"width\":1.3},\"marker\":{\"color\":\"rgba(55, 128, 191, 1.0)\"},\"name\":\"Survived\",\"orientation\":\"v\",\"y\":[\"Yes\",\"Yes\",\"Yes\",\"Yes\",\"Yes\",\"Yes\",\"Yes\",\"Yes\",\"Yes\",\"Yes\",\"Yes\",\"Yes\",\"Yes\",\"Yes\",\"Yes\",\"Yes\",\"Yes\",\"Yes\",\"Yes\",\"Yes\",\"Yes\",\"Yes\",\"Yes\",\"Yes\",\"Yes\",\"Yes\",\"Yes\",\"Yes\",\"Yes\",\"Yes\",\"Yes\",\"Yes\",\"Yes\",\"Yes\",\"Yes\",\"Yes\",\"Yes\",\"Yes\",\"Yes\",\"Yes\",\"Yes\",\"Yes\",\"Yes\",\"Yes\",\"Yes\",\"Yes\",\"Yes\",\"Yes\",\"Yes\",\"Yes\",\"Yes\",\"Yes\",\"Yes\",\"Yes\",\"Yes\",\"Yes\",\"Yes\",\"Yes\",\"Yes\",\"Yes\",\"Yes\",\"Yes\",\"Yes\",\"Yes\",\"Yes\",\"Yes\",\"Yes\",\"Yes\",\"Yes\",\"Yes\",\"Yes\",\"Yes\",\"Yes\",\"Yes\",\"Yes\",\"Yes\",\"Yes\",\"Yes\",\"Yes\",\"Yes\",\"Yes\",\"Yes\",\"Yes\",\"Yes\",\"Yes\",\"Yes\",\"Yes\",\"Yes\",\"Yes\",\"Yes\",\"Yes\",\"Yes\",\"Yes\",\"Yes\",\"Yes\",\"Yes\",\"Yes\",\"Yes\",\"Yes\",\"Yes\",\"Yes\",\"Yes\",\"Yes\",\"Yes\",\"Yes\",\"Yes\",\"Yes\",\"Yes\",\"Yes\",\"Yes\",\"Yes\",\"Yes\",\"Yes\",\"Yes\",\"Yes\",\"Yes\",\"Yes\",\"Yes\",\"Yes\",\"Yes\",\"Yes\",\"Yes\",\"Yes\",\"Yes\",\"Yes\",\"Yes\",\"Yes\",\"Yes\",\"Yes\",\"Yes\",\"Yes\",\"Yes\",\"Yes\",\"Yes\",\"Yes\",\"Yes\",\"Yes\",\"Yes\",\"Yes\",\"Yes\",\"Yes\",\"Yes\",\"Yes\",\"Yes\",\"Yes\",\"Yes\",\"Yes\",\"Yes\",\"Yes\",\"Yes\",\"Yes\",\"Yes\"],\"type\":\"box\"},{\"boxpoints\":false,\"line\":{\"width\":1.3},\"marker\":{\"color\":\"rgba(50, 171, 96, 1.0)\"},\"name\":\"Pclass\",\"orientation\":\"v\",\"y\":[\"Lower Class\",\"Lower Class\",\"Lower Class\",\"Lower Class\",\"Upper Class\",\"Upper Class\",\"Middle Class\",\"Lower Class\",\"Lower Class\",\"Upper Class\",\"Upper Class\",\"Upper Class\",\"Lower Class\",\"Lower Class\",\"Lower Class\",\"Lower Class\",\"Middle Class\",\"Upper Class\",\"Upper Class\",\"Lower Class\",\"Middle Class\",\"Upper Class\",\"Upper Class\",\"Lower Class\",\"Middle Class\",\"Lower Class\",\"Upper Class\",\"Lower Class\",\"Lower Class\",\"Upper Class\",\"Upper Class\",\"Lower Class\",\"Lower Class\",\"Lower Class\",\"Lower Class\",\"Lower Class\",\"Upper Class\",\"Upper Class\",\"Lower Class\",\"Upper Class\",\"Lower Class\",\"Lower Class\",\"Upper Class\",\"Lower Class\",\"Upper Class\",\"Lower Class\",\"Middle Class\",\"Middle Class\",\"Upper Class\",\"Lower Class\",\"Lower Class\",\"Lower Class\",\"Lower Class\",\"Lower Class\",\"Upper Class\",\"Upper Class\",\"Lower Class\",\"Upper Class\",\"Lower Class\",\"Lower Class\",\"Lower Class\",\"Middle Class\",\"Lower Class\",\"Upper Class\",\"Lower Class\",\"Middle Class\",\"Middle Class\",\"Middle Class\",\"Upper Class\",\"Upper Class\",\"Upper Class\",\"Middle Class\",\"Lower Class\",\"Lower Class\",\"Lower Class\",\"Lower Class\",\"Middle Class\",\"Lower Class\",\"Upper Class\",\"Middle Class\",\"Lower Class\",\"Lower Class\",\"Upper Class\",\"Middle Class\",\"Middle Class\",\"Upper Class\",\"Lower Class\",\"Lower Class\",\"Upper Class\",\"Middle Class\",\"Upper Class\",\"Upper Class\",\"Middle Class\",\"Middle Class\",\"Middle Class\",\"Lower Class\",\"Middle Class\",\"Middle Class\",\"Middle Class\",\"Lower Class\",\"Lower Class\",\"Upper Class\",\"Lower Class\",\"Middle Class\",\"Lower Class\",\"Lower Class\",\"Lower Class\",\"Lower Class\",\"Lower Class\",\"Middle Class\",\"Lower Class\",\"Upper Class\",\"Lower Class\",\"Lower Class\",\"Upper Class\",\"Lower Class\",\"Upper Class\",\"Middle Class\",\"Middle Class\",\"Lower Class\",\"Upper Class\",\"Lower Class\",\"Lower Class\",\"Middle Class\",\"Upper Class\",\"Lower Class\",\"Upper Class\",\"Lower Class\",\"Middle Class\",\"Middle Class\",\"Upper Class\",\"Lower Class\",\"Lower Class\",\"Upper Class\",\"Upper Class\",\"Upper Class\",\"Upper Class\",\"Lower Class\",\"Lower Class\",\"Lower Class\",\"Middle Class\",\"Upper Class\",\"Upper Class\",\"Upper Class\",\"Upper Class\",\"Upper Class\",\"Lower Class\",\"Lower Class\",\"Lower Class\",\"Upper Class\",\"Lower Class\",\"Upper Class\"],\"type\":\"box\"},{\"boxpoints\":false,\"line\":{\"width\":1.3},\"marker\":{\"color\":\"rgba(128, 0, 128, 1.0)\"},\"name\":\"Name\",\"orientation\":\"v\",\"y\":[\"Wilkes, Mrs. James (Ellen Needs)\",\"Hirvonen, Mrs. Alexander (Helga E Lindqvist)\",\"Connolly, Miss. Kate\",\"Abrahim, Mrs. Joseph (Sophie Halaut Easu)\",\"Snyder, Mrs. John Pillsbury (Nelle Stevenson)\",\"Chaffee, Mrs. Herbert Fuller (Carrie Constance Toogood)\",\"del Carlo, Mrs. Sebastiano (Argenia Genovesi)\",\"Ilmakangas, Miss. Ida Livija\",\"Assaf Khalil, Mrs. Mariana (Miriam\\\")\\\"\",\"Flegenheim, Mrs. Alfred (Antoinette)\",\"Ryerson, Mrs. Arthur Larned (Emily Maria Borie)\",\"Ostby, Miss. Helene Ragnhild\",\"Dean, Mrs. Bertram (Eva Georgetta Light)\",\"Johnston, Mrs. Andrew G (Elizabeth Lily\\\" Watson)\\\"\",\"Roth, Miss. Sarah A\",\"Cacic, Miss. Manda\",\"Corbett, Mrs. Walter H (Irene Colvin)\",\"Kimball, Mrs. Edwin Nelson Jr (Gertrude Parsons)\",\"Bucknell, Mrs. William Robert (Emma Eliza Ward)\",\"Coutts, Mrs. William (Winnie Minnie\\\" Treanor)\\\"\",\"Hocking, Miss. Ellen Nellie\\\"\\\"\",\"Fortune, Miss. Ethel Flora\",\"Chaudanson, Miss. Victorine\",\"Bradley, Miss. Bridget Delia\",\"Corey, Mrs. Percy C (Mary Phyllis Elizabeth Miller)\",\"Burns, Miss. Mary Delia\",\"Fortune, Mrs. Mark (Mary McDougald)\",\"Mulvihill, Miss. Bertha E\",\"Nieminen, Miss. Manta Josefina\",\"Geiger, Miss. Amalie\",\"Cornell, Mrs. Robert Clifford (Malvina Helen Lamson)\",\"Doyle, Miss. Elizabeth\",\"Barry, Miss. Julia\",\"Badman, Miss. Emily Louisa\",\"O'Donoghue, Ms. Bridget\",\"Dyker, Mrs. Adolf Fredrik (Anna Elisabeth Judith Andersson)\",\"Davidson, Mrs. Thornton (Orian Hays)\",\"Cavendish, Mrs. Tyrell William (Julia Florence Siegel)\",\"Braf, Miss. Elin Ester Maria\",\"Stengel, Mrs. Charles Emil Henry (Annie May Morris)\",\"Thomas, Mrs. Alexander (Thamine Thelma\\\")\\\"\",\"Shine, Miss. Ellen Natalia\",\"Evans, Miss. Edith Corse\",\"Buckley, Miss. Katherine\",\"Straus, Mrs. Isidor (Rosalie Ida Blun)\",\"Sandstrom, Miss. Beatrice Irene\",\"Chapman, Mrs. John Henry (Sara Elizabeth Lawry)\",\"Watt, Miss. Bertha J\",\"Schabert, Mrs. Paul (Emma Mock)\",\"Cribb, Miss. Laura Alice\",\"McCoy, Miss. Alicia\",\"Lefebre, Mrs. Frank (Frances)\",\"Drapkin, Miss. Jennie\",\"Goodwin, Miss. Jessie Allis\",\"Daniels, Miss. Sarah\",\"Earnshaw, Mrs. Boulton (Olive Potter)\",\"Klasen, Mrs. (Hulda Kristina Eugenia Lofqvist)\",\"Bird, Miss. Ellen\",\"Lundin, Miss. Olga Elida\",\"Peacock, Mrs. Benjamin (Edith Nile)\",\"Smyth, Miss. Julia\",\"Wright, Miss. Marion\",\"Kink-Heilmann, Mrs. Anton (Luise Heilmann)\",\"Cassebeer, Mrs. Henry Arthur Jr (Eleanor Genevieve Fosdick)\",\"Hellstrom, Miss. Hilda Maria\",\"Brown, Miss. Edith Eileen\",\"Sincock, Miss. Maude\",\"Becker, Mrs. Allen Oliver (Nellie E Baumgardner)\",\"Compton, Mrs. Alexander Taylor (Mary Eliza Ingersoll)\",\"Marvin, Mrs. Daniel Warner (Mary Graham Carmichael Farquarson)\",\"Douglas, Mrs. Frederick Charles (Mary Helene Baxter)\",\"Phillips, Miss. Alice Frances Louisa\",\"Sage, Miss. Ada\",\"Nilsson, Miss. Berta Olivia\",\"Rasmussen, Mrs. (Lena Jacobsen Solvang)\",\"Murphy, Miss. Nora\",\"Quick, Miss. Winifred Vera\",\"McGowan, Miss. Katherine\",\"Rosenbaum, Miss. Edith Louise\",\"Howard, Mrs. Benjamin (Ellen Truelove Arman)\",\"Andersson, Miss. Ida Augusta Margareta\",\"Mahon, Miss. Bridget Delia\",\"Widener, Mrs. George Dunton (Eleanor Elkins)\",\"Duran y More, Miss. Florentina\",\"Cook, Mrs. (Selena Rogers)\",\"Candee, Mrs. Edward (Helen Churchill Hungerford)\",\"Moubarek, Mrs. George (Omine Amenia\\\" Alexander)\\\"\",\"McNeill, Miss. Bridget\",\"Willard, Miss. Constance\",\"Hiltunen, Miss. Marta\",\"Douglas, Mrs. Walter Donald (Mahala Dutton)\",\"Lindstrom, Mrs. Carl Johan (Sigrid Posse)\",\"Christy, Mrs. (Alice Frances)\",\"Karnes, Mrs. J Frank (Claire Bennett)\",\"Hold, Mrs. Stephen (Annie Margaret Hill)\",\"Khalil, Mrs. Betros (Zahie Maria\\\" Elias)\\\"\",\"West, Miss. Barbara J\",\"Bentham, Miss. Lilian W\",\"Wells, Mrs. Arthur Henry (Addie\\\" Dart Trevaskis)\\\"\",\"Klasen, Miss. Gertrud Emilia\",\"Howard, Miss. May Elizabeth\",\"Clark, Mrs. Walter Miller (Virginia McDowell)\",\"Lennon, Miss. Mary\",\"Bryhl, Miss. Dagmar Jenny Ingeborg \",\"Oreskovic, Miss. Jelka\",\"Fleming, Miss. Honora\",\"Touma, Miss. Maria Youssef\",\"Rosblom, Miss. Salli Helena\",\"Daly, Miss. Margaret Marcella Maggie\\\"\\\"\",\"Laroche, Miss. Louise\",\"McCarthy, Miss. Catherine Katie\\\"\\\"\",\"Crosby, Mrs. Edward Gifford (Catherine Elizabeth Halstead)\",\"Hansen, Mrs. Claus Peter (Jennie L Howard)\",\"Carr, Miss. Jeannie\",\"White, Mrs. John Stuart (Ella Holmes)\",\"Hagardon, Miss. Kate\",\"Kreuchen, Miss. Emilie\",\"Becker, Miss. Ruth Elizabeth\",\"Davies, Mrs. John Morgan (Elizabeth Agnes Mary White) \",\"Nakid, Mrs. Said (Waika Mary\\\" Mowad)\\\"\",\"Cardeza, Mrs. James Warburton Martinez (Charlotte Wardle Drake)\",\"Abelseth, Miss. Karen Marie\",\"Whabee, Mrs. George Joseph (Shawneene Abi-Saab)\",\"Walcroft, Miss. Nellie\",\"Greenfield, Mrs. Leo David (Blanche Strouse)\",\"Dean, Miss. Elizabeth Gladys Millvina\\\"\\\"\",\"Brown, Mrs. John Murray (Caroline Lane Lamson)\",\"Lindell, Mrs. Edvard Bengtsson (Elin Gerda Persson)\",\"Mallet, Mrs. Albert (Antoinette Magnin)\",\"Ware, Mrs. John James (Florence Louise Long)\",\"Harder, Mrs. George Achilles (Dorothy Annan)\",\"Sage, Mrs. John (Annie Bullen)\",\"Riihivouri, Miss. Susanna Juhantytar Sanni\\\"\\\"\",\"Gibson, Mrs. Leonard (Pauline C Boeson)\",\"Wilson, Miss. Helen Alice\",\"Dodge, Mrs. Washington (Ruth Vidaver)\",\"Bowen, Miss. Grace Scott\",\"Kink, Miss. Maria\",\"Risien, Mrs. Samuel (Emma)\",\"McNamee, Mrs. Neal (Eileen O'Leary)\",\"Herman, Miss. Kate\",\"Lines, Mrs. Ernest H (Elizabeth Lindsey James)\",\"Smith, Mrs. Lucien Philip (Mary Eloise Hughes)\",\"Frolicher-Stehli, Mrs. Maxmillian (Margaretha Emerentia Stehli)\",\"Bonnell, Miss. Caroline\",\"Gibson, Miss. Dorothy Winifred\",\"Riordan, Miss. Johanna Hannah\\\"\\\"\",\"Peacock, Miss. Treasteall\",\"Naughton, Miss. Hannah\",\"Minahan, Mrs. William Edward (Lillian E Thorpe)\",\"Henriksson, Miss. Jenny Lovisa\",\"Oliva y Ocana, Dona. Fermina\"],\"type\":\"box\"},{\"boxpoints\":false,\"line\":{\"width\":1.3},\"marker\":{\"color\":\"rgba(219, 64, 82, 1.0)\"},\"name\":\"Sex\",\"orientation\":\"v\",\"y\":[\"female\",\"female\",\"female\",\"female\",\"female\",\"female\",\"female\",\"female\",\"female\",\"female\",\"female\",\"female\",\"female\",\"female\",\"female\",\"female\",\"female\",\"female\",\"female\",\"female\",\"female\",\"female\",\"female\",\"female\",\"female\",\"female\",\"female\",\"female\",\"female\",\"female\",\"female\",\"female\",\"female\",\"female\",\"female\",\"female\",\"female\",\"female\",\"female\",\"female\",\"female\",\"female\",\"female\",\"female\",\"female\",\"female\",\"female\",\"female\",\"female\",\"female\",\"female\",\"female\",\"female\",\"female\",\"female\",\"female\",\"female\",\"female\",\"female\",\"female\",\"female\",\"female\",\"female\",\"female\",\"female\",\"female\",\"female\",\"female\",\"female\",\"female\",\"female\",\"female\",\"female\",\"female\",\"female\",\"female\",\"female\",\"female\",\"female\",\"female\",\"female\",\"female\",\"female\",\"female\",\"female\",\"female\",\"female\",\"female\",\"female\",\"female\",\"female\",\"female\",\"female\",\"female\",\"female\",\"female\",\"female\",\"female\",\"female\",\"female\",\"female\",\"female\",\"female\",\"female\",\"female\",\"female\",\"female\",\"female\",\"female\",\"female\",\"female\",\"female\",\"female\",\"female\",\"female\",\"female\",\"female\",\"female\",\"female\",\"female\",\"female\",\"female\",\"female\",\"female\",\"female\",\"female\",\"female\",\"female\",\"female\",\"female\",\"female\",\"female\",\"female\",\"female\",\"female\",\"female\",\"female\",\"female\",\"female\",\"female\",\"female\",\"female\",\"female\",\"female\",\"female\",\"female\",\"female\",\"female\",\"female\",\"female\",\"female\",\"female\"],\"type\":\"box\"},{\"boxpoints\":false,\"line\":{\"width\":1.3},\"marker\":{\"color\":\"rgba(0, 128, 128, 1.0)\"},\"name\":\"Age\",\"orientation\":\"v\",\"y\":[47.0,22.0,30.0,18.0,23.0,47.0,24.0,27.0,45.0,null,48.0,22.0,33.0,null,null,21.0,30.0,45.0,60.0,36.0,20.0,28.0,36.0,22.0,null,18.0,60.0,24.0,29.0,35.0,55.0,24.0,27.0,18.0,null,22.0,27.0,76.0,20.0,43.0,16.0,null,36.0,18.5,63.0,1.0,29.0,12.0,35.0,17.0,null,null,23.0,10.0,33.0,23.0,36.0,29.0,23.0,26.0,null,26.0,26.0,null,22.0,15.0,20.0,36.0,64.0,18.0,27.0,21.0,null,18.0,null,null,8.0,35.0,33.0,60.0,38.0,null,50.0,30.0,22.0,53.0,null,null,21.0,18.0,48.0,55.0,45.0,22.0,29.0,null,0.92,19.0,29.0,1.0,null,26.0,null,20.0,23.0,null,9.0,2.0,30.0,1.0,null,64.0,45.0,37.0,55.0,17.0,39.0,12.0,48.0,19.0,58.0,16.0,38.0,31.0,45.0,0.17,59.0,30.0,24.0,31.0,25.0,null,22.0,45.0,31.0,54.0,45.0,22.0,null,19.0,24.0,51.0,18.0,48.0,30.0,22.0,null,3.0,null,37.0,28.0,39.0],\"type\":\"box\"},{\"boxpoints\":false,\"line\":{\"width\":1.3},\"marker\":{\"color\":\"rgba(255, 255, 51, 1.0)\"},\"name\":\"Fare\",\"orientation\":\"v\",\"y\":[7.0,12.2875,7.6292,7.2292,82.2667,61.175,27.7208,7.925,7.225,31.6833,262.375,61.9792,20.575,23.45,8.05,8.6625,13.0,52.5542,76.2917,15.9,23.0,263.0,262.375,7.725,21.0,7.8792,263.0,7.75,7.925,211.5,25.7,7.75,7.8792,8.05,7.75,13.9,52.0,78.85,7.8542,55.4417,8.5167,7.7792,31.6792,7.2833,221.7792,16.7,26.0,15.75,57.75,16.1,23.25,25.4667,8.05,46.9,151.55,83.1583,12.1833,221.7792,7.8542,13.775,7.7333,13.5,22.025,27.7208,8.9625,39.0,36.75,39.0,83.1583,53.1,247.5208,21.0,69.55,7.775,8.1125,15.5,26.0,7.75,27.7208,26.0,7.775,7.8792,211.5,13.8583,10.5,27.4458,15.2458,7.75,26.55,13.0,106.425,27.7208,30.0,21.0,26.0,14.4542,27.75,13.0,23.0,12.1833,8.05,136.7792,15.5,26.0,8.6625,7.75,15.2458,20.2125,6.95,41.5792,7.75,26.55,14.1083,7.75,135.6333,7.7333,211.3375,39.0,36.75,15.7417,512.3292,7.65,7.2292,21.0,63.3583,20.575,51.4792,15.55,37.0042,21.0,55.4417,69.55,39.6875,59.4,134.5,81.8583,262.375,8.6625,14.5,16.1,65.0,39.4,60.0,79.2,164.8667,59.4,7.7208,13.775,7.75,90.0,7.775,108.9],\"type\":\"box\"},{\"boxpoints\":false,\"line\":{\"width\":1.3},\"marker\":{\"color\":\"rgba(128, 128, 0, 1.0)\"},\"name\":\"Embarked\",\"orientation\":\"v\",\"y\":[\"Southampton\",\"Southampton\",\"Queenstown\",\"Cherbourg\",\"Southampton\",\"Southampton\",\"Cherbourg\",\"Southampton\",\"Cherbourg\",\"Southampton\",\"Cherbourg\",\"Cherbourg\",\"Southampton\",\"Southampton\",\"Southampton\",\"Southampton\",\"Southampton\",\"Southampton\",\"Cherbourg\",\"Southampton\",\"Southampton\",\"Southampton\",\"Cherbourg\",\"Queenstown\",\"Southampton\",\"Queenstown\",\"Southampton\",\"Queenstown\",\"Southampton\",\"Cherbourg\",\"Southampton\",\"Queenstown\",\"Queenstown\",\"Southampton\",\"Queenstown\",\"Southampton\",\"Southampton\",\"Southampton\",\"Southampton\",\"Cherbourg\",\"Cherbourg\",\"Queenstown\",\"Cherbourg\",\"Queenstown\",\"Southampton\",\"Southampton\",\"Southampton\",\"Southampton\",\"Cherbourg\",\"Southampton\",\"Queenstown\",\"Southampton\",\"Southampton\",\"Southampton\",\"Southampton\",\"Cherbourg\",\"Southampton\",\"Southampton\",\"Southampton\",\"Southampton\",\"Queenstown\",\"Southampton\",\"Southampton\",\"Cherbourg\",\"Southampton\",\"Southampton\",\"Southampton\",\"Southampton\",\"Cherbourg\",\"Southampton\",\"Cherbourg\",\"Southampton\",\"Southampton\",\"Southampton\",\"Southampton\",\"Queenstown\",\"Southampton\",\"Queenstown\",\"Cherbourg\",\"Southampton\",\"Southampton\",\"Queenstown\",\"Cherbourg\",\"Cherbourg\",\"Southampton\",\"Cherbourg\",\"Cherbourg\",\"Queenstown\",\"Southampton\",\"Southampton\",\"Cherbourg\",\"Cherbourg\",\"Southampton\",\"Southampton\",\"Southampton\",\"Cherbourg\",\"Southampton\",\"Southampton\",\"Southampton\",\"Southampton\",\"Southampton\",\"Cherbourg\",\"Queenstown\",\"Southampton\",\"Southampton\",\"Queenstown\",\"Cherbourg\",\"Southampton\",\"Queenstown\",\"Cherbourg\",\"Queenstown\",\"Southampton\",\"Southampton\",\"Queenstown\",\"Cherbourg\",\"Queenstown\",\"Southampton\",\"Southampton\",\"Southampton\",\"Cherbourg\",\"Cherbourg\",\"Southampton\",\"Cherbourg\",\"Southampton\",\"Cherbourg\",\"Southampton\",\"Southampton\",\"Southampton\",\"Cherbourg\",\"Southampton\",\"Cherbourg\",\"Southampton\",\"Southampton\",\"Cherbourg\",\"Cherbourg\",\"Southampton\",\"Cherbourg\",\"Southampton\",\"Southampton\",\"Southampton\",\"Southampton\",\"Southampton\",\"Southampton\",\"Cherbourg\",\"Southampton\",\"Cherbourg\",\"Queenstown\",\"Southampton\",\"Queenstown\",\"Queenstown\",\"Southampton\",\"Cherbourg\"],\"type\":\"box\"},{\"boxpoints\":false,\"line\":{\"width\":1.3},\"marker\":{\"color\":\"rgba(251, 128, 114, 1.0)\"},\"name\":\"FamilySize\",\"orientation\":\"v\",\"y\":[1,2,0,0,1,1,1,1,0,0,4,1,3,3,0,0,0,1,0,2,3,5,0,0,0,0,5,0,0,0,2,0,0,0,0,1,3,1,0,1,2,0,0,0,1,2,1,0,1,1,2,4,0,7,0,1,2,0,0,2,0,0,2,0,0,2,0,3,2,1,2,1,10,0,0,0,2,0,0,1,6,0,2,1,0,0,2,0,0,2,1,0,2,0,1,1,3,0,2,2,0,1,1,1,0,0,2,2,0,3,0,2,1,0,0,0,0,3,2,2,1,0,0,0,1,3,2,1,2,0,1,10,0,1,0,2,0,2,0,1,3,1,1,2,0,1,0,2,0,1,0,0],\"type\":\"box\"},{\"boxpoints\":false,\"line\":{\"width\":1.3},\"marker\":{\"color\":\"rgba(128, 177, 211, 1.0)\"},\"name\":\"age_group\",\"orientation\":\"v\",\"y\":[\"40-49\",\"20-29\",\"30-39\",\"10-19\",\"20-29\",\"40-49\",\"20-29\",\"20-29\",\"40-49\",null,\"40-49\",\"20-29\",\"30-39\",null,null,\"20-29\",\"30-39\",\"40-49\",\"60-69\",\"30-39\",\"20-29\",\"20-29\",\"30-39\",\"20-29\",null,\"10-19\",\"60-69\",\"20-29\",\"20-29\",\"30-39\",\"50-59\",\"20-29\",\"20-29\",\"10-19\",null,\"20-29\",\"20-29\",\"70-79\",\"20-29\",\"40-49\",\"10-19\",null,\"30-39\",\"10-19\",\"60-69\",\"0-9\",\"20-29\",\"10-19\",\"30-39\",\"10-19\",null,null,\"20-29\",\"10-19\",\"30-39\",\"20-29\",\"30-39\",\"20-29\",\"20-29\",\"20-29\",null,\"20-29\",\"20-29\",null,\"20-29\",\"10-19\",\"20-29\",\"30-39\",\"60-69\",\"10-19\",\"20-29\",\"20-29\",null,\"10-19\",null,null,\"0-9\",\"30-39\",\"30-39\",\"60-69\",\"30-39\",null,\"50-59\",\"30-39\",\"20-29\",\"50-59\",null,null,\"20-29\",\"10-19\",\"40-49\",\"50-59\",\"40-49\",\"20-29\",\"20-29\",null,\"0-9\",\"10-19\",\"20-29\",\"0-9\",null,\"20-29\",null,\"20-29\",\"20-29\",null,\"0-9\",\"0-9\",\"30-39\",\"0-9\",null,\"60-69\",\"40-49\",\"30-39\",\"50-59\",\"10-19\",\"30-39\",\"10-19\",\"40-49\",\"10-19\",\"50-59\",\"10-19\",\"30-39\",\"30-39\",\"40-49\",\"0-9\",\"50-59\",\"30-39\",\"20-29\",\"30-39\",\"20-29\",null,\"20-29\",\"40-49\",\"30-39\",\"50-59\",\"40-49\",\"20-29\",null,\"10-19\",\"20-29\",\"50-59\",\"10-19\",\"40-49\",\"30-39\",\"20-29\",null,\"0-9\",null,\"30-39\",\"20-29\",\"30-39\"],\"type\":\"box\"}],                        {\"legend\":{\"bgcolor\":\"#F5F6F9\",\"font\":{\"color\":\"#4D5663\"}},\"paper_bgcolor\":\"#F5F6F9\",\"plot_bgcolor\":\"#F5F6F9\",\"template\":{\"data\":{\"barpolar\":[{\"marker\":{\"line\":{\"color\":\"#E5ECF6\",\"width\":0.5},\"pattern\":{\"fillmode\":\"overlay\",\"size\":10,\"solidity\":0.2}},\"type\":\"barpolar\"}],\"bar\":[{\"error_x\":{\"color\":\"#2a3f5f\"},\"error_y\":{\"color\":\"#2a3f5f\"},\"marker\":{\"line\":{\"color\":\"#E5ECF6\",\"width\":0.5},\"pattern\":{\"fillmode\":\"overlay\",\"size\":10,\"solidity\":0.2}},\"type\":\"bar\"}],\"carpet\":[{\"aaxis\":{\"endlinecolor\":\"#2a3f5f\",\"gridcolor\":\"white\",\"linecolor\":\"white\",\"minorgridcolor\":\"white\",\"startlinecolor\":\"#2a3f5f\"},\"baxis\":{\"endlinecolor\":\"#2a3f5f\",\"gridcolor\":\"white\",\"linecolor\":\"white\",\"minorgridcolor\":\"white\",\"startlinecolor\":\"#2a3f5f\"},\"type\":\"carpet\"}],\"choropleth\":[{\"colorbar\":{\"outlinewidth\":0,\"ticks\":\"\"},\"type\":\"choropleth\"}],\"contourcarpet\":[{\"colorbar\":{\"outlinewidth\":0,\"ticks\":\"\"},\"type\":\"contourcarpet\"}],\"contour\":[{\"colorbar\":{\"outlinewidth\":0,\"ticks\":\"\"},\"colorscale\":[[0.0,\"#0d0887\"],[0.1111111111111111,\"#46039f\"],[0.2222222222222222,\"#7201a8\"],[0.3333333333333333,\"#9c179e\"],[0.4444444444444444,\"#bd3786\"],[0.5555555555555556,\"#d8576b\"],[0.6666666666666666,\"#ed7953\"],[0.7777777777777778,\"#fb9f3a\"],[0.8888888888888888,\"#fdca26\"],[1.0,\"#f0f921\"]],\"type\":\"contour\"}],\"heatmapgl\":[{\"colorbar\":{\"outlinewidth\":0,\"ticks\":\"\"},\"colorscale\":[[0.0,\"#0d0887\"],[0.1111111111111111,\"#46039f\"],[0.2222222222222222,\"#7201a8\"],[0.3333333333333333,\"#9c179e\"],[0.4444444444444444,\"#bd3786\"],[0.5555555555555556,\"#d8576b\"],[0.6666666666666666,\"#ed7953\"],[0.7777777777777778,\"#fb9f3a\"],[0.8888888888888888,\"#fdca26\"],[1.0,\"#f0f921\"]],\"type\":\"heatmapgl\"}],\"heatmap\":[{\"colorbar\":{\"outlinewidth\":0,\"ticks\":\"\"},\"colorscale\":[[0.0,\"#0d0887\"],[0.1111111111111111,\"#46039f\"],[0.2222222222222222,\"#7201a8\"],[0.3333333333333333,\"#9c179e\"],[0.4444444444444444,\"#bd3786\"],[0.5555555555555556,\"#d8576b\"],[0.6666666666666666,\"#ed7953\"],[0.7777777777777778,\"#fb9f3a\"],[0.8888888888888888,\"#fdca26\"],[1.0,\"#f0f921\"]],\"type\":\"heatmap\"}],\"histogram2dcontour\":[{\"colorbar\":{\"outlinewidth\":0,\"ticks\":\"\"},\"colorscale\":[[0.0,\"#0d0887\"],[0.1111111111111111,\"#46039f\"],[0.2222222222222222,\"#7201a8\"],[0.3333333333333333,\"#9c179e\"],[0.4444444444444444,\"#bd3786\"],[0.5555555555555556,\"#d8576b\"],[0.6666666666666666,\"#ed7953\"],[0.7777777777777778,\"#fb9f3a\"],[0.8888888888888888,\"#fdca26\"],[1.0,\"#f0f921\"]],\"type\":\"histogram2dcontour\"}],\"histogram2d\":[{\"colorbar\":{\"outlinewidth\":0,\"ticks\":\"\"},\"colorscale\":[[0.0,\"#0d0887\"],[0.1111111111111111,\"#46039f\"],[0.2222222222222222,\"#7201a8\"],[0.3333333333333333,\"#9c179e\"],[0.4444444444444444,\"#bd3786\"],[0.5555555555555556,\"#d8576b\"],[0.6666666666666666,\"#ed7953\"],[0.7777777777777778,\"#fb9f3a\"],[0.8888888888888888,\"#fdca26\"],[1.0,\"#f0f921\"]],\"type\":\"histogram2d\"}],\"histogram\":[{\"marker\":{\"pattern\":{\"fillmode\":\"overlay\",\"size\":10,\"solidity\":0.2}},\"type\":\"histogram\"}],\"mesh3d\":[{\"colorbar\":{\"outlinewidth\":0,\"ticks\":\"\"},\"type\":\"mesh3d\"}],\"parcoords\":[{\"line\":{\"colorbar\":{\"outlinewidth\":0,\"ticks\":\"\"}},\"type\":\"parcoords\"}],\"pie\":[{\"automargin\":true,\"type\":\"pie\"}],\"scatter3d\":[{\"line\":{\"colorbar\":{\"outlinewidth\":0,\"ticks\":\"\"}},\"marker\":{\"colorbar\":{\"outlinewidth\":0,\"ticks\":\"\"}},\"type\":\"scatter3d\"}],\"scattercarpet\":[{\"marker\":{\"colorbar\":{\"outlinewidth\":0,\"ticks\":\"\"}},\"type\":\"scattercarpet\"}],\"scattergeo\":[{\"marker\":{\"colorbar\":{\"outlinewidth\":0,\"ticks\":\"\"}},\"type\":\"scattergeo\"}],\"scattergl\":[{\"marker\":{\"colorbar\":{\"outlinewidth\":0,\"ticks\":\"\"}},\"type\":\"scattergl\"}],\"scattermapbox\":[{\"marker\":{\"colorbar\":{\"outlinewidth\":0,\"ticks\":\"\"}},\"type\":\"scattermapbox\"}],\"scatterpolargl\":[{\"marker\":{\"colorbar\":{\"outlinewidth\":0,\"ticks\":\"\"}},\"type\":\"scatterpolargl\"}],\"scatterpolar\":[{\"marker\":{\"colorbar\":{\"outlinewidth\":0,\"ticks\":\"\"}},\"type\":\"scatterpolar\"}],\"scatter\":[{\"fillpattern\":{\"fillmode\":\"overlay\",\"size\":10,\"solidity\":0.2},\"type\":\"scatter\"}],\"scatterternary\":[{\"marker\":{\"colorbar\":{\"outlinewidth\":0,\"ticks\":\"\"}},\"type\":\"scatterternary\"}],\"surface\":[{\"colorbar\":{\"outlinewidth\":0,\"ticks\":\"\"},\"colorscale\":[[0.0,\"#0d0887\"],[0.1111111111111111,\"#46039f\"],[0.2222222222222222,\"#7201a8\"],[0.3333333333333333,\"#9c179e\"],[0.4444444444444444,\"#bd3786\"],[0.5555555555555556,\"#d8576b\"],[0.6666666666666666,\"#ed7953\"],[0.7777777777777778,\"#fb9f3a\"],[0.8888888888888888,\"#fdca26\"],[1.0,\"#f0f921\"]],\"type\":\"surface\"}],\"table\":[{\"cells\":{\"fill\":{\"color\":\"#EBF0F8\"},\"line\":{\"color\":\"white\"}},\"header\":{\"fill\":{\"color\":\"#C8D4E3\"},\"line\":{\"color\":\"white\"}},\"type\":\"table\"}]},\"layout\":{\"annotationdefaults\":{\"arrowcolor\":\"#2a3f5f\",\"arrowhead\":0,\"arrowwidth\":1},\"autotypenumbers\":\"strict\",\"coloraxis\":{\"colorbar\":{\"outlinewidth\":0,\"ticks\":\"\"}},\"colorscale\":{\"diverging\":[[0,\"#8e0152\"],[0.1,\"#c51b7d\"],[0.2,\"#de77ae\"],[0.3,\"#f1b6da\"],[0.4,\"#fde0ef\"],[0.5,\"#f7f7f7\"],[0.6,\"#e6f5d0\"],[0.7,\"#b8e186\"],[0.8,\"#7fbc41\"],[0.9,\"#4d9221\"],[1,\"#276419\"]],\"sequential\":[[0.0,\"#0d0887\"],[0.1111111111111111,\"#46039f\"],[0.2222222222222222,\"#7201a8\"],[0.3333333333333333,\"#9c179e\"],[0.4444444444444444,\"#bd3786\"],[0.5555555555555556,\"#d8576b\"],[0.6666666666666666,\"#ed7953\"],[0.7777777777777778,\"#fb9f3a\"],[0.8888888888888888,\"#fdca26\"],[1.0,\"#f0f921\"]],\"sequentialminus\":[[0.0,\"#0d0887\"],[0.1111111111111111,\"#46039f\"],[0.2222222222222222,\"#7201a8\"],[0.3333333333333333,\"#9c179e\"],[0.4444444444444444,\"#bd3786\"],[0.5555555555555556,\"#d8576b\"],[0.6666666666666666,\"#ed7953\"],[0.7777777777777778,\"#fb9f3a\"],[0.8888888888888888,\"#fdca26\"],[1.0,\"#f0f921\"]]},\"colorway\":[\"#636efa\",\"#EF553B\",\"#00cc96\",\"#ab63fa\",\"#FFA15A\",\"#19d3f3\",\"#FF6692\",\"#B6E880\",\"#FF97FF\",\"#FECB52\"],\"font\":{\"color\":\"#2a3f5f\"},\"geo\":{\"bgcolor\":\"white\",\"lakecolor\":\"white\",\"landcolor\":\"#E5ECF6\",\"showlakes\":true,\"showland\":true,\"subunitcolor\":\"white\"},\"hoverlabel\":{\"align\":\"left\"},\"hovermode\":\"closest\",\"mapbox\":{\"style\":\"light\"},\"paper_bgcolor\":\"white\",\"plot_bgcolor\":\"#E5ECF6\",\"polar\":{\"angularaxis\":{\"gridcolor\":\"white\",\"linecolor\":\"white\",\"ticks\":\"\"},\"bgcolor\":\"#E5ECF6\",\"radialaxis\":{\"gridcolor\":\"white\",\"linecolor\":\"white\",\"ticks\":\"\"}},\"scene\":{\"xaxis\":{\"backgroundcolor\":\"#E5ECF6\",\"gridcolor\":\"white\",\"gridwidth\":2,\"linecolor\":\"white\",\"showbackground\":true,\"ticks\":\"\",\"zerolinecolor\":\"white\"},\"yaxis\":{\"backgroundcolor\":\"#E5ECF6\",\"gridcolor\":\"white\",\"gridwidth\":2,\"linecolor\":\"white\",\"showbackground\":true,\"ticks\":\"\",\"zerolinecolor\":\"white\"},\"zaxis\":{\"backgroundcolor\":\"#E5ECF6\",\"gridcolor\":\"white\",\"gridwidth\":2,\"linecolor\":\"white\",\"showbackground\":true,\"ticks\":\"\",\"zerolinecolor\":\"white\"}},\"shapedefaults\":{\"line\":{\"color\":\"#2a3f5f\"}},\"ternary\":{\"aaxis\":{\"gridcolor\":\"white\",\"linecolor\":\"white\",\"ticks\":\"\"},\"baxis\":{\"gridcolor\":\"white\",\"linecolor\":\"white\",\"ticks\":\"\"},\"bgcolor\":\"#E5ECF6\",\"caxis\":{\"gridcolor\":\"white\",\"linecolor\":\"white\",\"ticks\":\"\"}},\"title\":{\"x\":0.05},\"xaxis\":{\"automargin\":true,\"gridcolor\":\"white\",\"linecolor\":\"white\",\"ticks\":\"\",\"title\":{\"standoff\":15},\"zerolinecolor\":\"white\",\"zerolinewidth\":2},\"yaxis\":{\"automargin\":true,\"gridcolor\":\"white\",\"linecolor\":\"white\",\"ticks\":\"\",\"title\":{\"standoff\":15},\"zerolinecolor\":\"white\",\"zerolinewidth\":2}}},\"title\":{\"font\":{\"color\":\"#4D5663\"}},\"xaxis\":{\"gridcolor\":\"#E1E5ED\",\"showgrid\":true,\"tickfont\":{\"color\":\"#4D5663\"},\"title\":{\"font\":{\"color\":\"#4D5663\"},\"text\":\"\"},\"zerolinecolor\":\"#E1E5ED\"},\"yaxis\":{\"gridcolor\":\"#E1E5ED\",\"showgrid\":true,\"tickfont\":{\"color\":\"#4D5663\"},\"title\":{\"font\":{\"color\":\"#4D5663\"},\"text\":\"\"},\"zerolinecolor\":\"#E1E5ED\"}},                        {\"showLink\": true, \"linkText\": \"Export to plot.ly\", \"plotlyServerURL\": \"https://plot.ly\", \"responsive\": true}                    ).then(function(){\n",
       "                            \n",
       "var gd = document.getElementById('bc06d75f-cfb0-4374-989d-32e354a03088');\n",
       "var x = new MutationObserver(function (mutations, observer) {{\n",
       "        var display = window.getComputedStyle(gd).display;\n",
       "        if (!display || display === 'none') {{\n",
       "            console.log([gd, 'removed!']);\n",
       "            Plotly.purge(gd);\n",
       "            observer.disconnect();\n",
       "        }}\n",
       "}});\n",
       "\n",
       "// Listen for the removal of the full notebook cells\n",
       "var notebookContainer = gd.closest('#notebook-container');\n",
       "if (notebookContainer) {{\n",
       "    x.observe(notebookContainer, {childList: true});\n",
       "}}\n",
       "\n",
       "// Listen for the clearing of the current output cell\n",
       "var outputEl = gd.closest('.output');\n",
       "if (outputEl) {{\n",
       "    x.observe(outputEl, {childList: true});\n",
       "}}\n",
       "\n",
       "                        })                };                });            </script>        </div>"
      ]
     },
     "metadata": {},
     "output_type": "display_data"
    }
   ],
   "source": [
    "titanic.iplot(kind='box')"
   ]
  },
  {
   "cell_type": "code",
   "execution_count": null,
   "id": "assumed-receiver",
   "metadata": {
    "papermill": {
     "duration": 0.114715,
     "end_time": "2021-06-14T14:05:12.481726",
     "exception": false,
     "start_time": "2021-06-14T14:05:12.367011",
     "status": "completed"
    },
    "tags": []
   },
   "outputs": [],
   "source": []
  }
 ],
 "metadata": {
  "kernelspec": {
   "display_name": "Python 3.10.6 64-bit",
   "language": "python",
   "name": "python3"
  },
  "language_info": {
   "codemirror_mode": {
    "name": "ipython",
    "version": 3
   },
   "file_extension": ".py",
   "mimetype": "text/x-python",
   "name": "python",
   "nbconvert_exporter": "python",
   "pygments_lexer": "ipython3",
   "version": "3.10.6"
  },
  "papermill": {
   "default_parameters": {},
   "duration": 26.972849,
   "end_time": "2021-06-14T14:05:13.617782",
   "environment_variables": {},
   "exception": null,
   "input_path": "__notebook__.ipynb",
   "output_path": "__notebook__.ipynb",
   "parameters": {},
   "start_time": "2021-06-14T14:04:46.644933",
   "version": "2.3.2"
  },
  "vscode": {
   "interpreter": {
    "hash": "d9b5d5ccfa2a39a1a0d2f36563eb706df95703394a033b14f208f93362b3d32f"
   }
  }
 },
 "nbformat": 4,
 "nbformat_minor": 5
}
